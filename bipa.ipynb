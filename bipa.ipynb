{
 "cells": [
  {
   "cell_type": "markdown",
   "id": "bf2c30fb",
   "metadata": {},
   "source": [
    "<h3>Team Forest<br/>\n",
    "Biomedial Image Processing Application (BIPA)<br/>\n",
    "CSC821, Prof. K. Okada<br/>\n",
    "Spring 2022</h3>\n",
    "\n",
    "Please note: this code uses the Dicom images downloadable at https://wiki.cancerimagingarchive.net/pages/viewpage.action?pageId=80969742#80969742bcab02c187174a288dbcbf95d26179e8. Downloading the images requires first installing the NBIA Data Retriever on your local machine which is available in the App Store."
   ]
  },
  {
   "cell_type": "markdown",
   "id": "58cfff23",
   "metadata": {},
   "source": [
    "<h2>Image I/O</h2>"
   ]
  },
  {
   "cell_type": "code",
   "execution_count": 16,
   "id": "617a5729",
   "metadata": {},
   "outputs": [],
   "source": [
    "%matplotlib inline\n",
    "import matplotlib.pyplot as plt\n",
    "import SimpleITK as sitk\n",
    "\n",
    "import sys\n",
    "import os"
   ]
  },
  {
   "cell_type": "code",
   "execution_count": 2,
   "id": "a92e4286",
   "metadata": {},
   "outputs": [
    {
     "name": "stdout",
     "output_type": "stream",
     "text": [
      "Reading Dicom directory: NBIA_images/manifest-1608266677008/MIDRC-RICORD-1A/MIDRC-RICORD-1A-419639-000082/08-02-2002-NA-CT CHEST WITHOUT CONTRAST-04614/2.000000-ROUTINE CHEST NON-CON-97100\n",
      "Image size: 512 512 255\n",
      "Writing image: MIDRC-RICORD-1A_axial_image.nii\n"
     ]
    }
   ],
   "source": [
    "# example of reading Dicom images from COVID dataset, exporting, and showing outputting 3D image\n",
    "# axial scan of covid-infected lung showing disease markers\n",
    "\n",
    "# TO-DO: manually setting path here, need an interface to take input\n",
    "dicom_dir = \"NBIA_images/manifest-1608266677008/MIDRC-RICORD-1A/MIDRC-RICORD-1A-419639-000082/08-02-2002-NA-CT CHEST WITHOUT CONTRAST-04614/2.000000-ROUTINE CHEST NON-CON-97100\"\n",
    "\n",
    "print(\"Reading Dicom directory:\", dicom_dir)\n",
    "reader = sitk.ImageSeriesReader()\n",
    "\n",
    "dicom_names = reader.GetGDCMSeriesFileNames(dicom_dir)\n",
    "reader.SetFileNames(dicom_names)\n",
    "\n",
    "image = reader.Execute()\n",
    "\n",
    "size = image.GetSize()\n",
    "print(\"Image size:\", size[0], size[1], size[2])\n",
    "\n",
    "print(\"Writing image:\", \"MIDRC-RICORD-1A_axial_image.nii\")\n",
    "\n",
    "sitk.WriteImage(image, \"MIDRC-RICORD-1A_axial_image.nii\")\n",
    "\n",
    "if (\"SITK_NOSHOW\" not in os.environ):\n",
    "    sitk.Show(image, \"Dicom Series\")"
   ]
  },
  {
   "cell_type": "code",
   "execution_count": 3,
   "id": "8fe5f0fb",
   "metadata": {},
   "outputs": [
    {
     "name": "stdout",
     "output_type": "stream",
     "text": [
      "origin: (-192.1999969482422, -180.0, -349.25)\n",
      "size: (512, 512, 255)\n",
      "spacing: (0.703125, 0.703125, 1.25)\n",
      "direction: (1.0, 0.0, 0.0, 0.0, 1.0, 0.0, 0.0, 0.0, 1.0)\n",
      "\n",
      "Dimensions: 3\n",
      "Width: 512\n",
      "Height: 512\n",
      "Depth: 255\n",
      "Pixel ID: 4\n",
      "Pixel Type: 32-bit signed integer\n",
      "Components Per Pixel: 1\n"
     ]
    }
   ],
   "source": [
    "# example of 3D image attributes\n",
    "covid_example = sitk.ReadImage(\"./MIDRC-RICORD-1A_axial_image.nii\")\n",
    "\n",
    "print(f\"origin: {covid_example.GetOrigin()}\")\n",
    "print(f\"size: {covid_example.GetSize()}\")\n",
    "print(f\"spacing: {covid_example.GetSpacing()}\")\n",
    "print(f\"direction: {covid_example.GetDirection()}\\n\")\n",
    "\n",
    "print(\"Dimensions: \" + str(covid_example.GetDimension()))\n",
    "print(\"Width: \" + str(covid_example.GetWidth()))\n",
    "print(\"Height: \" + str(covid_example.GetHeight()))\n",
    "print(\"Depth: \" + str(covid_example.GetDepth()))\n",
    "print(\"Pixel ID: \" + str(covid_example.GetPixelIDValue()))\n",
    "print(\"Pixel Type: \" + str(covid_example.GetPixelIDTypeAsString()))\n",
    "print(\"Components Per Pixel: \" + str(covid_example.GetNumberOfComponentsPerPixel()))"
   ]
  },
  {
   "cell_type": "code",
   "execution_count": 4,
   "id": "11f5ebdc",
   "metadata": {},
   "outputs": [
    {
     "data": {
      "application/vnd.jupyter.widget-view+json": {
       "model_id": "05ce18f4025249dcb3f133ad9fed7957",
       "version_major": 2,
       "version_minor": 0
      },
      "text/plain": [
       "interactive(children=(Dropdown(description='series_to_load', options=('1.2.826.0.1.3680043.10.474.419639.44260…"
      ]
     },
     "metadata": {},
     "output_type": "display_data"
    }
   ],
   "source": [
    "\n",
    "# extract modalities of various embedded scans\n",
    "from ipywidgets import interact, fixed\n",
    "\n",
    "data_directory = \"NBIA_images/manifest-1608266677008/MIDRC-RICORD-1A/MIDRC-RICORD-1A-419639-000361/10-21-2002-NA-CT CHEST WITHOUT CONTRAST-91670/2.000000-ROUTINE CHEST NON-CON-50599\"\n",
    "# Global variable 'selected_series' is updated by the interact function\n",
    "selected_series = \"\"\n",
    "file_reader = sitk.ImageFileReader()\n",
    "\n",
    "\n",
    "def DICOM_series_dropdown_callback(series_to_load, series_dictionary):\n",
    "    global selected_series\n",
    "    # Print some information about the series from the meta-data dictionary\n",
    "    # DICOM standard part 6, Data Dictionary: http://medical.nema.org/medical/dicom/current/output/pdf/part06.pdf\n",
    "    file_reader.SetFileName(series_dictionary[series_to_load][0])\n",
    "    file_reader.ReadImageInformation()\n",
    "    tags_to_print = {\n",
    "        \"0010|0010\": \"Patient name: \",\n",
    "        \"0008|0060\": \"Modality: \",\n",
    "        \"0008|0021\": \"Series date: \",\n",
    "        \"0008|0080\": \"Institution name: \",\n",
    "        \"0008|1050\": \"Performing physician's name: \",\n",
    "    }\n",
    "    for tag in tags_to_print:\n",
    "        try:\n",
    "            print(tags_to_print[tag] + file_reader.GetMetaData(tag))\n",
    "        except:  # Ignore if the tag isn't in the dictionary\n",
    "            pass\n",
    "    selected_series = series_to_load\n",
    "\n",
    "\n",
    "# Directory contains multiple DICOM studies/series, store\n",
    "# in dictionary with key being the series ID\n",
    "reader = sitk.ImageSeriesReader()\n",
    "series_file_names = {}\n",
    "series_IDs = reader.GetGDCMSeriesIDs(data_directory)\n",
    "# Check that we have at least one series\n",
    "if series_IDs:\n",
    "    for series in series_IDs:\n",
    "        series_file_names[series] = reader.GetGDCMSeriesFileNames(\n",
    "            data_directory, series\n",
    "        )\n",
    "\n",
    "    interact(\n",
    "        DICOM_series_dropdown_callback,\n",
    "        series_to_load=list(series_IDs),\n",
    "        series_dictionary=fixed(series_file_names),\n",
    "    )\n",
    "else:\n",
    "    print(\"Data directory does not contain any DICOM series.\")"
   ]
  },
  {
   "cell_type": "markdown",
   "id": "d64184b0",
   "metadata": {},
   "source": [
    "<h2>Registration</h2>"
   ]
  },
  {
   "cell_type": "code",
   "execution_count": 5,
   "id": "4a978b45",
   "metadata": {},
   "outputs": [
    {
     "name": "stdout",
     "output_type": "stream",
     "text": [
      "Reading Dicom directory: NBIA_images/manifest-1608266677008/MIDRC-RICORD-1A/MIDRC-RICORD-1A-419639-000082/08-02-2002-NA-CT CHEST WITHOUT CONTRAST-04614/601.000000-COR 3X3-86740\n",
      "Image size: 512 512 106\n",
      "Writing image: MIDRC-RICORD-1A_coronal_image.nii\n"
     ]
    }
   ],
   "source": [
    "# coronal scan of same patient's covid-infected lung showing disease markers\n",
    "\n",
    "# TO-DO: manually setting path here, need an interface to take input\n",
    "dicom_dir = \"NBIA_images/manifest-1608266677008/MIDRC-RICORD-1A/MIDRC-RICORD-1A-419639-000082/08-02-2002-NA-CT CHEST WITHOUT CONTRAST-04614/601.000000-COR 3X3-86740\"\n",
    "\n",
    "print(\"Reading Dicom directory:\", dicom_dir)\n",
    "reader = sitk.ImageSeriesReader()\n",
    "\n",
    "dicom_names = reader.GetGDCMSeriesFileNames(dicom_dir)\n",
    "\n",
    "reader.SetFileNames(dicom_names)\n",
    "\n",
    "image = reader.Execute()\n",
    "\n",
    "size = image.GetSize()\n",
    "print(\"Image size:\", size[0], size[1], size[2])\n",
    "\n",
    "print(\"Writing image:\", \"MIDRC-RICORD-1A_coronal_image.nii\")\n",
    "\n",
    "sitk.WriteImage(image, \"MIDRC-RICORD-1A_coronal_image.nii\")\n",
    "\n",
    "if (\"SITK_NOSHOW\" not in os.environ):\n",
    "    sitk.Show(image, \"Dicom Series\")"
   ]
  },
  {
   "cell_type": "code",
   "execution_count": 6,
   "id": "4ad4e5b0",
   "metadata": {},
   "outputs": [
    {
     "name": "stdout",
     "output_type": "stream",
     "text": [
      "Dimensions: 3\n",
      "Width: 512\n",
      "Height: 512\n",
      "Depth: 106\n",
      "Pixel ID: 4\n",
      "Pixel Type: 32-bit signed integer\n",
      "Components Per Pixel: 1\n"
     ]
    }
   ],
   "source": [
    "covid_example = sitk.ReadImage(\"./MIDRC-RICORD-1A_coronal_image.nii\")\n",
    "\n",
    "print(\"Dimensions: \" + str(covid_example.GetDimension()))\n",
    "print(\"Width: \" + str(covid_example.GetWidth()))\n",
    "print(\"Height: \" + str(covid_example.GetHeight()))\n",
    "print(\"Depth: \" + str(covid_example.GetDepth()))\n",
    "print(\"Pixel ID: \" + str(covid_example.GetPixelIDValue()))\n",
    "print(\"Pixel Type: \" + str(covid_example.GetPixelIDTypeAsString()))\n",
    "print(\"Components Per Pixel: \" + str(covid_example.GetNumberOfComponentsPerPixel()))"
   ]
  },
  {
   "cell_type": "code",
   "execution_count": 7,
   "id": "7b575020",
   "metadata": {},
   "outputs": [
    {
     "name": "stdout",
     "output_type": "stream",
     "text": [
      "Reading Dicom directory: stonybrook_covid/manifest-1628608914773/COVID-19-NY-SBU/A002279/12-31-1900-NA-CT CHEST WITHOUT IV CONTRAST-52731/2.000000-5 MM STANDARD-40924\n"
     ]
    },
    {
     "ename": "RuntimeError",
     "evalue": "Exception thrown in SimpleITK ImageSeriesReader_Execute: ../../Code/IO/src/sitkImageSeriesReader.cxx:129:\nsitk::ERROR: File names information is empty. Cannot read series.",
     "output_type": "error",
     "traceback": [
      "\u001b[0;31m---------------------------------------------------------------------------\u001b[0m",
      "\u001b[0;31mRuntimeError\u001b[0m                              Traceback (most recent call last)",
      "\u001b[0;32m<ipython-input-7-e472cf3daa69>\u001b[0m in \u001b[0;36m<module>\u001b[0;34m\u001b[0m\n\u001b[1;32m     11\u001b[0m \u001b[0mreader\u001b[0m\u001b[0;34m.\u001b[0m\u001b[0mSetFileNames\u001b[0m\u001b[0;34m(\u001b[0m\u001b[0mdicom_names\u001b[0m\u001b[0;34m)\u001b[0m\u001b[0;34m\u001b[0m\u001b[0;34m\u001b[0m\u001b[0m\n\u001b[1;32m     12\u001b[0m \u001b[0;34m\u001b[0m\u001b[0m\n\u001b[0;32m---> 13\u001b[0;31m \u001b[0mimage\u001b[0m \u001b[0;34m=\u001b[0m \u001b[0mreader\u001b[0m\u001b[0;34m.\u001b[0m\u001b[0mExecute\u001b[0m\u001b[0;34m(\u001b[0m\u001b[0;34m)\u001b[0m\u001b[0;34m\u001b[0m\u001b[0;34m\u001b[0m\u001b[0m\n\u001b[0m\u001b[1;32m     14\u001b[0m \u001b[0;34m\u001b[0m\u001b[0m\n\u001b[1;32m     15\u001b[0m \u001b[0msize\u001b[0m \u001b[0;34m=\u001b[0m \u001b[0mimage\u001b[0m\u001b[0;34m.\u001b[0m\u001b[0mGetSize\u001b[0m\u001b[0;34m(\u001b[0m\u001b[0;34m)\u001b[0m\u001b[0;34m\u001b[0m\u001b[0;34m\u001b[0m\u001b[0m\n",
      "\u001b[0;32m~/opt/anaconda3/lib/python3.8/site-packages/SimpleITK/SimpleITK.py\u001b[0m in \u001b[0;36mExecute\u001b[0;34m(self)\u001b[0m\n\u001b[1;32m   5723\u001b[0m     \u001b[0;32mdef\u001b[0m \u001b[0mExecute\u001b[0m\u001b[0;34m(\u001b[0m\u001b[0mself\u001b[0m\u001b[0;34m)\u001b[0m\u001b[0;34m:\u001b[0m\u001b[0;34m\u001b[0m\u001b[0;34m\u001b[0m\u001b[0m\n\u001b[1;32m   5724\u001b[0m         \u001b[0;34mr\"\"\"Execute(ImageSeriesReader self) -> Image\"\"\"\u001b[0m\u001b[0;34m\u001b[0m\u001b[0;34m\u001b[0m\u001b[0m\n\u001b[0;32m-> 5725\u001b[0;31m         \u001b[0;32mreturn\u001b[0m \u001b[0m_SimpleITK\u001b[0m\u001b[0;34m.\u001b[0m\u001b[0mImageSeriesReader_Execute\u001b[0m\u001b[0;34m(\u001b[0m\u001b[0mself\u001b[0m\u001b[0;34m)\u001b[0m\u001b[0;34m\u001b[0m\u001b[0;34m\u001b[0m\u001b[0m\n\u001b[0m\u001b[1;32m   5726\u001b[0m \u001b[0;34m\u001b[0m\u001b[0m\n\u001b[1;32m   5727\u001b[0m     \u001b[0;32mdef\u001b[0m \u001b[0mGetMetaDataKeys\u001b[0m\u001b[0;34m(\u001b[0m\u001b[0mself\u001b[0m\u001b[0;34m,\u001b[0m \u001b[0mslice\u001b[0m\u001b[0;34m)\u001b[0m\u001b[0;34m:\u001b[0m\u001b[0;34m\u001b[0m\u001b[0;34m\u001b[0m\u001b[0m\n",
      "\u001b[0;31mRuntimeError\u001b[0m: Exception thrown in SimpleITK ImageSeriesReader_Execute: ../../Code/IO/src/sitkImageSeriesReader.cxx:129:\nsitk::ERROR: File names information is empty. Cannot read series."
     ]
    }
   ],
   "source": [
    "# axial scan of Stonybrook patient A00279's covid-infected lung showing disease markers\n",
    "\n",
    "# TO-DO: manually setting path here, need an interface to take input\n",
    "dicom_dir = \"stonybrook_covid/manifest-1628608914773/COVID-19-NY-SBU/A002279/12-31-1900-NA-CT CHEST WITHOUT IV CONTRAST-52731/2.000000-5 MM STANDARD-40924\"\n",
    "\n",
    "print(\"Reading Dicom directory:\", dicom_dir)\n",
    "reader = sitk.ImageSeriesReader()\n",
    "\n",
    "dicom_names = reader.GetGDCMSeriesFileNames(dicom_dir)\n",
    "\n",
    "reader.SetFileNames(dicom_names)\n",
    "\n",
    "image = reader.Execute()\n",
    "\n",
    "size = image.GetSize()\n",
    "print(\"Image size:\", size[0], size[1], size[2])\n",
    "\n",
    "print(\"Writing image:\", \"stonybrook_A002279_2.nii\")\n",
    "\n",
    "sitk.WriteImage(image, \"stonybrook_A002279_2.nii\")\n",
    "\n",
    "if (\"SITK_NOSHOW\" not in os.environ):\n",
    "    sitk.Show(image, \"Dicom Series\")"
   ]
  },
  {
   "cell_type": "code",
   "execution_count": 8,
   "id": "853c5015",
   "metadata": {},
   "outputs": [
    {
     "name": "stdout",
     "output_type": "stream",
     "text": [
      "Reading Dicom directory: stonybrook_covid/manifest-1628608914773/COVID-19-NY-SBU/A002279/12-31-1900-NA-CT CHEST WITHOUT IV CONTRAST-52731/3.000000-LUNG 5 MM-65792\n"
     ]
    },
    {
     "ename": "RuntimeError",
     "evalue": "Exception thrown in SimpleITK ImageSeriesReader_Execute: ../../Code/IO/src/sitkImageSeriesReader.cxx:129:\nsitk::ERROR: File names information is empty. Cannot read series.",
     "output_type": "error",
     "traceback": [
      "\u001b[0;31m---------------------------------------------------------------------------\u001b[0m",
      "\u001b[0;31mRuntimeError\u001b[0m                              Traceback (most recent call last)",
      "\u001b[0;32m<ipython-input-8-fa950a42c05a>\u001b[0m in \u001b[0;36m<module>\u001b[0;34m\u001b[0m\n\u001b[1;32m      9\u001b[0m \u001b[0mreader\u001b[0m\u001b[0;34m.\u001b[0m\u001b[0mSetFileNames\u001b[0m\u001b[0;34m(\u001b[0m\u001b[0mdicom_names\u001b[0m\u001b[0;34m)\u001b[0m\u001b[0;34m\u001b[0m\u001b[0;34m\u001b[0m\u001b[0m\n\u001b[1;32m     10\u001b[0m \u001b[0;34m\u001b[0m\u001b[0m\n\u001b[0;32m---> 11\u001b[0;31m \u001b[0mimage\u001b[0m \u001b[0;34m=\u001b[0m \u001b[0mreader\u001b[0m\u001b[0;34m.\u001b[0m\u001b[0mExecute\u001b[0m\u001b[0;34m(\u001b[0m\u001b[0;34m)\u001b[0m\u001b[0;34m\u001b[0m\u001b[0;34m\u001b[0m\u001b[0m\n\u001b[0m\u001b[1;32m     12\u001b[0m \u001b[0;34m\u001b[0m\u001b[0m\n\u001b[1;32m     13\u001b[0m \u001b[0msize\u001b[0m \u001b[0;34m=\u001b[0m \u001b[0mimage\u001b[0m\u001b[0;34m.\u001b[0m\u001b[0mGetSize\u001b[0m\u001b[0;34m(\u001b[0m\u001b[0;34m)\u001b[0m\u001b[0;34m\u001b[0m\u001b[0;34m\u001b[0m\u001b[0m\n",
      "\u001b[0;32m~/opt/anaconda3/lib/python3.8/site-packages/SimpleITK/SimpleITK.py\u001b[0m in \u001b[0;36mExecute\u001b[0;34m(self)\u001b[0m\n\u001b[1;32m   5723\u001b[0m     \u001b[0;32mdef\u001b[0m \u001b[0mExecute\u001b[0m\u001b[0;34m(\u001b[0m\u001b[0mself\u001b[0m\u001b[0;34m)\u001b[0m\u001b[0;34m:\u001b[0m\u001b[0;34m\u001b[0m\u001b[0;34m\u001b[0m\u001b[0m\n\u001b[1;32m   5724\u001b[0m         \u001b[0;34mr\"\"\"Execute(ImageSeriesReader self) -> Image\"\"\"\u001b[0m\u001b[0;34m\u001b[0m\u001b[0;34m\u001b[0m\u001b[0m\n\u001b[0;32m-> 5725\u001b[0;31m         \u001b[0;32mreturn\u001b[0m \u001b[0m_SimpleITK\u001b[0m\u001b[0;34m.\u001b[0m\u001b[0mImageSeriesReader_Execute\u001b[0m\u001b[0;34m(\u001b[0m\u001b[0mself\u001b[0m\u001b[0;34m)\u001b[0m\u001b[0;34m\u001b[0m\u001b[0;34m\u001b[0m\u001b[0m\n\u001b[0m\u001b[1;32m   5726\u001b[0m \u001b[0;34m\u001b[0m\u001b[0m\n\u001b[1;32m   5727\u001b[0m     \u001b[0;32mdef\u001b[0m \u001b[0mGetMetaDataKeys\u001b[0m\u001b[0;34m(\u001b[0m\u001b[0mself\u001b[0m\u001b[0;34m,\u001b[0m \u001b[0mslice\u001b[0m\u001b[0;34m)\u001b[0m\u001b[0;34m:\u001b[0m\u001b[0;34m\u001b[0m\u001b[0;34m\u001b[0m\u001b[0m\n",
      "\u001b[0;31mRuntimeError\u001b[0m: Exception thrown in SimpleITK ImageSeriesReader_Execute: ../../Code/IO/src/sitkImageSeriesReader.cxx:129:\nsitk::ERROR: File names information is empty. Cannot read series."
     ]
    }
   ],
   "source": [
    "# TO-DO: manually setting path here, need an interface to take input\n",
    "dicom_dir = \"stonybrook_covid/manifest-1628608914773/COVID-19-NY-SBU/A002279/12-31-1900-NA-CT CHEST WITHOUT IV CONTRAST-52731/3.000000-LUNG 5 MM-65792\"\n",
    "\n",
    "print(\"Reading Dicom directory:\", dicom_dir)\n",
    "reader = sitk.ImageSeriesReader()\n",
    "\n",
    "dicom_names = reader.GetGDCMSeriesFileNames(dicom_dir)\n",
    "\n",
    "reader.SetFileNames(dicom_names)\n",
    "\n",
    "image = reader.Execute()\n",
    "\n",
    "size = image.GetSize()\n",
    "print(\"Image size:\", size[0], size[1], size[2])\n",
    "\n",
    "print(\"Writing image:\", \"stonybrook_A002279_3.nii\")\n",
    "\n",
    "sitk.WriteImage(image, \"stonybrook_A002279_3.nii\")\n",
    "\n",
    "if (\"SITK_NOSHOW\" not in os.environ):\n",
    "    sitk.Show(image, \"Dicom Series\")"
   ]
  },
  {
   "cell_type": "code",
   "execution_count": 9,
   "id": "29693079",
   "metadata": {},
   "outputs": [
    {
     "name": "stdout",
     "output_type": "stream",
     "text": [
      "Reading Dicom directory: stonybrook_covid/manifest-1628608914773/COVID-19-NY-SBU/A002279/12-31-1900-NA-CT CHEST WITHOUT IV CONTRAST-52731/4.000000-LUNG HR 1.25 MM-54929\n"
     ]
    },
    {
     "ename": "RuntimeError",
     "evalue": "Exception thrown in SimpleITK ImageSeriesReader_Execute: ../../Code/IO/src/sitkImageSeriesReader.cxx:129:\nsitk::ERROR: File names information is empty. Cannot read series.",
     "output_type": "error",
     "traceback": [
      "\u001b[0;31m---------------------------------------------------------------------------\u001b[0m",
      "\u001b[0;31mRuntimeError\u001b[0m                              Traceback (most recent call last)",
      "\u001b[0;32m<ipython-input-9-0b299c0387ba>\u001b[0m in \u001b[0;36m<module>\u001b[0;34m\u001b[0m\n\u001b[1;32m      9\u001b[0m \u001b[0mreader\u001b[0m\u001b[0;34m.\u001b[0m\u001b[0mSetFileNames\u001b[0m\u001b[0;34m(\u001b[0m\u001b[0mdicom_names\u001b[0m\u001b[0;34m)\u001b[0m\u001b[0;34m\u001b[0m\u001b[0;34m\u001b[0m\u001b[0m\n\u001b[1;32m     10\u001b[0m \u001b[0;34m\u001b[0m\u001b[0m\n\u001b[0;32m---> 11\u001b[0;31m \u001b[0mimage\u001b[0m \u001b[0;34m=\u001b[0m \u001b[0mreader\u001b[0m\u001b[0;34m.\u001b[0m\u001b[0mExecute\u001b[0m\u001b[0;34m(\u001b[0m\u001b[0;34m)\u001b[0m\u001b[0;34m\u001b[0m\u001b[0;34m\u001b[0m\u001b[0m\n\u001b[0m\u001b[1;32m     12\u001b[0m \u001b[0;34m\u001b[0m\u001b[0m\n\u001b[1;32m     13\u001b[0m \u001b[0msize\u001b[0m \u001b[0;34m=\u001b[0m \u001b[0mimage\u001b[0m\u001b[0;34m.\u001b[0m\u001b[0mGetSize\u001b[0m\u001b[0;34m(\u001b[0m\u001b[0;34m)\u001b[0m\u001b[0;34m\u001b[0m\u001b[0;34m\u001b[0m\u001b[0m\n",
      "\u001b[0;32m~/opt/anaconda3/lib/python3.8/site-packages/SimpleITK/SimpleITK.py\u001b[0m in \u001b[0;36mExecute\u001b[0;34m(self)\u001b[0m\n\u001b[1;32m   5723\u001b[0m     \u001b[0;32mdef\u001b[0m \u001b[0mExecute\u001b[0m\u001b[0;34m(\u001b[0m\u001b[0mself\u001b[0m\u001b[0;34m)\u001b[0m\u001b[0;34m:\u001b[0m\u001b[0;34m\u001b[0m\u001b[0;34m\u001b[0m\u001b[0m\n\u001b[1;32m   5724\u001b[0m         \u001b[0;34mr\"\"\"Execute(ImageSeriesReader self) -> Image\"\"\"\u001b[0m\u001b[0;34m\u001b[0m\u001b[0;34m\u001b[0m\u001b[0m\n\u001b[0;32m-> 5725\u001b[0;31m         \u001b[0;32mreturn\u001b[0m \u001b[0m_SimpleITK\u001b[0m\u001b[0;34m.\u001b[0m\u001b[0mImageSeriesReader_Execute\u001b[0m\u001b[0;34m(\u001b[0m\u001b[0mself\u001b[0m\u001b[0;34m)\u001b[0m\u001b[0;34m\u001b[0m\u001b[0;34m\u001b[0m\u001b[0m\n\u001b[0m\u001b[1;32m   5726\u001b[0m \u001b[0;34m\u001b[0m\u001b[0m\n\u001b[1;32m   5727\u001b[0m     \u001b[0;32mdef\u001b[0m \u001b[0mGetMetaDataKeys\u001b[0m\u001b[0;34m(\u001b[0m\u001b[0mself\u001b[0m\u001b[0;34m,\u001b[0m \u001b[0mslice\u001b[0m\u001b[0;34m)\u001b[0m\u001b[0;34m:\u001b[0m\u001b[0;34m\u001b[0m\u001b[0;34m\u001b[0m\u001b[0m\n",
      "\u001b[0;31mRuntimeError\u001b[0m: Exception thrown in SimpleITK ImageSeriesReader_Execute: ../../Code/IO/src/sitkImageSeriesReader.cxx:129:\nsitk::ERROR: File names information is empty. Cannot read series."
     ]
    }
   ],
   "source": [
    "\n",
    "# TO-DO: manually setting path here, need an interface to take input\n",
    "dicom_dir = \"stonybrook_covid/manifest-1628608914773/COVID-19-NY-SBU/A002279/12-31-1900-NA-CT CHEST WITHOUT IV CONTRAST-52731/4.000000-LUNG HR 1.25 MM-54929\"\n",
    "\n",
    "print(\"Reading Dicom directory:\", dicom_dir)\n",
    "reader = sitk.ImageSeriesReader()\n",
    "\n",
    "dicom_names = reader.GetGDCMSeriesFileNames(dicom_dir)\n",
    "\n",
    "reader.SetFileNames(dicom_names)\n",
    "\n",
    "image = reader.Execute()\n",
    "\n",
    "size = image.GetSize()\n",
    "print(\"Image size:\", size[0], size[1], size[2])\n",
    "\n",
    "print(\"Writing image:\", \"stonybrook_A002279_4.nii\")\n",
    "\n",
    "sitk.WriteImage(image, \"stonybrook_A002279_4.nii\")\n",
    "\n",
    "if (\"SITK_NOSHOW\" not in os.environ):\n",
    "    sitk.Show(image, \"Dicom Series\")"
   ]
  },
  {
   "cell_type": "code",
   "execution_count": 10,
   "id": "b223df19",
   "metadata": {},
   "outputs": [
    {
     "name": "stdout",
     "output_type": "stream",
     "text": [
      "Reading Dicom directory: Subject_1/98.12.2\n",
      "Image size: 512 512 425\n",
      "Writing image: Subject_1.nii\n"
     ]
    }
   ],
   "source": [
    "# manually constructing Dicom image from data at\n",
    "# https://dataverse.harvard.edu/dataset.xhtml?persistentId=doi:10.7910/DVN/6ACUZJ, \n",
    "# Subject (1).rar extracted into folder of .dcm image files\n",
    "# exporting, and showing outputting 3D image\n",
    "\n",
    "# TO-DO: manually setting path here, need an interface to take input\n",
    "dicom_dir = \"Subject_1/98.12.2\"\n",
    "\n",
    "print(\"Reading Dicom directory:\", dicom_dir)\n",
    "reader = sitk.ImageSeriesReader()\n",
    "\n",
    "# manually build list of names for image series because reader.GetGDCMSeriesFileNames is not working\n",
    "dicom_names = []\n",
    "for i in range(56364398,56364823):\n",
    "    dicom_names.append('Subject_1/98.12.2/' + str(i) + '.dcm')\n",
    "    # dicom_names = ['Subject_1/98.12.2/56364397.dcm','Subject_1/98.12.2/56364398.dcm','Subject_1/98.12.2/56364399.dcm']\n",
    "\n",
    "reader.SetFileNames(dicom_names)\n",
    "\n",
    "image = reader.Execute()\n",
    "\n",
    "size = image.GetSize()\n",
    "print(\"Image size:\", size[0], size[1], size[2])\n",
    "\n",
    "print(\"Writing image:\", \"Subject_1.nii\")\n",
    "\n",
    "sitk.WriteImage(image, \"Subject_1.nii\")\n",
    "\n",
    "if (\"SITK_NOSHOW\" not in os.environ):\n",
    "    sitk.Show(image, \"Dicom Series\")"
   ]
  },
  {
   "cell_type": "markdown",
   "id": "68db5d88",
   "metadata": {},
   "source": [
    "<h2>Segmentation</h2>"
   ]
  },
  {
   "cell_type": "code",
   "execution_count": 2,
   "id": "c3d72938",
   "metadata": {},
   "outputs": [
    {
     "name": "stdout",
     "output_type": "stream",
     "text": [
      "Reading Dicom directory: NBIA_images/manifest-1608266677008/MIDRC-RICORD-1A/MIDRC-RICORD-1A-419639-000082/08-02-2002-NA-CT CHEST WITHOUT CONTRAST-04614/2.000000-ROUTINE CHEST NON-CON-97100\n"
     ]
    },
    {
     "data": {
      "application/vnd.jupyter.widget-view+json": {
       "model_id": "827bc5aad7a94a6f8ee86768a9cbf630",
       "version_major": 2,
       "version_minor": 0
      },
      "text/plain": [
       "interactive(children=(IntSlider(value=127, description='z', max=254), Output()), _dom_classes=('widget-interac…"
      ]
     },
     "metadata": {},
     "output_type": "display_data"
    }
   ],
   "source": [
    "from __future__ import print_function\n",
    "\n",
    "%matplotlib inline\n",
    "import matplotlib.pyplot as plt\n",
    "from ipywidgets import interact, FloatSlider\n",
    "\n",
    "import SimpleITK as sitk\n",
    "\n",
    "# Download data to work on\n",
    "%run update_path_to_download_script\n",
    "# from downloaddata import fetch_data as fdata\n",
    "from myshow import myshow, myshow3d\n",
    "  \n",
    "# Read the image\n",
    "dicom_dir = \"NBIA_images/manifest-1608266677008/MIDRC-RICORD-1A/MIDRC-RICORD-1A-419639-000082/08-02-2002-NA-CT CHEST WITHOUT CONTRAST-04614/2.000000-ROUTINE CHEST NON-CON-97100\"\n",
    "\n",
    "print(\"Reading Dicom directory:\", dicom_dir)\n",
    "reader = sitk.ImageSeriesReader()\n",
    "\n",
    "dicom_names = reader.GetGDCMSeriesFileNames(dicom_dir)\n",
    "\n",
    "reader.SetFileNames(dicom_names)\n",
    "image = reader.Execute()\n",
    "\n",
    "seg = image > 200\n",
    "myshow(sitk.LabelOverlay(image, seg), \"Basic Thresholding\")"
   ]
  },
  {
   "cell_type": "code",
   "execution_count": 4,
   "id": "a464bf00",
   "metadata": {},
   "outputs": [],
   "source": [
    "# To visualize the labels image in RGB with needs a image with 0-255 range\n",
    "image_rgb = sitk.Cast(sitk.RescaleIntensity(image), sitk.sitkUInt8)"
   ]
  },
  {
   "cell_type": "markdown",
   "id": "d044ebcb",
   "metadata": {},
   "source": [
    "<h3>Using Binary</h3>"
   ]
  },
  {
   "cell_type": "code",
   "execution_count": 5,
   "id": "47917370",
   "metadata": {},
   "outputs": [
    {
     "data": {
      "application/vnd.jupyter.widget-view+json": {
       "model_id": "0e05755e4f944db59565268bcb846bc3",
       "version_major": 2,
       "version_minor": 0
      },
      "text/plain": [
       "interactive(children=(IntSlider(value=127, description='z', max=254), Output()), _dom_classes=('widget-interac…"
      ]
     },
     "metadata": {},
     "output_type": "display_data"
    }
   ],
   "source": [
    "seg = sitk.BinaryThreshold(image, lowerThreshold=100, upperThreshold=400, insideValue=1, outsideValue=0)\n",
    "myshow(sitk.LabelOverlay(image_rgb, seg), \"Binary Thresholding\")"
   ]
  },
  {
   "cell_type": "markdown",
   "id": "e9466892",
   "metadata": {},
   "source": [
    "<h3>Using Otsu</h3>"
   ]
  },
  {
   "cell_type": "code",
   "execution_count": 6,
   "id": "09c3d4d5",
   "metadata": {
    "scrolled": true
   },
   "outputs": [
    {
     "data": {
      "application/vnd.jupyter.widget-view+json": {
       "model_id": "725fbcc4b3244bd296b8065ca8c756ff",
       "version_major": 2,
       "version_minor": 0
      },
      "text/plain": [
       "interactive(children=(IntSlider(value=127, description='z', max=254), Output()), _dom_classes=('widget-interac…"
      ]
     },
     "metadata": {},
     "output_type": "display_data"
    },
    {
     "name": "stdout",
     "output_type": "stream",
     "text": [
      "1.0\n"
     ]
    }
   ],
   "source": [
    "otsu_filter = sitk.OtsuThresholdImageFilter()\n",
    "otsu_filter.SetInsideValue(0)\n",
    "otsu_filter.SetOutsideValue(1)\n",
    "seg = otsu_filter.Execute(image_rgb)\n",
    "myshow(sitk.LabelOverlay(image_rgb, seg), \"Otsu Thresholding\")\n",
    "\n",
    "print(otsu_filter.GetThreshold() )"
   ]
  },
  {
   "cell_type": "code",
   "execution_count": 7,
   "id": "2c05517f",
   "metadata": {},
   "outputs": [],
   "source": [
    "# Using an external viewer (ITK-SNAP or 3D Slicer) we identified a visually appealing window-level setting\n",
    "T1_WINDOW_LEVEL = (1050, 500)"
   ]
  },
  {
   "cell_type": "code",
   "execution_count": 8,
   "id": "0315661a",
   "metadata": {},
   "outputs": [],
   "source": [
    "# image = sitk.ReadImage(\"NBIA_images/manifest-1608266677008/MIDRC-RICORD-1A/MIDRC-RICORD-1A-419639-000082/08-02-2002-NA-CT CHEST WITHOUT CONTRAST-04614/2.000000-ROUTINE CHEST NON-CON-97100\")\n",
    "# Rescale the intensities and map them to [0,255], these are the default values for the output\n",
    "# We will use this image to display the results of segmentation\n",
    "img_T1_255 = sitk.Cast(\n",
    "    sitk.IntensityWindowing(\n",
    "        image,\n",
    "        windowMinimum=T1_WINDOW_LEVEL[1] - T1_WINDOW_LEVEL[0] / 2.0,\n",
    "        windowMaximum=T1_WINDOW_LEVEL[1] + T1_WINDOW_LEVEL[0] / 2.0,\n",
    "    ),\n",
    "    sitk.sitkUInt8,\n",
    ")"
   ]
  },
  {
   "cell_type": "code",
   "execution_count": 9,
   "id": "f3888e23",
   "metadata": {},
   "outputs": [
    {
     "data": {
      "image/png": "[encoded data removed]",
      "text/plain": [
       "<Figure size 432x288 with 2 Axes>"
      ]
     },
     "metadata": {},
     "output_type": "display_data"
    }
   ],
   "source": [
    "#************\n",
    "#Can read .jpg, .jpe, .jpeg, .png formats\n",
    "#In my case I tries images of Coronal lung window.zip in our repo\n",
    "import numpy as np\n",
    "import cv2\n",
    "from matplotlib import pyplot as plt\n",
    "\n",
    "img = cv2.imread('Coronal_lung_window/8.jpg')\n",
    "b,g,r = cv2.split(img)\n",
    "rgb_img = cv2.merge([r,g,b])\n",
    "\n",
    "gray = cv2.cvtColor(img,cv2.COLOR_BGR2GRAY)\n",
    "ret, thresh = cv2.threshold(gray,0,255,cv2.THRESH_BINARY_INV+cv2.THRESH_OTSU)\n",
    "\n",
    "plt.subplot(121),plt.imshow(rgb_img)\n",
    "plt.title('Input Image'), plt.xticks([]), plt.yticks([])\n",
    "plt.subplot(122),plt.imshow(thresh, 'gray')\n",
    "plt.title(\"Otus's binary threshold\"), plt.xticks([]), plt.yticks([])\n",
    "plt.show()      "
   ]
  },
  {
   "cell_type": "markdown",
   "id": "c527ea24",
   "metadata": {},
   "source": [
    "<h3>Using ConnectedThreshold</h3>"
   ]
  },
  {
   "cell_type": "code",
   "execution_count": 10,
   "id": "c2af536e",
   "metadata": {},
   "outputs": [
    {
     "ename": "NameError",
     "evalue": "name 'seed' is not defined",
     "output_type": "error",
     "traceback": [
      "\u001b[0;31m---------------------------------------------------------------------------\u001b[0m",
      "\u001b[0;31mNameError\u001b[0m                                 Traceback (most recent call last)",
      "\u001b[0;32m<ipython-input-10-799292eb5f95>\u001b[0m in \u001b[0;36m<module>\u001b[0;34m\u001b[0m\n\u001b[0;32m----> 1\u001b[0;31m \u001b[0mseg\u001b[0m \u001b[0;34m=\u001b[0m \u001b[0msitk\u001b[0m\u001b[0;34m.\u001b[0m\u001b[0mConnectedThreshold\u001b[0m\u001b[0;34m(\u001b[0m\u001b[0mimage\u001b[0m\u001b[0;34m,\u001b[0m \u001b[0mseedList\u001b[0m\u001b[0;34m=\u001b[0m\u001b[0;34m[\u001b[0m\u001b[0mseed\u001b[0m\u001b[0;34m]\u001b[0m\u001b[0;34m,\u001b[0m \u001b[0mlower\u001b[0m\u001b[0;34m=\u001b[0m\u001b[0;36m100\u001b[0m\u001b[0;34m,\u001b[0m \u001b[0mupper\u001b[0m\u001b[0;34m=\u001b[0m\u001b[0;36m190\u001b[0m\u001b[0;34m)\u001b[0m\u001b[0;34m\u001b[0m\u001b[0;34m\u001b[0m\u001b[0m\n\u001b[0m\u001b[1;32m      2\u001b[0m \u001b[0mmyshow\u001b[0m\u001b[0;34m(\u001b[0m\u001b[0msitk\u001b[0m\u001b[0;34m.\u001b[0m\u001b[0mLabelOverlay\u001b[0m\u001b[0;34m(\u001b[0m\u001b[0mimgage_rgb\u001b[0m\u001b[0;34m,\u001b[0m \u001b[0mseg\u001b[0m\u001b[0;34m)\u001b[0m\u001b[0;34m,\u001b[0m \u001b[0;34m\"Connected Threshold\"\u001b[0m\u001b[0;34m)\u001b[0m\u001b[0;34m\u001b[0m\u001b[0;34m\u001b[0m\u001b[0m\n",
      "\u001b[0;31mNameError\u001b[0m: name 'seed' is not defined"
     ]
    }
   ],
   "source": [
    "seg = sitk.ConnectedThreshold(image, seedList=[seed], lower=100, upper=190)\n",
    "myshow(sitk.LabelOverlay(imgage_rgb, seg), \"Connected Threshold\")"
   ]
  },
  {
   "cell_type": "code",
   "execution_count": 12,
   "id": "905777b7",
   "metadata": {},
   "outputs": [
    {
     "ename": "NameError",
     "evalue": "name 'seed' is not defined",
     "output_type": "error",
     "traceback": [
      "\u001b[0;31m---------------------------------------------------------------------------\u001b[0m",
      "\u001b[0;31mNameError\u001b[0m                                 Traceback (most recent call last)",
      "\u001b[0;32m<ipython-input-12-69c287823b7a>\u001b[0m in \u001b[0;36m<module>\u001b[0;34m\u001b[0m\n\u001b[0;32m----> 1\u001b[0;31m seg = sitk.ConfidenceConnected(image, seedList=[seed],\n\u001b[0m\u001b[1;32m      2\u001b[0m                                    \u001b[0mnumberOfIterations\u001b[0m\u001b[0;34m=\u001b[0m\u001b[0;36m1\u001b[0m\u001b[0;34m,\u001b[0m\u001b[0;34m\u001b[0m\u001b[0;34m\u001b[0m\u001b[0m\n\u001b[1;32m      3\u001b[0m                                    \u001b[0mmultiplier\u001b[0m\u001b[0;34m=\u001b[0m\u001b[0;36m2.5\u001b[0m\u001b[0;34m,\u001b[0m\u001b[0;34m\u001b[0m\u001b[0;34m\u001b[0m\u001b[0m\n\u001b[1;32m      4\u001b[0m                                    \u001b[0minitialNeighborhoodRadius\u001b[0m\u001b[0;34m=\u001b[0m\u001b[0;36m1\u001b[0m\u001b[0;34m,\u001b[0m\u001b[0;34m\u001b[0m\u001b[0;34m\u001b[0m\u001b[0m\n\u001b[1;32m      5\u001b[0m                                    replaceValue=1)\n",
      "\u001b[0;31mNameError\u001b[0m: name 'seed' is not defined"
     ]
    }
   ],
   "source": [
    "seg = sitk.ConfidenceConnected(image, seedList=[seed],\n",
    "                                   numberOfIterations=1,\n",
    "                                   multiplier=2.5,\n",
    "                                   initialNeighborhoodRadius=1,\n",
    "                                   replaceValue=1)\n",
    "\n",
    "myshow(sitk.LabelOverlay(image_rgb, seg), \"ConfidenceConnected\")"
   ]
  },
  {
   "cell_type": "markdown",
   "id": "1c626bb6",
   "metadata": {},
   "source": [
    "<h3>Using Level-Set</h3>"
   ]
  },
  {
   "cell_type": "code",
   "execution_count": 3,
   "id": "b3f25fc8",
   "metadata": {},
   "outputs": [
    {
     "name": "stdout",
     "output_type": "stream",
     "text": [
      "-352.31081224397605 1276.8829037161984\n"
     ]
    }
   ],
   "source": [
    "stats = sitk.LabelStatisticsImageFilter()\n",
    "stats.Execute(image, seg)\n",
    "\n",
    "factor = 3.5\n",
    "lower_threshold = stats.GetMean(1)-factor*stats.GetSigma(1)\n",
    "upper_threshold = stats.GetMean(1)+factor*stats.GetSigma(1)\n",
    "print(lower_threshold,upper_threshold)"
   ]
  },
  {
   "cell_type": "code",
   "execution_count": 4,
   "id": "dcabbb66",
   "metadata": {},
   "outputs": [],
   "source": [
    "init_ls = sitk.SignedMaurerDistanceMap(seg, insideIsPositive=True, useImageSpacing=True)"
   ]
  },
  {
   "cell_type": "code",
   "execution_count": null,
   "id": "c54bb0da",
   "metadata": {},
   "outputs": [],
   "source": [
    "lsFilter = sitk.ThresholdSegmentationLevelSetImageFilter()\n",
    "lsFilter.SetLowerThreshold(lower_threshold)\n",
    "lsFilter.SetUpperThreshold(upper_threshold)\n",
    "lsFilter.SetMaximumRMSError(0.02)\n",
    "lsFilter.SetNumberOfIterations(1000)\n",
    "lsFilter.SetCurvatureScaling(.5)\n",
    "lsFilter.SetPropagationScaling(1)\n",
    "lsFilter.ReverseExpansionDirectionOn()\n",
    "ls = lsFilter.Execute(init_ls, sitk.Cast(image, sitk.sitkFloat32))\n",
    "print(lsFilter)"
   ]
  },
  {
   "cell_type": "code",
   "execution_count": null,
   "id": "31d1cecc",
   "metadata": {},
   "outputs": [],
   "source": [
    "myshow(sitk.LabelOverlay(image_rgb, ls>0))"
   ]
  },
  {
   "cell_type": "markdown",
   "id": "0036ac5b",
   "metadata": {},
   "source": [
    "### Water Segmentation"
   ]
  },
  {
   "cell_type": "code",
   "execution_count": 1,
   "id": "2d4d3118",
   "metadata": {},
   "outputs": [
    {
     "name": "stdout",
     "output_type": "stream",
     "text": [
      "Reading Dicom directory: NBIA_images/manifest-1608266677008/MIDRC-RICORD-1A/MIDRC-RICORD-1A-419639-000082/08-02-2002-NA-CT CHEST WITHOUT CONTRAST-04614/2.000000-ROUTINE CHEST NON-CON-97100\n"
     ]
    },
    {
     "data": {
      "application/vnd.jupyter.widget-view+json": {
       "model_id": "a96bc42b04784d4db8f2577f242312a4",
       "version_major": 2,
       "version_minor": 0
      },
      "text/plain": [
       "interactive(children=(IntSlider(value=127, description='z', max=254), Output()), _dom_classes=('widget-interac…"
      ]
     },
     "metadata": {},
     "output_type": "display_data"
    }
   ],
   "source": [
    "from __future__ import print_function\n",
    "\n",
    "%matplotlib inline\n",
    "import matplotlib.pyplot as plt\n",
    "from ipywidgets import interact, FloatSlider\n",
    "\n",
    "import SimpleITK as sitk\n",
    "\n",
    "# Download data to work on\n",
    "%run update_path_to_download_script\n",
    "# from downloaddata import fetch_data as fdata\n",
    "from myshow import myshow, myshow3d\n",
    "  \n",
    "# Read the image\n",
    "dicom_dir = \"NBIA_images/manifest-1608266677008/MIDRC-RICORD-1A/MIDRC-RICORD-1A-419639-000082/08-02-2002-NA-CT CHEST WITHOUT CONTRAST-04614/2.000000-ROUTINE CHEST NON-CON-97100\"\n",
    "\n",
    "print(\"Reading Dicom directory:\", dicom_dir)\n",
    "reader = sitk.ImageSeriesReader()\n",
    "\n",
    "dicom_names = reader.GetGDCMSeriesFileNames(dicom_dir)\n",
    "\n",
    "reader.SetFileNames(dicom_names)\n",
    "image = reader.Execute()\n",
    "\n",
    "seg = image > 200\n",
    "myshow(sitk.LabelOverlay(image, seg), \"Watershed Segmentation\")\n",
    "\n",
    "\n"
   ]
  },
  {
   "cell_type": "markdown",
   "id": "d0c9dc5e",
   "metadata": {},
   "source": [
    "### Gradient Water Segmentation"
   ]
  },
  {
   "cell_type": "code",
   "execution_count": 2,
   "id": "66cfaad0",
   "metadata": {},
   "outputs": [],
   "source": [
    "sigma = seg.GetSpacing()[0]\n",
    "level = 4"
   ]
  },
  {
   "cell_type": "code",
   "execution_count": 3,
   "id": "63150c6c",
   "metadata": {},
   "outputs": [
    {
     "data": {
      "application/vnd.jupyter.widget-view+json": {
       "model_id": "b22406aeeb1a4e50baa42d80385dbf06",
       "version_major": 2,
       "version_minor": 0
      },
      "text/plain": [
       "interactive(children=(IntSlider(value=127, description='z', max=254), Output()), _dom_classes=('widget-interac…"
      ]
     },
     "metadata": {},
     "output_type": "display_data"
    }
   ],
   "source": [
    "feature_seg = sitk.GradientMagnitude(seg)\n",
    "myshow(seg, \"Edge Features\")"
   ]
  },
  {
   "cell_type": "code",
   "execution_count": 4,
   "id": "3f2fa365",
   "metadata": {},
   "outputs": [
    {
     "data": {
      "application/vnd.jupyter.widget-view+json": {
       "model_id": "e913c73f061d45dfbb207f6e64753167",
       "version_major": 2,
       "version_minor": 0
      },
      "text/plain": [
       "interactive(children=(IntSlider(value=127, description='z', max=254), Output()), _dom_classes=('widget-interac…"
      ]
     },
     "metadata": {},
     "output_type": "display_data"
    }
   ],
   "source": [
    "seg = sitk.MorphologicalWatershed(\n",
    "    feature_seg, level=0, markWatershedLine=True, fullyConnected=False\n",
    ")\n",
    "myshow(sitk.LabelToRGB(seg), \"Watershed Over Segmentation\")"
   ]
  },
  {
   "cell_type": "code",
   "execution_count": 5,
   "id": "0d0af365",
   "metadata": {},
   "outputs": [
    {
     "data": {
      "application/vnd.jupyter.widget-view+json": {
       "model_id": "96acecb038104091bcd270ffda36eb84",
       "version_major": 2,
       "version_minor": 0
      },
      "text/plain": [
       "interactive(children=(Checkbox(value=True, description='markWatershedLine'), Checkbox(value=False, description…"
      ]
     },
     "metadata": {},
     "output_type": "display_data"
    },
    {
     "data": {
      "text/plain": [
       "<function __main__.<lambda>(**kwargs)>"
      ]
     },
     "execution_count": 5,
     "metadata": {},
     "output_type": "execute_result"
    }
   ],
   "source": [
    "from ipywidgets import interact, interactive, FloatSlider\n",
    "\n",
    "\n",
    "def callback(feature_seg, *args, **kwargs):\n",
    "    watershed_seg = sitk.MorphologicalWatershed(feature_seg, *args, **kwargs)\n",
    "\n",
    "    myshow(sitk.LabelToRGB(watershed_seg), \"Watershed Segmentation\")\n",
    "\n",
    "\n",
    "interact(\n",
    "    lambda **kwargs: callback(feature_seg, **kwargs),\n",
    "    markWatershedLine=True,\n",
    "    fullyConnected=False,\n",
    "    level=FloatSlider(min=0, max=255, step=0.1, value=4.0),\n",
    ")"
   ]
  },
  {
   "cell_type": "markdown",
   "id": "614a3d23",
   "metadata": {},
   "source": [
    "### Segmentation From Markers"
   ]
  },
  {
   "cell_type": "code",
   "execution_count": 8,
   "id": "634a84b1",
   "metadata": {},
   "outputs": [
    {
     "data": {
      "application/vnd.jupyter.widget-view+json": {
       "model_id": "8eecf4aab06e479e9e1028ca49558c3f",
       "version_major": 2,
       "version_minor": 0
      },
      "text/plain": [
       "interactive(children=(IntSlider(value=127, description='z', max=254), Output()), _dom_classes=('widget-interac…"
      ]
     },
     "metadata": {},
     "output_type": "display_data"
    }
   ],
   "source": [
    "min_seg = sitk.RegionalMinima(\n",
    "    seg,\n",
    "    backgroundValue=0,\n",
    "    foregroundValue=1.0,\n",
    "    fullyConnected=False,\n",
    "    flatIsMinima=True,\n",
    ")\n",
    "marker_seg = sitk.ConnectedComponent(min_seg)\n",
    "myshow(sitk.LabelToRGB(marker_seg), \"Too many local minima markers\")"
   ]
  },
  {
   "cell_type": "code",
   "execution_count": 9,
   "id": "5f82ecab",
   "metadata": {},
   "outputs": [
    {
     "data": {
      "application/vnd.jupyter.widget-view+json": {
       "model_id": "c5a2d810bf0c47a19b21039e89b23264",
       "version_major": 2,
       "version_minor": 0
      },
      "text/plain": [
       "interactive(children=(IntSlider(value=127, description='z', max=254), Output()), _dom_classes=('widget-interac…"
      ]
     },
     "metadata": {},
     "output_type": "display_data"
    }
   ],
   "source": [
    "watershed = sitk.MorphologicalWatershedFromMarkers(\n",
    "    feature_seg, marker_seg, markWatershedLine=True, fullyConnected=False\n",
    ")\n",
    "myshow(sitk.LabelToRGB(watershed), \"Watershed Oversegmentation from markers\")"
   ]
  },
  {
   "cell_type": "markdown",
   "id": "5b812c5a",
   "metadata": {},
   "source": [
    "### Binary Watersheds for Object Separation"
   ]
  },
  {
   "cell_type": "code",
   "execution_count": 7,
   "id": "f6cb69c3",
   "metadata": {},
   "outputs": [
    {
     "ename": "TypeError",
     "evalue": "in method 'ImageSeriesReader_SetFileNames', argument 2 of type 'std::vector< std::string,std::allocator< std::string > > const &'",
     "output_type": "error",
     "traceback": [
      "\u001b[0;31m---------------------------------------------------------------------------\u001b[0m",
      "\u001b[0;31mTypeError\u001b[0m                                 Traceback (most recent call last)",
      "\u001b[0;32m<ipython-input-7-183e935949f7>\u001b[0m in \u001b[0;36m<module>\u001b[0;34m\u001b[0m\n\u001b[0;32m----> 1\u001b[0;31m \u001b[0mrgb_seg\u001b[0m \u001b[0;34m=\u001b[0m \u001b[0msitk\u001b[0m\u001b[0;34m.\u001b[0m\u001b[0mReadImage\u001b[0m\u001b[0;34m(\u001b[0m\u001b[0mseg\u001b[0m\u001b[0;34m)\u001b[0m\u001b[0;34m\u001b[0m\u001b[0;34m\u001b[0m\u001b[0m\n\u001b[0m\u001b[1;32m      2\u001b[0m \u001b[0mmyshow\u001b[0m\u001b[0;34m(\u001b[0m\u001b[0mrgb_seg\u001b[0m\u001b[0;34m,\u001b[0m \u001b[0mseg\u001b[0m\u001b[0;34m)\u001b[0m\u001b[0;34m\u001b[0m\u001b[0;34m\u001b[0m\u001b[0m\n\u001b[1;32m      3\u001b[0m \u001b[0mimg\u001b[0m \u001b[0;34m=\u001b[0m \u001b[0msitk\u001b[0m\u001b[0;34m.\u001b[0m\u001b[0mVectorIndexSelectionCast\u001b[0m\u001b[0;34m(\u001b[0m\u001b[0mrgb_seg\u001b[0m\u001b[0;34m,\u001b[0m \u001b[0;36m1\u001b[0m\u001b[0;34m)\u001b[0m\u001b[0;34m\u001b[0m\u001b[0;34m\u001b[0m\u001b[0m\n\u001b[1;32m      4\u001b[0m \u001b[0mmyshow\u001b[0m\u001b[0;34m(\u001b[0m\u001b[0mseg\u001b[0m\u001b[0;34m,\u001b[0m \u001b[0mseg\u001b[0m\u001b[0;34m)\u001b[0m\u001b[0;34m\u001b[0m\u001b[0;34m\u001b[0m\u001b[0m\n",
      "\u001b[0;32m~/opt/anaconda3/lib/python3.8/site-packages/SimpleITK/extra.py\u001b[0m in \u001b[0;36mReadImage\u001b[0;34m(fileName, outputPixelType, imageIO)\u001b[0m\n\u001b[1;32m    340\u001b[0m     \u001b[0;32melse\u001b[0m\u001b[0;34m:\u001b[0m\u001b[0;34m\u001b[0m\u001b[0;34m\u001b[0m\u001b[0m\n\u001b[1;32m    341\u001b[0m         \u001b[0mreader\u001b[0m \u001b[0;34m=\u001b[0m \u001b[0mImageSeriesReader\u001b[0m\u001b[0;34m(\u001b[0m\u001b[0;34m)\u001b[0m\u001b[0;34m\u001b[0m\u001b[0;34m\u001b[0m\u001b[0m\n\u001b[0;32m--> 342\u001b[0;31m         \u001b[0mreader\u001b[0m\u001b[0;34m.\u001b[0m\u001b[0mSetFileNames\u001b[0m\u001b[0;34m(\u001b[0m\u001b[0mfileName\u001b[0m\u001b[0;34m)\u001b[0m\u001b[0;34m\u001b[0m\u001b[0;34m\u001b[0m\u001b[0m\n\u001b[0m\u001b[1;32m    343\u001b[0m \u001b[0;34m\u001b[0m\u001b[0m\n\u001b[1;32m    344\u001b[0m     \u001b[0mreader\u001b[0m\u001b[0;34m.\u001b[0m\u001b[0mSetImageIO\u001b[0m\u001b[0;34m(\u001b[0m\u001b[0mimageIO\u001b[0m\u001b[0;34m)\u001b[0m\u001b[0;34m\u001b[0m\u001b[0;34m\u001b[0m\u001b[0m\n",
      "\u001b[0;32m~/opt/anaconda3/lib/python3.8/site-packages/SimpleITK/SimpleITK.py\u001b[0m in \u001b[0;36mSetFileNames\u001b[0;34m(self, fileNames)\u001b[0m\n\u001b[1;32m   5715\u001b[0m     \u001b[0;32mdef\u001b[0m \u001b[0mSetFileNames\u001b[0m\u001b[0;34m(\u001b[0m\u001b[0mself\u001b[0m\u001b[0;34m,\u001b[0m \u001b[0mfileNames\u001b[0m\u001b[0;34m)\u001b[0m\u001b[0;34m:\u001b[0m\u001b[0;34m\u001b[0m\u001b[0;34m\u001b[0m\u001b[0m\n\u001b[1;32m   5716\u001b[0m         \u001b[0;34mr\"\"\"SetFileNames(ImageSeriesReader self, VectorString fileNames)\"\"\"\u001b[0m\u001b[0;34m\u001b[0m\u001b[0;34m\u001b[0m\u001b[0m\n\u001b[0;32m-> 5717\u001b[0;31m         \u001b[0;32mreturn\u001b[0m \u001b[0m_SimpleITK\u001b[0m\u001b[0;34m.\u001b[0m\u001b[0mImageSeriesReader_SetFileNames\u001b[0m\u001b[0;34m(\u001b[0m\u001b[0mself\u001b[0m\u001b[0;34m,\u001b[0m \u001b[0mfileNames\u001b[0m\u001b[0;34m)\u001b[0m\u001b[0;34m\u001b[0m\u001b[0;34m\u001b[0m\u001b[0m\n\u001b[0m\u001b[1;32m   5718\u001b[0m \u001b[0;34m\u001b[0m\u001b[0m\n\u001b[1;32m   5719\u001b[0m     \u001b[0;32mdef\u001b[0m \u001b[0mGetFileNames\u001b[0m\u001b[0;34m(\u001b[0m\u001b[0mself\u001b[0m\u001b[0;34m)\u001b[0m\u001b[0;34m:\u001b[0m\u001b[0;34m\u001b[0m\u001b[0;34m\u001b[0m\u001b[0m\n",
      "\u001b[0;31mTypeError\u001b[0m: in method 'ImageSeriesReader_SetFileNames', argument 2 of type 'std::vector< std::string,std::allocator< std::string > > const &'"
     ]
    }
   ],
   "source": [
    "rgb_seg = sitk.ReadImage(seg)\n",
    "myshow(rgb_seg, seg)\n",
    "img = sitk.VectorIndexSelectionCast(rgb_seg, 1)\n",
    "myshow(seg, seg)"
   ]
  },
  {
   "cell_type": "code",
   "execution_count": 8,
   "id": "2fd43bef",
   "metadata": {},
   "outputs": [
    {
     "data": {
      "application/vnd.jupyter.widget-view+json": {
       "model_id": "80c2a433c04443bd9aba5b08f10175b7",
       "version_major": 2,
       "version_minor": 0
      },
      "text/plain": [
       "interactive(children=(IntSlider(value=127, description='z', max=254), Output()), _dom_classes=('widget-interac…"
      ]
     },
     "metadata": {},
     "output_type": "display_data"
    }
   ],
   "source": [
    "feature_seg = sitk.GradientMagnitudeRecursiveGaussian(seg, sigma=1.5)\n",
    "myshow(feature_seg)"
   ]
  },
  {
   "cell_type": "code",
   "execution_count": 9,
   "id": "c8a18d94",
   "metadata": {},
   "outputs": [
    {
     "data": {
      "application/vnd.jupyter.widget-view+json": {
       "model_id": "0e78e373fb8a4ac2b98f1562af365c39",
       "version_major": 2,
       "version_minor": 0
      },
      "text/plain": [
       "interactive(children=(IntSlider(value=127, description='z', max=254), Output()), _dom_classes=('widget-interac…"
      ]
     },
     "metadata": {},
     "output_type": "display_data"
    },
    {
     "ename": "IndexError",
     "evalue": "invalid slice extraction to 1 dimension",
     "output_type": "error",
     "traceback": [
      "\u001b[0;31m---------------------------------------------------------------------------\u001b[0m",
      "\u001b[0;31mIndexError\u001b[0m                                Traceback (most recent call last)",
      "\u001b[0;32m<ipython-input-9-7e3fe58d9f7c>\u001b[0m in \u001b[0;36m<module>\u001b[0;34m\u001b[0m\n\u001b[1;32m      3\u001b[0m )\n\u001b[1;32m      4\u001b[0m \u001b[0mmyshow\u001b[0m\u001b[0;34m(\u001b[0m\u001b[0msitk\u001b[0m\u001b[0;34m.\u001b[0m\u001b[0mLabelToRGB\u001b[0m\u001b[0;34m(\u001b[0m\u001b[0mwatershed_seg\u001b[0m\u001b[0;34m)\u001b[0m\u001b[0;34m,\u001b[0m \u001b[0;34m\"Watershed Over Segmentation\"\u001b[0m\u001b[0;34m)\u001b[0m\u001b[0;34m\u001b[0m\u001b[0;34m\u001b[0m\u001b[0m\n\u001b[0;32m----> 5\u001b[0;31m \u001b[0msegmentated\u001b[0m \u001b[0;34m=\u001b[0m \u001b[0msitk\u001b[0m\u001b[0;34m.\u001b[0m\u001b[0mConnectedComponent\u001b[0m\u001b[0;34m(\u001b[0m\u001b[0mwatershed_seg\u001b[0m \u001b[0;34m!=\u001b[0m \u001b[0mwatershed_seg\u001b[0m\u001b[0;34m[\u001b[0m\u001b[0;36m0\u001b[0m\u001b[0;34m,\u001b[0m \u001b[0;36m0\u001b[0m\u001b[0;34m]\u001b[0m\u001b[0;34m)\u001b[0m\u001b[0;34m\u001b[0m\u001b[0;34m\u001b[0m\u001b[0m\n\u001b[0m\u001b[1;32m      6\u001b[0m \u001b[0mmyshow\u001b[0m\u001b[0;34m(\u001b[0m\u001b[0msitk\u001b[0m\u001b[0;34m.\u001b[0m\u001b[0mLabelOverlay\u001b[0m\u001b[0;34m(\u001b[0m\u001b[0mseg\u001b[0m\u001b[0;34m,\u001b[0m \u001b[0msegmentated\u001b[0m\u001b[0;34m)\u001b[0m\u001b[0;34m,\u001b[0m \u001b[0;34m\"Foreground Components\"\u001b[0m\u001b[0;34m)\u001b[0m\u001b[0;34m\u001b[0m\u001b[0;34m\u001b[0m\u001b[0m\n",
      "\u001b[0;32m~/opt/anaconda3/lib/python3.8/site-packages/SimpleITK/SimpleITK.py\u001b[0m in \u001b[0;36m__getitem__\u001b[0;34m(self, idx)\u001b[0m\n\u001b[1;32m   3756\u001b[0m \u001b[0;34m\u001b[0m\u001b[0m\n\u001b[1;32m   3757\u001b[0m         \u001b[0;32mif\u001b[0m \u001b[0mdim\u001b[0m \u001b[0;34m-\u001b[0m \u001b[0mlen\u001b[0m\u001b[0;34m(\u001b[0m\u001b[0mslice_dims\u001b[0m\u001b[0;34m)\u001b[0m \u001b[0;34m<\u001b[0m \u001b[0;36m2\u001b[0m\u001b[0;34m:\u001b[0m\u001b[0;34m\u001b[0m\u001b[0;34m\u001b[0m\u001b[0m\n\u001b[0;32m-> 3758\u001b[0;31m           \u001b[0;32mraise\u001b[0m \u001b[0mIndexError\u001b[0m\u001b[0;34m(\u001b[0m\u001b[0;34m\"invalid slice extraction to 1 dimension\"\u001b[0m\u001b[0;34m)\u001b[0m\u001b[0;34m\u001b[0m\u001b[0;34m\u001b[0m\u001b[0m\n\u001b[0m\u001b[1;32m   3759\u001b[0m \u001b[0;34m\u001b[0m\u001b[0m\n\u001b[1;32m   3760\u001b[0m \u001b[0;34m\u001b[0m\u001b[0m\n",
      "\u001b[0;31mIndexError\u001b[0m: invalid slice extraction to 1 dimension"
     ]
    }
   ],
   "source": [
    "watershed_seg = sitk.MorphologicalWatershed(\n",
    "    feature_seg, level=4, markWatershedLine=False, fullyConnected=False\n",
    ")\n",
    "myshow(sitk.LabelToRGB(watershed_seg), \"Watershed Over Segmentation\")\n",
    "segmentated = sitk.ConnectedComponent(watershed_seg != watershed_seg[0, 0])\n",
    "myshow(sitk.LabelOverlay(seg, segmentated), \"Foreground Components\")"
   ]
  },
  {
   "cell_type": "code",
   "execution_count": 10,
   "id": "5a07c027",
   "metadata": {
    "scrolled": true
   },
   "outputs": [
    {
     "data": {
      "application/vnd.jupyter.widget-view+json": {
       "model_id": "16bbd6b2648946ee845bd434d5669520",
       "version_major": 2,
       "version_minor": 0
      },
      "text/plain": [
       "interactive(children=(IntSlider(value=127, description='z', max=254), Output()), _dom_classes=('widget-interac…"
      ]
     },
     "metadata": {},
     "output_type": "display_data"
    }
   ],
   "source": [
    "filled = sitk.BinaryFillhole(seg != 0)\n",
    "distance = sitk.SignedMaurerDistanceMap(\n",
    "    filled, insideIsPositive=False, squaredDistance=False, useImageSpacing=False\n",
    ")\n",
    "myshow(distance, \"Inside Distance Map\")"
   ]
  },
  {
   "cell_type": "code",
   "execution_count": 11,
   "id": "4c98f72a",
   "metadata": {},
   "outputs": [
    {
     "data": {
      "application/vnd.jupyter.widget-view+json": {
       "model_id": "89d891342f0e4f519ab18ad23f02b637",
       "version_major": 2,
       "version_minor": 0
      },
      "text/plain": [
       "interactive(children=(IntSlider(value=127, description='z', max=254), Output()), _dom_classes=('widget-interac…"
      ]
     },
     "metadata": {},
     "output_type": "display_data"
    }
   ],
   "source": [
    "watershed = sitk.MorphologicalWatershed(distance, markWatershedLine=False, level=1)\n",
    "myshow(sitk.LabelOverlay(seg, watershed))"
   ]
  },
  {
   "cell_type": "code",
   "execution_count": 12,
   "id": "d52b7e5b",
   "metadata": {},
   "outputs": [
    {
     "data": {
      "application/vnd.jupyter.widget-view+json": {
       "model_id": "94a2aae106b041e09baeb4f26a669f09",
       "version_major": 2,
       "version_minor": 0
      },
      "text/plain": [
       "interactive(children=(IntSlider(value=127, description='z', max=254), Output()), _dom_classes=('widget-interac…"
      ]
     },
     "metadata": {},
     "output_type": "display_data"
    }
   ],
   "source": [
    "watershed = sitk.Mask(watershed, sitk.Cast(seg, watershed.GetPixelID()))\n",
    "myshow(sitk.LabelOverlay(seg, watershed), \"Split Objects\")"
   ]
  },
  {
   "cell_type": "markdown",
   "id": "50fa3b30",
   "metadata": {},
   "source": [
    "### Multi-label Morphology"
   ]
  },
  {
   "cell_type": "code",
   "execution_count": 13,
   "id": "6820a470",
   "metadata": {},
   "outputs": [],
   "source": [
    "seg = watershed"
   ]
  },
  {
   "cell_type": "code",
   "execution_count": 14,
   "id": "0321a7e8",
   "metadata": {},
   "outputs": [
    {
     "data": {
      "application/vnd.jupyter.widget-view+json": {
       "model_id": "cb669078af3345c8999e2f8c10b34b74",
       "version_major": 2,
       "version_minor": 0
      },
      "text/plain": [
       "interactive(children=(IntSlider(value=127, description='z', max=254), Output()), _dom_classes=('widget-interac…"
      ]
     },
     "metadata": {},
     "output_type": "display_data"
    }
   ],
   "source": [
    "radius = 10\n",
    "binary_dilation_seg = sitk.BinaryDilate(seg != 0, [radius] * seg.GetDimension())\n",
    "myshow(binary_dilation_seg, \"Binary Dilate\")"
   ]
  },
  {
   "cell_type": "code",
   "execution_count": 15,
   "id": "484e82cb",
   "metadata": {},
   "outputs": [
    {
     "data": {
      "application/vnd.jupyter.widget-view+json": {
       "model_id": "b39e1ceb7bcb41538afc400d0cb22da4",
       "version_major": 2,
       "version_minor": 0
      },
      "text/plain": [
       "interactive(children=(IntSlider(value=127, description='z', max=254), Output()), _dom_classes=('widget-interac…"
      ]
     },
     "metadata": {},
     "output_type": "display_data"
    }
   ],
   "source": [
    "distance_seg = sitk.SignedMaurerDistanceMap(\n",
    "    seg != 0, insideIsPositive=False, squaredDistance=False, useImageSpacing=False\n",
    ")\n",
    "watershed_distance_img = sitk.MorphologicalWatershedFromMarkers(distance_seg, seg, markWatershedLine=False)\n",
    "myshow(sitk.LabelOverlay(seg, watershed_distance_img))"
   ]
  },
  {
   "cell_type": "code",
   "execution_count": 16,
   "id": "f8fe8a83",
   "metadata": {},
   "outputs": [
    {
     "data": {
      "application/vnd.jupyter.widget-view+json": {
       "model_id": "f00833105446417991862841e0762967",
       "version_major": 2,
       "version_minor": 0
      },
      "text/plain": [
       "interactive(children=(IntSlider(value=127, description='z', max=254), Output()), _dom_classes=('widget-interac…"
      ]
     },
     "metadata": {},
     "output_type": "display_data"
    }
   ],
   "source": [
    "multi_label_dilate_seg = sitk.Mask(watershed_distance_img, binary_dilation_seg)\n",
    "myshow(sitk.LabelToRGB(multi_label_dilate_seg), \"Multi-label Dilate\")"
   ]
  },
  {
   "cell_type": "code",
   "execution_count": 17,
   "id": "c51ba343",
   "metadata": {},
   "outputs": [
    {
     "data": {
      "application/vnd.jupyter.widget-view+json": {
       "model_id": "5e6f1c0d38ab4c809ed1fa3613362a5c",
       "version_major": 2,
       "version_minor": 0
      },
      "text/plain": [
       "interactive(children=(IntSlider(value=127, description='z', max=254), Output()), _dom_classes=('widget-interac…"
      ]
     },
     "metadata": {},
     "output_type": "display_data"
    }
   ],
   "source": [
    "e_seg = sitk.BinaryErode(multi_label_dilate_seg != 0, [radius] * multi_label_dilate_seg.GetDimension())\n",
    "multi_label_closing_seg = sitk.Mask(multi_label_dilate_seg, e_seg)\n",
    "myshow(sitk.LabelOverlay(seg, multi_label_closing_seg), \"Multi-label Closing\")"
   ]
  },
  {
   "cell_type": "markdown",
   "id": "841808f3",
   "metadata": {},
   "source": [
    "\n",
    "<h3>Quantification</h3>"
   ]
  },
  {
   "cell_type": "code",
   "execution_count": 51,
   "id": "29e8037e",
   "metadata": {},
   "outputs": [
    {
     "data": {
      "image/png": "[encoded data removed]",
      "text/plain": [
       "<Figure size 432x288 with 1 Axes>"
      ]
     },
     "metadata": {
      "needs_background": "light"
     },
     "output_type": "display_data"
    },
    {
     "name": "stdout",
     "output_type": "stream",
     "text": [
      "   |       Size | Circularity | \n",
      "-- | ---------- | ----------- | \n",
      "   |            |             | \n",
      "   |     (px^2) |             | \n",
      "-- | ---------- | ----------- | \n",
      " 1 |  1.324e+04 |      0.1166 | \n",
      " 2 |      103.0 |      0.1901 | \n",
      " 3 |      89.00 |      0.1067 | \n",
      " 4 |      180.0 |     0.07569 | \n",
      " 5 |      736.0 |      0.3200 | \n",
      " 6 |      272.0 |      0.1503 | \n",
      " 7 |      74.00 |      0.1319 | \n",
      " 8 |      37.00 |     0.05131 | \n",
      " 9 |      175.0 |      0.1338 | \n",
      "10 |      163.0 |      0.1034 | \n",
      "11 |      317.0 |      0.1254 | \n",
      "12 |      315.0 |      0.1059 | \n",
      "13 |      129.0 |      0.1781 | \n",
      "14 |      177.0 |     0.04667 | \n",
      "15 |      281.0 |     0.07873 | \n",
      "16 |  1.490e+04 |      0.5525 | \n",
      "17 |      7257. |      0.5529 | \n",
      "\n"
     ]
    },
    {
     "data": {
      "image/png": "[encoded data removed]",
      "text/plain": [
       "<Figure size 432x288 with 1 Axes>"
      ]
     },
     "metadata": {
      "needs_background": "light"
     },
     "output_type": "display_data"
    },
    {
     "name": "stdout",
     "output_type": "stream",
     "text": [
      "   |       Size | Circularity | \n",
      "-- | ---------- | ----------- | \n",
      "   |            |             | \n",
      "   |     (px^2) |             | \n",
      "-- | ---------- | ----------- | \n",
      " 1 |      57.00 |     0.06366 | \n",
      " 2 |      58.00 |      0.1107 | \n",
      " 3 |      54.00 |     0.08676 | \n",
      " 4 |      82.00 |      0.1489 | \n",
      " 5 |      721.0 |      0.1884 | \n",
      " 6 |      124.0 |      0.1049 | \n",
      " 7 |      275.0 |      0.1271 | \n",
      " 8 |      84.00 |     0.06206 | \n",
      " 9 |      359.0 |      0.1350 | \n",
      "10 |      550.0 |      0.3851 | \n",
      "11 |      184.0 |      0.2223 | \n",
      "12 |      307.0 |      0.1009 | \n",
      "13 |      185.0 |     0.06376 | \n",
      "14 |      330.0 |     0.07462 | \n",
      "15 |  1.535e+04 |      0.5577 | \n",
      "16 |      7458. |      0.5499 | \n",
      "\n"
     ]
    },
    {
     "data": {
      "image/png": "[encoded data removed]",
      "text/plain": [
       "<Figure size 432x288 with 1 Axes>"
      ]
     },
     "metadata": {
      "needs_background": "light"
     },
     "output_type": "display_data"
    },
    {
     "name": "stdout",
     "output_type": "stream",
     "text": [
      "   |       Size | Circularity | \n",
      "-- | ---------- | ----------- | \n",
      "   |            |             | \n",
      "   |     (px^2) |             | \n",
      "-- | ---------- | ----------- | \n",
      " 1 |      53.00 |     0.09790 | \n",
      " 2 |      82.00 |      0.2385 | \n",
      " 3 |      37.00 |     0.05131 | \n",
      " 4 |      573.0 |      0.1563 | \n",
      " 5 |      139.0 |      0.1692 | \n",
      " 6 |      88.00 |      0.1659 | \n",
      " 7 |      771.0 |      0.2491 | \n",
      " 8 |      805.0 |      0.3796 | \n",
      " 9 |      239.0 |     0.06031 | \n",
      "10 |      578.0 |      0.1456 | \n",
      "11 |      160.0 |      0.1075 | \n",
      "12 |      425.0 |      0.1583 | \n",
      "13 |      83.00 |      0.1775 | \n",
      "14 |  1.421e+04 |      0.5521 | \n",
      "15 |      6927. |      0.5519 | \n",
      "\n"
     ]
    },
    {
     "data": {
      "image/png": "[encoded data removed]",
      "text/plain": [
       "<Figure size 432x288 with 1 Axes>"
      ]
     },
     "metadata": {
      "needs_background": "light"
     },
     "output_type": "display_data"
    },
    {
     "name": "stdout",
     "output_type": "stream",
     "text": [
      "   |       Size | Circularity | \n",
      "-- | ---------- | ----------- | \n",
      "   |            |             | \n",
      "   |     (px^2) |             | \n",
      "-- | ---------- | ----------- | \n",
      " 1 |      52.00 |      0.1090 | \n",
      " 2 |      53.00 |     0.09790 | \n",
      " 3 |      95.00 |     0.08662 | \n",
      " 4 |      616.0 |      0.2250 | \n",
      " 5 |      166.0 |      0.1119 | \n",
      " 6 |      210.0 |      0.2589 | \n",
      " 7 |      859.0 |      0.2915 | \n",
      " 8 |      1104. |      0.2716 | \n",
      " 9 |      529.0 |      0.4628 | \n",
      "10 |      698.0 |     0.09559 | \n",
      "11 |      856.0 |      0.4355 | \n",
      "12 |      413.0 |      0.1606 | \n",
      "13 |      37.00 |     0.05131 | \n",
      "14 |  1.425e+04 |      0.5519 | \n",
      "15 |      6828. |      0.5514 | \n",
      "\n"
     ]
    },
    {
     "data": {
      "image/png": "[encoded data removed]",
      "text/plain": [
       "<Figure size 432x288 with 1 Axes>"
      ]
     },
     "metadata": {
      "needs_background": "light"
     },
     "output_type": "display_data"
    },
    {
     "name": "stdout",
     "output_type": "stream",
     "text": [
      "   |       Size | Circularity | \n",
      "-- | ---------- | ----------- | \n",
      "   |            |             | \n",
      "   |     (px^2) |             | \n",
      "-- | ---------- | ----------- | \n",
      " 1 |      45.00 |     0.06128 | \n",
      " 2 |      37.00 |     0.05131 | \n",
      " 3 |      262.0 |      0.3888 | \n",
      " 4 |      44.00 |     0.05530 | \n",
      " 5 |      198.0 |      0.3859 | \n",
      " 6 |      150.0 |      0.1838 | \n",
      " 7 |      190.0 |      0.3779 | \n",
      " 8 |      131.0 |      0.3211 | \n",
      " 9 |      143.0 |     0.07853 | \n",
      "10 |      62.00 |     0.05769 | \n",
      "11 |      65.00 |      0.1436 | \n",
      "12 |      142.0 |      0.4893 | \n",
      "13 |      62.00 |      0.1532 | \n",
      "14 |      62.00 |     0.09428 | \n",
      "15 |      174.0 |      0.1517 | \n",
      "16 |      146.0 |      0.2017 | \n",
      "17 |      115.0 |      0.1156 | \n",
      "18 |      475.0 |      0.3609 | \n",
      "19 |      120.0 |      0.4068 | \n",
      "20 |      264.0 |      0.2261 | \n",
      "21 |      44.00 |     0.05530 | \n",
      "22 |      140.0 |      0.1723 | \n",
      "23 |      94.00 |      0.1721 | \n",
      "24 |      46.00 |     0.09319 | \n",
      "25 |      59.00 |     0.09503 | \n",
      "26 |      37.00 |     0.05131 | \n",
      "27 |      152.0 |      0.2838 | \n",
      "28 |      293.0 |      0.1184 | \n",
      "29 |      158.0 |      0.1269 | \n",
      "30 |      2931. |      0.2248 | \n",
      "31 |      459.0 |      0.1433 | \n",
      "32 |      778.0 |      0.1388 | \n",
      "33 |      44.00 |     0.05530 | \n",
      "34 |      454.0 |      0.1129 | \n",
      "35 |      75.00 |      0.1488 | \n",
      "36 |  1.385e+04 |      0.5515 | \n",
      "37 |      6727. |      0.5531 | \n",
      "\n"
     ]
    },
    {
     "data": {
      "image/png": "[encoded data removed]",
      "text/plain": [
       "<Figure size 432x288 with 1 Axes>"
      ]
     },
     "metadata": {
      "needs_background": "light"
     },
     "output_type": "display_data"
    },
    {
     "name": "stdout",
     "output_type": "stream",
     "text": [
      "   |       Size | Circularity | \n",
      "-- | ---------- | ----------- | \n",
      "   |            |             | \n",
      "   |     (px^2) |             | \n",
      "-- | ---------- | ----------- | \n",
      " 1 |  2.138e+04 |      0.4988 | \n",
      " 2 |  1.644e+04 |      0.4948 | \n",
      " 3 |      123.0 |      0.2319 | \n",
      " 4 |      6551. |      0.2981 | \n",
      " 5 |      70.00 |      0.1050 | \n",
      " 6 |  1.172e+05 |      0.1838 | \n",
      " 7 |      277.0 |      0.4418 | \n",
      " 8 |  2.421e+04 |      0.4108 | \n",
      " 9 |      37.00 |     0.05131 | \n",
      "10 |      37.00 |     0.05131 | \n",
      "11 |  3.746e+04 |      0.5192 | \n",
      "12 |  1.313e+04 |      0.5253 | \n",
      "13 |      37.00 |     0.05131 | \n",
      "14 |      199.0 |      0.1857 | \n",
      "15 |      49.00 |     0.06201 | \n",
      "16 |      707.0 |      0.3566 | \n",
      "17 |      82.00 |     0.04156 | \n",
      "18 |      46.00 |     0.09319 | \n",
      "19 |      162.0 |      0.1112 | \n",
      "20 |      499.0 |      0.1748 | \n",
      "21 |      131.0 |      0.2280 | \n",
      "22 |      59.00 |      0.1295 | \n",
      "23 |      74.00 |     0.06495 | \n",
      "24 |      59.00 |      0.1095 | \n",
      "25 |      161.0 |      0.2683 | \n",
      "26 |      37.00 |     0.05131 | \n",
      "27 |      37.00 |     0.05131 | \n",
      "28 |      456.0 |      0.1354 | \n",
      "29 |      68.00 |      0.1226 | \n",
      "30 |      62.00 |     0.07817 | \n",
      "31 |  2.161e+04 |      0.3651 | \n",
      "32 |      120.0 |      0.1945 | \n",
      "33 |      127.0 |      0.3623 | \n",
      "34 |      211.0 |      0.2601 | \n",
      "35 |      99.00 |      0.1409 | \n",
      "36 |  3.178e+04 |      0.3426 | \n",
      "37 |      530.0 |      0.3767 | \n",
      "38 |  2.858e+04 |      0.4869 | \n",
      "39 |      346.0 |      0.3785 | \n",
      "40 |      124.0 |      0.4633 | \n",
      "41 |      91.00 |     0.08615 | \n",
      "42 |      65.00 |     0.08151 | \n",
      "43 |      61.00 |      0.1406 | \n",
      "44 |      122.0 |      0.1198 | \n",
      "45 |      93.00 |      0.1504 | \n",
      "46 |      112.0 |      0.1784 | \n",
      "47 |      161.0 |      0.2171 | \n",
      "48 |      123.0 |      0.2628 | \n",
      "49 |      341.0 |      0.3223 | \n",
      "50 |      283.0 |      0.2508 | \n",
      "51 |      211.0 |      0.3589 | \n",
      "52 |      183.0 |      0.2437 | \n",
      "53 |  1.379e+04 |      0.3926 | \n",
      "54 |      179.0 |      0.3689 | \n",
      "55 |      176.0 |      0.4378 | \n",
      "56 |      4650. |      0.3963 | \n",
      "57 |      126.0 |      0.2962 | \n",
      "58 |      59.00 |      0.1095 | \n",
      "59 |      230.0 |      0.3440 | \n",
      "60 |      110.0 |      0.1210 | \n",
      "61 |      2924. |      0.3649 | \n",
      "62 |      66.00 |      0.1227 | \n",
      "63 |      69.00 |      0.1213 | \n",
      "64 |      258.0 |      0.2699 | \n",
      "65 |      99.00 |      0.2214 | \n",
      "66 |      1222. |      0.2756 | \n",
      "67 |      55.00 |      0.1463 | \n",
      "68 |      46.00 |     0.06767 | \n",
      "69 |      4713. |      0.5229 | \n",
      "70 |      161.0 |      0.2707 | \n",
      "71 |      63.00 |      0.1053 | \n",
      "72 |      60.00 |      0.1177 | \n",
      "73 |      37.00 |     0.05131 | \n",
      "74 |      110.0 |      0.4179 | \n",
      "75 |      124.0 |      0.3048 | \n",
      "76 |      112.0 |      0.2725 | \n",
      "77 |      81.00 |      0.2138 | \n",
      "78 |      189.0 |      0.4227 | \n",
      "79 |      114.0 |      0.2919 | \n",
      "80 |      108.0 |      0.2218 | \n",
      "81 |      45.00 |     0.08818 | \n",
      "82 |      171.0 |      0.3865 | \n",
      "83 |  1.102e+04 |      0.5529 | \n",
      "84 |      5535. |      0.5563 | \n",
      "\n"
     ]
    },
    {
     "data": {
      "image/png": "[encoded data removed]",
      "text/plain": [
       "<Figure size 432x288 with 1 Axes>"
      ]
     },
     "metadata": {
      "needs_background": "light"
     },
     "output_type": "display_data"
    },
    {
     "name": "stdout",
     "output_type": "stream",
     "text": [
      "   |       Size | Circularity | \n",
      "-- | ---------- | ----------- | \n",
      "   |            |             | \n",
      "   |     (px^2) |             | \n",
      "-- | ---------- | ----------- | \n",
      " 1 |  4.328e+04 |      0.5086 | \n",
      " 2 |  1.222e+04 |      0.4918 | \n",
      " 3 |      37.00 |     0.05131 | \n",
      " 4 |  1.025e+05 |      0.1565 | \n",
      " 5 |      68.00 |      0.1315 | \n",
      " 6 |      253.0 |      0.2501 | \n",
      " 7 |      37.00 |     0.05131 | \n",
      " 8 |      69.00 |      0.1393 | \n",
      " 9 |      73.00 |     0.09744 | \n",
      "10 |      44.00 |     0.05530 | \n",
      "11 |      44.00 |     0.05530 | \n",
      "12 |  5.357e+04 |      0.4792 | \n",
      "13 |      92.00 |      0.1547 | \n",
      "14 |      158.0 |      0.2687 | \n",
      "15 |      54.00 |     0.08676 | \n",
      "16 |      81.00 |      0.1305 | \n",
      "17 |      2076. |      0.2379 | \n",
      "18 |      253.0 |     0.09536 | \n",
      "19 |      44.00 |     0.05530 | \n",
      "20 |      39.00 |      0.1021 | \n",
      "21 |  1.408e+04 |      0.5092 | \n",
      "22 |      62.00 |     0.08683 | \n",
      "23 |      50.00 |     0.08721 | \n",
      "24 |      722.0 |      0.1016 | \n",
      "25 |      150.0 |      0.3428 | \n",
      "26 |      773.0 |     0.09856 | \n",
      "27 |      86.00 |      0.1748 | \n",
      "28 |      4236. |     0.02844 | \n",
      "29 |      74.00 |      0.1011 | \n",
      "30 |  3.609e+04 |      0.3120 | \n",
      "31 |      104.0 |      0.1368 | \n",
      "32 |      37.00 |     0.05131 | \n",
      "33 |      89.00 |      0.1085 | \n",
      "34 |      44.00 |     0.05530 | \n",
      "35 |      529.0 |      0.1259 | \n",
      "36 |      138.0 |      0.3125 | \n",
      "37 |      999.0 |      0.4490 | \n",
      "38 |      76.00 |     0.08890 | \n",
      "39 |      179.0 |      0.3329 | \n",
      "40 |      96.00 |      0.1245 | \n",
      "41 |      46.00 |     0.09319 | \n",
      "42 |  9.226e+04 |      0.5369 | \n",
      "43 |      83.00 |      0.1195 | \n",
      "44 |      53.00 |     0.09790 | \n",
      "45 |      337.0 |      0.4788 | \n",
      "46 |      797.0 |      0.4503 | \n",
      "47 |      393.0 |      0.4301 | \n",
      "48 |      107.0 |      0.1548 | \n",
      "49 |      97.00 |      0.1896 | \n",
      "50 |      125.0 |      0.2701 | \n",
      "51 |      102.0 |      0.2837 | \n",
      "52 |      37.00 |     0.05131 | \n",
      "53 |      2990. |      0.3856 | \n",
      "54 |      3815. |      0.5355 | \n",
      "55 |      45.00 |     0.08818 | \n",
      "56 |      67.00 |      0.1823 | \n",
      "57 |      44.00 |     0.05530 | \n",
      "58 |      37.00 |     0.05131 | \n",
      "59 |      104.0 |      0.2584 | \n",
      "60 |      471.0 |      0.5214 | \n",
      "61 |      64.00 |     0.09284 | \n",
      "62 |      78.00 |      0.4888 | \n",
      "63 |      113.0 |      0.2979 | \n",
      "64 |      37.00 |     0.05131 | \n",
      "65 |      44.00 |     0.05530 | \n",
      "66 |      142.0 |      0.4136 | \n",
      "67 |      37.00 |     0.05131 | \n",
      "68 |      171.0 |      0.4009 | \n",
      "69 |      546.0 |      0.5201 | \n",
      "70 |      416.0 |      0.4950 | \n",
      "71 |      51.00 |     0.08062 | \n",
      "72 |      37.00 |     0.05131 | \n",
      "73 |      58.00 |      0.1107 | \n",
      "74 |      114.0 |      0.2462 | \n",
      "75 |      44.00 |     0.05530 | \n",
      "76 |      94.00 |      0.2459 | \n",
      "77 |  1.060e+04 |      0.5511 | \n",
      "78 |      5678. |      0.5585 | \n",
      "\n"
     ]
    },
    {
     "data": {
      "image/png": "[encoded data removed]",
      "text/plain": [
       "<Figure size 432x288 with 1 Axes>"
      ]
     },
     "metadata": {
      "needs_background": "light"
     },
     "output_type": "display_data"
    },
    {
     "name": "stdout",
     "output_type": "stream",
     "text": [
      "  |       Size | Circularity | \n",
      "- | ---------- | ----------- | \n",
      "  |            |             | \n",
      "  |     (px^2) |             | \n",
      "- | ---------- | ----------- | \n",
      "1 |      186.0 |      0.1227 | \n",
      "2 |      37.00 |     0.05131 | \n",
      "3 |      49.00 |     0.06201 | \n",
      "\n"
     ]
    },
    {
     "data": {
      "image/png": "[encoded data removed]",
      "text/plain": [
       "<Figure size 432x288 with 1 Axes>"
      ]
     },
     "metadata": {
      "needs_background": "light"
     },
     "output_type": "display_data"
    },
    {
     "name": "stdout",
     "output_type": "stream",
     "text": [
      "  |       Size | Circularity | \n",
      "- | ---------- | ----------- | \n",
      "  |            |             | \n",
      "  |     (px^2) |             | \n",
      "- | ---------- | ----------- | \n",
      "1 |  1.526e+05 |      0.1126 | \n",
      "2 |      37.00 |     0.05131 | \n",
      "3 |      54.00 |     0.06893 | \n",
      "4 |      85.00 |      0.1053 | \n",
      "5 |      75.00 |      0.1243 | \n",
      "6 |      38.00 |     0.08153 | \n",
      "\n"
     ]
    },
    {
     "data": {
      "image/png": "[encoded data removed]",
      "text/plain": [
       "<Figure size 432x288 with 1 Axes>"
      ]
     },
     "metadata": {
      "needs_background": "light"
     },
     "output_type": "display_data"
    },
    {
     "name": "stdout",
     "output_type": "stream",
     "text": [
      "  |       Size | Circularity | \n",
      "- | ---------- | ----------- | \n",
      "  |            |             | \n",
      "  |     (px^2) |             | \n",
      "- | ---------- | ----------- | \n",
      "1 |      111.0 |      0.3009 | \n",
      "2 |      37.00 |     0.05131 | \n",
      "3 |      37.00 |     0.05131 | \n",
      "4 |      57.00 |     0.06366 | \n",
      "5 |      44.00 |     0.05530 | \n",
      "\n"
     ]
    },
    {
     "data": {
      "image/png": "[encoded data removed]",
      "text/plain": [
       "<Figure size 432x288 with 1 Axes>"
      ]
     },
     "metadata": {
      "needs_background": "light"
     },
     "output_type": "display_data"
    },
    {
     "name": "stdout",
     "output_type": "stream",
     "text": [
      "   |       Size | Circularity | \n",
      "-- | ---------- | ----------- | \n",
      "   |            |             | \n",
      "   |     (px^2) |             | \n",
      "-- | ---------- | ----------- | \n",
      " 1 |  1.622e+05 |      0.1075 | \n",
      " 2 |      37.00 |     0.05131 | \n",
      " 3 |      37.00 |     0.05131 | \n",
      " 4 |      111.0 |      0.2554 | \n",
      " 5 |      98.00 |      0.3769 | \n",
      " 6 |      66.00 |     0.07951 | \n",
      " 7 |      126.0 |      0.1756 | \n",
      " 8 |      103.0 |      0.1274 | \n",
      " 9 |      59.00 |      0.1095 | \n",
      "10 |      73.00 |      0.1455 | \n",
      "11 |      70.00 |      0.1050 | \n",
      "12 |      37.00 |     0.05131 | \n",
      "\n",
      "Clean:\n",
      "[0.10751717334533858]\n",
      "[0.05131178541392748]\n",
      "[0.05131178541392748]\n",
      "[0.25542421586547615]\n",
      "[0.37692147854858465]\n",
      "[0.07951405159235315]\n",
      "[0.17556107941204158]\n",
      "1.0975615695916492\n",
      "Covid:\n",
      "[0.12743531709365713]\n",
      "[0.10946416273580863]\n",
      "[0.1455095465048423]\n",
      "[0.10497593910315968]\n",
      "0.48738496543746773\n"
     ]
    }
   ],
   "source": [
    "import diplib as dip\n",
    "\n",
    "import os, re\n",
    "\n",
    "path = \"C:\\\\Users\\\\Alan\\\\Desktop\\\\Final\\\\comparison\\\\lungs\"\n",
    "\n",
    "images = os.listdir(path)\n",
    "\n",
    "#print(images)\n",
    "\n",
    "cleanImg = []\n",
    "covidImg = []\n",
    "\n",
    "for img in images:\n",
    "    thresh = dip.ImageRead(path + \"\\\\\" + str(img))\n",
    "    \n",
    "    thresh.SetPixelSize(dip.PixelSize(dip.PhysicalQuantity(1,\"px\")))\n",
    "\n",
    "    thresh = dip.ColorSpaceManager.Convert(thresh, 'gray')\n",
    "\n",
    "    obj = ~dip.Threshold(dip.Gauss(thresh))[0]\n",
    "    obj = dip.EdgeObjectsRemove(obj)\n",
    "        #obj.Show()\n",
    "\n",
    "\n",
    "    obj = dip.Opening(dip.Closing(thresh,7),7)\n",
    "        #obj.Show()\n",
    "\n",
    "    newThresh = obj < 120\n",
    "    newThresh = dip.EdgeObjectsRemove(newThresh)\n",
    "    newThresh = dip.Label(newThresh, minSize=30)\n",
    "    m = dip.MeasurementTool.Measure(newThresh, obj, ['Size', \"Circularity\"])\n",
    "\n",
    "    c = dip.ObjectToMeasurement(newThresh, m[\"Circularity\"])\n",
    "    c.Show(colormap='viridis')\n",
    "    \n",
    "    if img.__contains__(\"clean\"):\n",
    "        cleanImg.append(m)\n",
    "    else:\n",
    "        covidImg.append(m)\n",
    " \n",
    "    print(m)\n",
    "\n",
    "\n",
    "cleanCir = 0\n",
    "covidCir = 0\n",
    "\n",
    "idx = 1\n",
    "print(\"Clean:\")\n",
    "for img in cleanImg:\n",
    "    print(m[idx][\"Circularity\"])\n",
    "    cleanCir += m[idx][\"Circularity\"][0]\n",
    "    idx += 1\n",
    "    \n",
    "print(cleanCir)\n",
    "\n",
    "print(\"Covid:\")\n",
    "for img in covidImg:\n",
    "    print(m[idx][\"Circularity\"])\n",
    "    covidCir += m[idx][\"Circularity\"][0]\n",
    "    idx += 1\n",
    "    \n",
    "print(covidCir)"
   ]
  },
  {
   "cell_type": "code",
   "execution_count": null,
   "id": "429e690d",
   "metadata": {},
   "outputs": [],
   "source": []
  },
  {
   "cell_type": "code",
   "execution_count": null,
   "id": "591a23eb",
   "metadata": {},
   "outputs": [],
   "source": []
  }
 ],
 "metadata": {
  "kernelspec": {
   "display_name": "Python 3 (ipykernel)",
   "language": "python",
   "name": "python3"
  },
  "language_info": {
   "codemirror_mode": {
    "name": "ipython",
    "version": 3
   },
   "file_extension": ".py",
   "mimetype": "text/x-python",
   "name": "python",
   "nbconvert_exporter": "python",
   "pygments_lexer": "ipython3",
   "version": "3.9.7"
  }
 },
 "nbformat": 4,
 "nbformat_minor": 5
}
