{
 "cells": [
  {
   "cell_type": "markdown",
   "id": "46419a45",
   "metadata": {},
   "source": [
    "<h3>Team Forest<br/>\n",
    "Biomedial Image Processing Application (BIPA)<br/>\n",
    "CSC821, Prof. K. Okada<br/>\n",
    "Spring 2022</h3>\n",
    "\n",
    "Please note: this code uses the Dicom images downloadable at https://wiki.cancerimagingarchive.net/pages/viewpage.action?pageId=80969742#80969742bcab02c187174a288dbcbf95d26179e8. Downloading the images requires first installing the NBIA Data Retriever on your local machine which is available in the App Store."
   ]
  },
  {
   "cell_type": "markdown",
   "id": "64bb1967",
   "metadata": {},
   "source": [
    "<h2>Image I/O</h2>"
   ]
  },
  {
   "cell_type": "code",
   "execution_count": 1,
   "id": "db846592",
   "metadata": {},
   "outputs": [],
   "source": [
    "%matplotlib inline\n",
    "import matplotlib.pyplot as plt\n",
    "import SimpleITK as sitk\n",
    "\n",
    "import sys\n",
    "import os"
   ]
  },
  {
   "cell_type": "code",
   "execution_count": 26,
   "id": "02569c5a",
   "metadata": {},
   "outputs": [
    {
     "name": "stdout",
     "output_type": "stream",
     "text": [
      "Reading Dicom directory: NBIA_images/manifest-1608266677008/MIDRC-RICORD-1A/MIDRC-RICORD-1A-419639-000082/08-02-2002-NA-CT CHEST WITHOUT CONTRAST-04614/2.000000-ROUTINE CHEST NON-CON-97100\n",
      "Image size: 512 512 255\n",
      "Writing image: MIDRC-RICORD-1A_axial_image.nii\n"
     ]
    }
   ],
   "source": [
    "# example of reading Dicom images from COVID dataset, exporting, and showing outputting 3D image\n",
    "# axial scan of covid-infected lung showing disease markers\n",
    "\n",
    "# TO-DO: manually setting path here, need an interface to take input\n",
    "dicom_dir = \"NBIA_images/manifest-1608266677008/MIDRC-RICORD-1A/MIDRC-RICORD-1A-419639-000082/08-02-2002-NA-CT CHEST WITHOUT CONTRAST-04614/2.000000-ROUTINE CHEST NON-CON-97100\"\n",
    "\n",
    "print(\"Reading Dicom directory:\", dicom_dir)\n",
    "reader = sitk.ImageSeriesReader()\n",
    "\n",
    "dicom_names = reader.GetGDCMSeriesFileNames(dicom_dir)\n",
    "reader.SetFileNames(dicom_names)\n",
    "\n",
    "image = reader.Execute()\n",
    "\n",
    "size = image.GetSize()\n",
    "print(\"Image size:\", size[0], size[1], size[2])\n",
    "\n",
    "print(\"Writing image:\", \"MIDRC-RICORD-1A_axial_image.nii\")\n",
    "\n",
    "sitk.WriteImage(image, \"MIDRC-RICORD-1A_axial_image.nii\")\n",
    "\n",
    "if (\"SITK_NOSHOW\" not in os.environ):\n",
    "    sitk.Show(image, \"Dicom Series\")"
   ]
  },
  {
   "cell_type": "code",
   "execution_count": 3,
   "id": "1c848717",
   "metadata": {},
   "outputs": [
    {
     "name": "stdout",
     "output_type": "stream",
     "text": [
      "origin: (-192.1999969482422, -180.0, -349.25)\n",
      "size: (512, 512, 255)\n",
      "spacing: (0.703125, 0.703125, 1.25)\n",
      "direction: (1.0, 0.0, 0.0, 0.0, 1.0, 0.0, 0.0, 0.0, 1.0)\n",
      "\n",
      "Dimensions: 3\n",
      "Width: 512\n",
      "Height: 512\n",
      "Depth: 255\n",
      "Pixel ID: 4\n",
      "Pixel Type: 32-bit signed integer\n",
      "Components Per Pixel: 1\n"
     ]
    }
   ],
   "source": [
    "# example of 3D image attributes\n",
    "covid_example = sitk.ReadImage(\"./MIDRC-RICORD-1A_axial_image.nii\")\n",
    "\n",
    "print(f\"origin: {covid_example.GetOrigin()}\")\n",
    "print(f\"size: {covid_example.GetSize()}\")\n",
    "print(f\"spacing: {covid_example.GetSpacing()}\")\n",
    "print(f\"direction: {covid_example.GetDirection()}\\n\")\n",
    "\n",
    "print(\"Dimensions: \" + str(covid_example.GetDimension()))\n",
    "print(\"Width: \" + str(covid_example.GetWidth()))\n",
    "print(\"Height: \" + str(covid_example.GetHeight()))\n",
    "print(\"Depth: \" + str(covid_example.GetDepth()))\n",
    "print(\"Pixel ID: \" + str(covid_example.GetPixelIDValue()))\n",
    "print(\"Pixel Type: \" + str(covid_example.GetPixelIDTypeAsString()))\n",
    "print(\"Components Per Pixel: \" + str(covid_example.GetNumberOfComponentsPerPixel()))"
   ]
  },
  {
   "cell_type": "code",
   "execution_count": 4,
   "id": "fd44e3fa",
   "metadata": {},
   "outputs": [
    {
     "data": {
      "application/vnd.jupyter.widget-view+json": {
       "model_id": "a1bd51ed5a944eaeba0c6b6fd00064c1",
       "version_major": 2,
       "version_minor": 0
      },
      "text/plain": [
       "interactive(children=(Dropdown(description='series_to_load', options=('1.2.826.0.1.3680043.10.474.419639.44260…"
      ]
     },
     "metadata": {},
     "output_type": "display_data"
    }
   ],
   "source": [
    "\n",
    "# extract modalities of various embedded scans\n",
    "from ipywidgets import interact, fixed\n",
    "\n",
    "data_directory = \"NBIA_images/manifest-1608266677008/MIDRC-RICORD-1A/MIDRC-RICORD-1A-419639-000361/10-21-2002-NA-CT CHEST WITHOUT CONTRAST-91670/2.000000-ROUTINE CHEST NON-CON-50599\"\n",
    "# Global variable 'selected_series' is updated by the interact function\n",
    "selected_series = \"\"\n",
    "file_reader = sitk.ImageFileReader()\n",
    "\n",
    "\n",
    "def DICOM_series_dropdown_callback(series_to_load, series_dictionary):\n",
    "    global selected_series\n",
    "    # Print some information about the series from the meta-data dictionary\n",
    "    # DICOM standard part 6, Data Dictionary: http://medical.nema.org/medical/dicom/current/output/pdf/part06.pdf\n",
    "    file_reader.SetFileName(series_dictionary[series_to_load][0])\n",
    "    file_reader.ReadImageInformation()\n",
    "    tags_to_print = {\n",
    "        \"0010|0010\": \"Patient name: \",\n",
    "        \"0008|0060\": \"Modality: \",\n",
    "        \"0008|0021\": \"Series date: \",\n",
    "        \"0008|0080\": \"Institution name: \",\n",
    "        \"0008|1050\": \"Performing physician's name: \",\n",
    "    }\n",
    "    for tag in tags_to_print:\n",
    "        try:\n",
    "            print(tags_to_print[tag] + file_reader.GetMetaData(tag))\n",
    "        except:  # Ignore if the tag isn't in the dictionary\n",
    "            pass\n",
    "    selected_series = series_to_load\n",
    "\n",
    "\n",
    "# Directory contains multiple DICOM studies/series, store\n",
    "# in dictionary with key being the series ID\n",
    "reader = sitk.ImageSeriesReader()\n",
    "series_file_names = {}\n",
    "series_IDs = reader.GetGDCMSeriesIDs(data_directory)\n",
    "# Check that we have at least one series\n",
    "if series_IDs:\n",
    "    for series in series_IDs:\n",
    "        series_file_names[series] = reader.GetGDCMSeriesFileNames(\n",
    "            data_directory, series\n",
    "        )\n",
    "\n",
    "    interact(\n",
    "        DICOM_series_dropdown_callback,\n",
    "        series_to_load=list(series_IDs),\n",
    "        series_dictionary=fixed(series_file_names),\n",
    "    )\n",
    "else:\n",
    "    print(\"Data directory does not contain any DICOM series.\")"
   ]
  },
  {
   "cell_type": "markdown",
   "id": "ed9ebb9e",
   "metadata": {},
   "source": [
    "<h2>Registration</h2>"
   ]
  },
  {
   "cell_type": "code",
   "execution_count": 5,
   "id": "c74b03ce",
   "metadata": {},
   "outputs": [
    {
     "name": "stdout",
     "output_type": "stream",
     "text": [
      "Reading Dicom directory: NBIA_images/manifest-1608266677008/MIDRC-RICORD-1A/MIDRC-RICORD-1A-419639-000082/08-02-2002-NA-CT CHEST WITHOUT CONTRAST-04614/601.000000-COR 3X3-86740\n"
     ]
    },
    {
     "name": "stderr",
     "output_type": "stream",
     "text": [
      "WARNING: In /Users/runner/work/1/sitk-build/ITK-prefix/include/ITK-5.2/itkImageSeriesReader.hxx, line 480\n",
      "ImageSeriesReader (0x7ff53e2136f0): Non uniform sampling or missing slices detected,  maximum nonuniformity:176.653\n",
      "\n"
     ]
    },
    {
     "name": "stdout",
     "output_type": "stream",
     "text": [
      "Image size: 512 512 106\n",
      "Writing image: MIDRC-RICORD-1A_coronal_image.nii\n"
     ]
    }
   ],
   "source": [
    "# coronal scan of same patient's covid-infected lung showing disease markers\n",
    "\n",
    "# TO-DO: manually setting path here, need an interface to take input\n",
    "dicom_dir = \"NBIA_images/manifest-1608266677008/MIDRC-RICORD-1A/MIDRC-RICORD-1A-419639-000082/08-02-2002-NA-CT CHEST WITHOUT CONTRAST-04614/601.000000-COR 3X3-86740\"\n",
    "\n",
    "print(\"Reading Dicom directory:\", dicom_dir)\n",
    "reader = sitk.ImageSeriesReader()\n",
    "\n",
    "dicom_names = reader.GetGDCMSeriesFileNames(dicom_dir)\n",
    "\n",
    "reader.SetFileNames(dicom_names)\n",
    "\n",
    "image = reader.Execute()\n",
    "\n",
    "size = image.GetSize()\n",
    "print(\"Image size:\", size[0], size[1], size[2])\n",
    "\n",
    "print(\"Writing image:\", \"MIDRC-RICORD-1A_coronal_image.nii\")\n",
    "\n",
    "sitk.WriteImage(image, \"MIDRC-RICORD-1A_coronal_image.nii\")\n",
    "\n",
    "if (\"SITK_NOSHOW\" not in os.environ):\n",
    "    sitk.Show(image, \"Dicom Series\")"
   ]
  },
  {
   "cell_type": "code",
   "execution_count": 6,
   "id": "a774f0b3",
   "metadata": {},
   "outputs": [
    {
     "name": "stdout",
     "output_type": "stream",
     "text": [
      "Dimensions: 3\n",
      "Width: 512\n",
      "Height: 512\n",
      "Depth: 106\n",
      "Pixel ID: 4\n",
      "Pixel Type: 32-bit signed integer\n",
      "Components Per Pixel: 1\n"
     ]
    }
   ],
   "source": [
    "covid_example = sitk.ReadImage(\"./MIDRC-RICORD-1A_coronal_image.nii\")\n",
    "\n",
    "print(\"Dimensions: \" + str(covid_example.GetDimension()))\n",
    "print(\"Width: \" + str(covid_example.GetWidth()))\n",
    "print(\"Height: \" + str(covid_example.GetHeight()))\n",
    "print(\"Depth: \" + str(covid_example.GetDepth()))\n",
    "print(\"Pixel ID: \" + str(covid_example.GetPixelIDValue()))\n",
    "print(\"Pixel Type: \" + str(covid_example.GetPixelIDTypeAsString()))\n",
    "print(\"Components Per Pixel: \" + str(covid_example.GetNumberOfComponentsPerPixel()))"
   ]
  },
  {
   "cell_type": "code",
   "execution_count": 7,
   "id": "c6a25b15",
   "metadata": {},
   "outputs": [
    {
     "name": "stdout",
     "output_type": "stream",
     "text": [
      "Reading Dicom directory: stonybrook_covid/manifest-1628608914773/COVID-19-NY-SBU/A002279/12-31-1900-NA-CT CHEST WITHOUT IV CONTRAST-52731/2.000000-5 MM STANDARD-40924\n"
     ]
    },
    {
     "name": "stderr",
     "output_type": "stream",
     "text": [
      "WARNING: In /Users/runner/work/1/sitk-build/ITK/Modules/IO/GDCM/src/itkGDCMSeriesFileNames.cxx, line 67\n",
      "GDCMSeriesFileNames (0x7ff53e2d84c0): stonybrook_covid/manifest-1628608914773/COVID-19-NY-SBU/A002279/12-31-1900-NA-CT CHEST WITHOUT IV CONTRAST-52731/2.000000-5 MM STANDARD-40924 is not a directory\n",
      "\n",
      "WARNING: In /Users/runner/work/1/sitk-build/ITK/Modules/IO/GDCM/src/itkGDCMSeriesFileNames.cxx, line 113\n",
      "GDCMSeriesFileNames (0x7ff53e2d84c0): No Series can be found, make sure your restrictions are not too strong\n",
      "\n"
     ]
    },
    {
     "ename": "RuntimeError",
     "evalue": "Exception thrown in SimpleITK ImageSeriesReader_Execute: /Users/runner/work/1/sitk/Code/IO/src/sitkImageSeriesReader.cxx:129:\nsitk::ERROR: File names information is empty. Cannot read series.",
     "output_type": "error",
     "traceback": [
      "\u001b[0;31m---------------------------------------------------------------------------\u001b[0m",
      "\u001b[0;31mRuntimeError\u001b[0m                              Traceback (most recent call last)",
      "Input \u001b[0;32mIn [7]\u001b[0m, in \u001b[0;36m<cell line: 13>\u001b[0;34m()\u001b[0m\n\u001b[1;32m      9\u001b[0m dicom_names \u001b[38;5;241m=\u001b[39m reader\u001b[38;5;241m.\u001b[39mGetGDCMSeriesFileNames(dicom_dir)\n\u001b[1;32m     11\u001b[0m reader\u001b[38;5;241m.\u001b[39mSetFileNames(dicom_names)\n\u001b[0;32m---> 13\u001b[0m image \u001b[38;5;241m=\u001b[39m \u001b[43mreader\u001b[49m\u001b[38;5;241;43m.\u001b[39;49m\u001b[43mExecute\u001b[49m\u001b[43m(\u001b[49m\u001b[43m)\u001b[49m\n\u001b[1;32m     15\u001b[0m size \u001b[38;5;241m=\u001b[39m image\u001b[38;5;241m.\u001b[39mGetSize()\n\u001b[1;32m     16\u001b[0m \u001b[38;5;28mprint\u001b[39m(\u001b[38;5;124m\"\u001b[39m\u001b[38;5;124mImage size:\u001b[39m\u001b[38;5;124m\"\u001b[39m, size[\u001b[38;5;241m0\u001b[39m], size[\u001b[38;5;241m1\u001b[39m], size[\u001b[38;5;241m2\u001b[39m])\n",
      "File \u001b[0;32m/usr/local/lib/python3.9/site-packages/SimpleITK/SimpleITK.py:7860\u001b[0m, in \u001b[0;36mImageSeriesReader.Execute\u001b[0;34m(self)\u001b[0m\n\u001b[1;32m   7854\u001b[0m \u001b[38;5;28;01mdef\u001b[39;00m \u001b[38;5;21mExecute\u001b[39m(\u001b[38;5;28mself\u001b[39m):\n\u001b[1;32m   7855\u001b[0m     \u001b[38;5;124mr\u001b[39m\u001b[38;5;124;03m\"\"\"\u001b[39;00m\n\u001b[1;32m   7856\u001b[0m \u001b[38;5;124;03m    Execute(ImageSeriesReader self) -> Image\u001b[39;00m\n\u001b[1;32m   7857\u001b[0m \n\u001b[1;32m   7858\u001b[0m \n\u001b[1;32m   7859\u001b[0m \u001b[38;5;124;03m    \"\"\"\u001b[39;00m\n\u001b[0;32m-> 7860\u001b[0m     \u001b[38;5;28;01mreturn\u001b[39;00m \u001b[43m_SimpleITK\u001b[49m\u001b[38;5;241;43m.\u001b[39;49m\u001b[43mImageSeriesReader_Execute\u001b[49m\u001b[43m(\u001b[49m\u001b[38;5;28;43mself\u001b[39;49m\u001b[43m)\u001b[49m\n",
      "\u001b[0;31mRuntimeError\u001b[0m: Exception thrown in SimpleITK ImageSeriesReader_Execute: /Users/runner/work/1/sitk/Code/IO/src/sitkImageSeriesReader.cxx:129:\nsitk::ERROR: File names information is empty. Cannot read series."
     ]
    }
   ],
   "source": [
    "# axial scan of Stonybrook patient A00279's covid-infected lung showing disease markers\n",
    "\n",
    "# TO-DO: manually setting path here, need an interface to take input\n",
    "dicom_dir = \"stonybrook_covid/manifest-1628608914773/COVID-19-NY-SBU/A002279/12-31-1900-NA-CT CHEST WITHOUT IV CONTRAST-52731/2.000000-5 MM STANDARD-40924\"\n",
    "\n",
    "print(\"Reading Dicom directory:\", dicom_dir)\n",
    "reader = sitk.ImageSeriesReader()\n",
    "\n",
    "dicom_names = reader.GetGDCMSeriesFileNames(dicom_dir)\n",
    "\n",
    "reader.SetFileNames(dicom_names)\n",
    "\n",
    "image = reader.Execute()\n",
    "\n",
    "size = image.GetSize()\n",
    "print(\"Image size:\", size[0], size[1], size[2])\n",
    "\n",
    "print(\"Writing image:\", \"stonybrook_A002279_2.nii\")\n",
    "\n",
    "sitk.WriteImage(image, \"stonybrook_A002279_2.nii\")\n",
    "\n",
    "if (\"SITK_NOSHOW\" not in os.environ):\n",
    "    sitk.Show(image, \"Dicom Series\")"
   ]
  },
  {
   "cell_type": "code",
   "execution_count": null,
   "id": "52743617",
   "metadata": {},
   "outputs": [],
   "source": [
    "# TO-DO: manually setting path here, need an interface to take input\n",
    "dicom_dir = \"stonybrook_covid/manifest-1628608914773/COVID-19-NY-SBU/A002279/12-31-1900-NA-CT CHEST WITHOUT IV CONTRAST-52731/3.000000-LUNG 5 MM-65792\"\n",
    "\n",
    "print(\"Reading Dicom directory:\", dicom_dir)\n",
    "reader = sitk.ImageSeriesReader()\n",
    "\n",
    "dicom_names = reader.GetGDCMSeriesFileNames(dicom_dir)\n",
    "\n",
    "reader.SetFileNames(dicom_names)\n",
    "\n",
    "image = reader.Execute()\n",
    "\n",
    "size = image.GetSize()\n",
    "print(\"Image size:\", size[0], size[1], size[2])\n",
    "\n",
    "print(\"Writing image:\", \"stonybrook_A002279_3.nii\")\n",
    "\n",
    "sitk.WriteImage(image, \"stonybrook_A002279_3.nii\")\n",
    "\n",
    "if (\"SITK_NOSHOW\" not in os.environ):\n",
    "    sitk.Show(image, \"Dicom Series\")"
   ]
  },
  {
   "cell_type": "code",
   "execution_count": null,
   "id": "f4db3c89",
   "metadata": {},
   "outputs": [],
   "source": [
    "\n",
    "# TO-DO: manually setting path here, need an interface to take input\n",
    "dicom_dir = \"stonybrook_covid/manifest-1628608914773/COVID-19-NY-SBU/A002279/12-31-1900-NA-CT CHEST WITHOUT IV CONTRAST-52731/4.000000-LUNG HR 1.25 MM-54929\"\n",
    "\n",
    "print(\"Reading Dicom directory:\", dicom_dir)\n",
    "reader = sitk.ImageSeriesReader()\n",
    "\n",
    "dicom_names = reader.GetGDCMSeriesFileNames(dicom_dir)\n",
    "\n",
    "reader.SetFileNames(dicom_names)\n",
    "\n",
    "image = reader.Execute()\n",
    "\n",
    "size = image.GetSize()\n",
    "print(\"Image size:\", size[0], size[1], size[2])\n",
    "\n",
    "print(\"Writing image:\", \"stonybrook_A002279_4.nii\")\n",
    "\n",
    "sitk.WriteImage(image, \"stonybrook_A002279_4.nii\")\n",
    "\n",
    "if (\"SITK_NOSHOW\" not in os.environ):\n",
    "    sitk.Show(image, \"Dicom Series\")"
   ]
  },
  {
   "cell_type": "code",
   "execution_count": 8,
   "id": "ed00380d",
   "metadata": {},
   "outputs": [
    {
     "name": "stdout",
     "output_type": "stream",
     "text": [
      "Reading Dicom directory: Subject_1/98.12.2\n"
     ]
    },
    {
     "ename": "RuntimeError",
     "evalue": "Exception thrown in SimpleITK ImageSeriesReader_Execute: /Users/runner/work/1/sitk/Code/IO/src/sitkImageReaderBase.cxx:97:\nsitk::ERROR: The file \"Subject_1/98.12.2/56364398.dcm\" does not exist.",
     "output_type": "error",
     "traceback": [
      "\u001b[0;31m---------------------------------------------------------------------------\u001b[0m",
      "\u001b[0;31mRuntimeError\u001b[0m                              Traceback (most recent call last)",
      "Input \u001b[0;32mIn [8]\u001b[0m, in \u001b[0;36m<cell line: 20>\u001b[0;34m()\u001b[0m\n\u001b[1;32m     16\u001b[0m     \u001b[38;5;66;03m# dicom_names = ['Subject_1/98.12.2/56364397.dcm','Subject_1/98.12.2/56364398.dcm','Subject_1/98.12.2/56364399.dcm']\u001b[39;00m\n\u001b[1;32m     18\u001b[0m reader\u001b[38;5;241m.\u001b[39mSetFileNames(dicom_names)\n\u001b[0;32m---> 20\u001b[0m image \u001b[38;5;241m=\u001b[39m \u001b[43mreader\u001b[49m\u001b[38;5;241;43m.\u001b[39;49m\u001b[43mExecute\u001b[49m\u001b[43m(\u001b[49m\u001b[43m)\u001b[49m\n\u001b[1;32m     22\u001b[0m size \u001b[38;5;241m=\u001b[39m image\u001b[38;5;241m.\u001b[39mGetSize()\n\u001b[1;32m     23\u001b[0m \u001b[38;5;28mprint\u001b[39m(\u001b[38;5;124m\"\u001b[39m\u001b[38;5;124mImage size:\u001b[39m\u001b[38;5;124m\"\u001b[39m, size[\u001b[38;5;241m0\u001b[39m], size[\u001b[38;5;241m1\u001b[39m], size[\u001b[38;5;241m2\u001b[39m])\n",
      "File \u001b[0;32m/usr/local/lib/python3.9/site-packages/SimpleITK/SimpleITK.py:7860\u001b[0m, in \u001b[0;36mImageSeriesReader.Execute\u001b[0;34m(self)\u001b[0m\n\u001b[1;32m   7854\u001b[0m \u001b[38;5;28;01mdef\u001b[39;00m \u001b[38;5;21mExecute\u001b[39m(\u001b[38;5;28mself\u001b[39m):\n\u001b[1;32m   7855\u001b[0m     \u001b[38;5;124mr\u001b[39m\u001b[38;5;124;03m\"\"\"\u001b[39;00m\n\u001b[1;32m   7856\u001b[0m \u001b[38;5;124;03m    Execute(ImageSeriesReader self) -> Image\u001b[39;00m\n\u001b[1;32m   7857\u001b[0m \n\u001b[1;32m   7858\u001b[0m \n\u001b[1;32m   7859\u001b[0m \u001b[38;5;124;03m    \"\"\"\u001b[39;00m\n\u001b[0;32m-> 7860\u001b[0m     \u001b[38;5;28;01mreturn\u001b[39;00m \u001b[43m_SimpleITK\u001b[49m\u001b[38;5;241;43m.\u001b[39;49m\u001b[43mImageSeriesReader_Execute\u001b[49m\u001b[43m(\u001b[49m\u001b[38;5;28;43mself\u001b[39;49m\u001b[43m)\u001b[49m\n",
      "\u001b[0;31mRuntimeError\u001b[0m: Exception thrown in SimpleITK ImageSeriesReader_Execute: /Users/runner/work/1/sitk/Code/IO/src/sitkImageReaderBase.cxx:97:\nsitk::ERROR: The file \"Subject_1/98.12.2/56364398.dcm\" does not exist."
     ]
    }
   ],
   "source": [
    "# manually constructing Dicom image from data at\n",
    "# https://dataverse.harvard.edu/dataset.xhtml?persistentId=doi:10.7910/DVN/6ACUZJ, \n",
    "# Subject (1).rar extracted into folder of .dcm image files\n",
    "# exporting, and showing outputting 3D image\n",
    "\n",
    "# TO-DO: manually setting path here, need an interface to take input\n",
    "dicom_dir = \"Subject_1/98.12.2\"\n",
    "\n",
    "print(\"Reading Dicom directory:\", dicom_dir)\n",
    "reader = sitk.ImageSeriesReader()\n",
    "\n",
    "# manually build list of names for image series because reader.GetGDCMSeriesFileNames is not working\n",
    "dicom_names = []\n",
    "for i in range(56364398,56364823):\n",
    "    dicom_names.append('Subject_1/98.12.2/' + str(i) + '.dcm')\n",
    "    # dicom_names = ['Subject_1/98.12.2/56364397.dcm','Subject_1/98.12.2/56364398.dcm','Subject_1/98.12.2/56364399.dcm']\n",
    "\n",
    "reader.SetFileNames(dicom_names)\n",
    "\n",
    "image = reader.Execute()\n",
    "\n",
    "size = image.GetSize()\n",
    "print(\"Image size:\", size[0], size[1], size[2])\n",
    "\n",
    "print(\"Writing image:\", \"Subject_1.nii\")\n",
    "\n",
    "sitk.WriteImage(image, \"Subject_1.nii\")\n",
    "\n",
    "if (\"SITK_NOSHOW\" not in os.environ):\n",
    "    sitk.Show(image, \"Dicom Series\")"
   ]
  },
  {
   "cell_type": "markdown",
   "id": "fd2a401a",
   "metadata": {},
   "source": [
    "<h2>Segmentation</h2>"
   ]
  },
  {
   "cell_type": "code",
   "execution_count": 1,
   "id": "d4d550aa",
   "metadata": {},
   "outputs": [
    {
     "name": "stdout",
     "output_type": "stream",
     "text": [
      "Reading Dicom directory: NBIA_images/manifest-1608266677008/MIDRC-RICORD-1A/MIDRC-RICORD-1A-419639-000082/08-02-2002-NA-CT CHEST WITHOUT CONTRAST-04614/2.000000-ROUTINE CHEST NON-CON-97100\n"
     ]
    },
    {
     "data": {
      "application/vnd.jupyter.widget-view+json": {
       "model_id": "409f82f53f0747e294fe581c09366b84",
       "version_major": 2,
       "version_minor": 0
      },
      "text/plain": [
       "interactive(children=(IntSlider(value=127, description='z', max=254), Output()), _dom_classes=('widget-interac…"
      ]
     },
     "metadata": {},
     "output_type": "display_data"
    }
   ],
   "source": [
    "from __future__ import print_function\n",
    "\n",
    "%matplotlib inline\n",
    "import matplotlib.pyplot as plt\n",
    "from ipywidgets import interact, FloatSlider\n",
    "\n",
    "import SimpleITK as sitk\n",
    "\n",
    "# Download data to work on\n",
    "%run update_path_to_download_script\n",
    "# from downloaddata import fetch_data as fdata\n",
    "from myshow import myshow, myshow3d\n",
    "  \n",
    "# Read the image\n",
    "dicom_dir = \"NBIA_images/manifest-1608266677008/MIDRC-RICORD-1A/MIDRC-RICORD-1A-419639-000082/08-02-2002-NA-CT CHEST WITHOUT CONTRAST-04614/2.000000-ROUTINE CHEST NON-CON-97100\"\n",
    "\n",
    "print(\"Reading Dicom directory:\", dicom_dir)\n",
    "reader = sitk.ImageSeriesReader()\n",
    "\n",
    "dicom_names = reader.GetGDCMSeriesFileNames(dicom_dir)\n",
    "\n",
    "reader.SetFileNames(dicom_names)\n",
    "image = reader.Execute()\n",
    "\n",
    "seg = image > 200\n",
    "myshow(sitk.LabelOverlay(image, seg), \"Basic Thresholding\")"
   ]
  },
  {
   "cell_type": "code",
   "execution_count": 2,
   "id": "d89866c7",
   "metadata": {},
   "outputs": [],
   "source": [
    "# To visualize the labels image in RGB with needs a image with 0-255 range\n",
    "image_rgb = sitk.Cast(sitk.RescaleIntensity(image), sitk.sitkUInt8)"
   ]
  },
  {
   "cell_type": "markdown",
   "id": "c5b1a5b7",
   "metadata": {},
   "source": [
    "<h3>Using Binary</h3>"
   ]
  },
  {
   "cell_type": "code",
   "execution_count": 3,
   "id": "781446f8",
   "metadata": {},
   "outputs": [
    {
     "data": {
      "application/vnd.jupyter.widget-view+json": {
       "model_id": "fc63def274e5421bbbe3f5b7f58eeba5",
       "version_major": 2,
       "version_minor": 0
      },
      "text/plain": [
       "interactive(children=(IntSlider(value=127, description='z', max=254), Output()), _dom_classes=('widget-interac…"
      ]
     },
     "metadata": {},
     "output_type": "display_data"
    }
   ],
   "source": [
    "seg = sitk.BinaryThreshold(image, lowerThreshold=100, upperThreshold=400, insideValue=1, outsideValue=0)\n",
    "myshow(sitk.LabelOverlay(image_rgb, seg), \"Binary Thresholding\")"
   ]
  },
  {
   "cell_type": "markdown",
   "id": "76f94719",
   "metadata": {},
   "source": [
    "<h3>Using Otsu</h3>"
   ]
  },
  {
   "cell_type": "code",
   "execution_count": 4,
   "id": "c4f507f2",
   "metadata": {
    "scrolled": true
   },
   "outputs": [
    {
     "data": {
      "application/vnd.jupyter.widget-view+json": {
       "model_id": "8ae6497f37c547ae9c3f0863a3acda74",
       "version_major": 2,
       "version_minor": 0
      },
      "text/plain": [
       "interactive(children=(IntSlider(value=127, description='z', max=254), Output()), _dom_classes=('widget-interac…"
      ]
     },
     "metadata": {},
     "output_type": "display_data"
    },
    {
     "name": "stdout",
     "output_type": "stream",
     "text": [
      "1.0\n"
     ]
    }
   ],
   "source": [
    "otsu_filter = sitk.OtsuThresholdImageFilter()\n",
    "otsu_filter.SetInsideValue(0)\n",
    "otsu_filter.SetOutsideValue(1)\n",
    "seg = otsu_filter.Execute(image_rgb)\n",
    "myshow(sitk.LabelOverlay(image_rgb, seg), \"Otsu Thresholding\")\n",
    "\n",
    "print(otsu_filter.GetThreshold() )"
   ]
  },
  {
   "cell_type": "code",
   "execution_count": 5,
   "id": "f4697c41",
   "metadata": {},
   "outputs": [],
   "source": [
    "# Using an external viewer (ITK-SNAP or 3D Slicer) we identified a visually appealing window-level setting\n",
    "T1_WINDOW_LEVEL = (1050, 500)"
   ]
  },
  {
   "cell_type": "code",
   "execution_count": 6,
   "id": "73664e79",
   "metadata": {},
   "outputs": [],
   "source": [
    "# image = sitk.ReadImage(\"NBIA_images/manifest-1608266677008/MIDRC-RICORD-1A/MIDRC-RICORD-1A-419639-000082/08-02-2002-NA-CT CHEST WITHOUT CONTRAST-04614/2.000000-ROUTINE CHEST NON-CON-97100\")\n",
    "# Rescale the intensities and map them to [0,255], these are the default values for the output\n",
    "# We will use this image to display the results of segmentation\n",
    "img_T1_255 = sitk.Cast(\n",
    "    sitk.IntensityWindowing(\n",
    "        image,\n",
    "        windowMinimum=T1_WINDOW_LEVEL[1] - T1_WINDOW_LEVEL[0] / 2.0,\n",
    "        windowMaximum=T1_WINDOW_LEVEL[1] + T1_WINDOW_LEVEL[0] / 2.0,\n",
    "    ),\n",
    "    sitk.sitkUInt8,\n",
    ")"
   ]
  },
  {
   "cell_type": "markdown",
   "id": "53483d1a",
   "metadata": {},
   "source": [
    "<h3>Using ConnectedThreshold</h3>"
   ]
  },
  {
   "cell_type": "code",
   "execution_count": 7,
   "id": "0fd5fc25",
   "metadata": {},
   "outputs": [
    {
     "ename": "NameError",
     "evalue": "name 'seed' is not defined",
     "output_type": "error",
     "traceback": [
      "\u001b[0;31m---------------------------------------------------------------------------\u001b[0m",
      "\u001b[0;31mNameError\u001b[0m                                 Traceback (most recent call last)",
      "Input \u001b[0;32mIn [7]\u001b[0m, in \u001b[0;36m<cell line: 1>\u001b[0;34m()\u001b[0m\n\u001b[0;32m----> 1\u001b[0m seg \u001b[38;5;241m=\u001b[39m sitk\u001b[38;5;241m.\u001b[39mConnectedThreshold(image, seedList\u001b[38;5;241m=\u001b[39m[\u001b[43mseed\u001b[49m], lower\u001b[38;5;241m=\u001b[39m\u001b[38;5;241m100\u001b[39m, upper\u001b[38;5;241m=\u001b[39m\u001b[38;5;241m190\u001b[39m)\n\u001b[1;32m      2\u001b[0m myshow(sitk\u001b[38;5;241m.\u001b[39mLabelOverlay(imgage_rgb, seg), \u001b[38;5;124m\"\u001b[39m\u001b[38;5;124mConnected Threshold\u001b[39m\u001b[38;5;124m\"\u001b[39m)\n",
      "\u001b[0;31mNameError\u001b[0m: name 'seed' is not defined"
     ]
    }
   ],
   "source": [
    "seg = sitk.ConnectedThreshold(image, seedList=[seed], lower=100, upper=190)\n",
    "myshow(sitk.LabelOverlay(imgage_rgb, seg), \"Connected Threshold\")"
   ]
  },
  {
   "cell_type": "code",
   "execution_count": 8,
   "id": "4e224967",
   "metadata": {},
   "outputs": [
    {
     "ename": "NameError",
     "evalue": "name 'seed' is not defined",
     "output_type": "error",
     "traceback": [
      "\u001b[0;31m---------------------------------------------------------------------------\u001b[0m",
      "\u001b[0;31mNameError\u001b[0m                                 Traceback (most recent call last)",
      "Input \u001b[0;32mIn [8]\u001b[0m, in \u001b[0;36m<cell line: 1>\u001b[0;34m()\u001b[0m\n\u001b[0;32m----> 1\u001b[0m seg \u001b[38;5;241m=\u001b[39m sitk\u001b[38;5;241m.\u001b[39mConfidenceConnected(image, seedList\u001b[38;5;241m=\u001b[39m[\u001b[43mseed\u001b[49m],\n\u001b[1;32m      2\u001b[0m                                    numberOfIterations\u001b[38;5;241m=\u001b[39m\u001b[38;5;241m1\u001b[39m,\n\u001b[1;32m      3\u001b[0m                                    multiplier\u001b[38;5;241m=\u001b[39m\u001b[38;5;241m2.5\u001b[39m,\n\u001b[1;32m      4\u001b[0m                                    initialNeighborhoodRadius\u001b[38;5;241m=\u001b[39m\u001b[38;5;241m1\u001b[39m,\n\u001b[1;32m      5\u001b[0m                                    replaceValue\u001b[38;5;241m=\u001b[39m\u001b[38;5;241m1\u001b[39m)\n\u001b[1;32m      7\u001b[0m myshow(sitk\u001b[38;5;241m.\u001b[39mLabelOverlay(image_rgb, seg), \u001b[38;5;124m\"\u001b[39m\u001b[38;5;124mConfidenceConnected\u001b[39m\u001b[38;5;124m\"\u001b[39m)\n",
      "\u001b[0;31mNameError\u001b[0m: name 'seed' is not defined"
     ]
    }
   ],
   "source": [
    "seg = sitk.ConfidenceConnected(image, seedList=[seed],\n",
    "                                   numberOfIterations=1,\n",
    "                                   multiplier=2.5,\n",
    "                                   initialNeighborhoodRadius=1,\n",
    "                                   replaceValue=1)\n",
    "\n",
    "myshow(sitk.LabelOverlay(image_rgb, seg), \"ConfidenceConnected\")"
   ]
  },
  {
   "cell_type": "markdown",
   "id": "d51e89ce",
   "metadata": {},
   "source": [
    "<h3>Using Level-Set</h3>"
   ]
  },
  {
   "cell_type": "code",
   "execution_count": 9,
   "id": "390b156e",
   "metadata": {},
   "outputs": [
    {
     "name": "stdout",
     "output_type": "stream",
     "text": [
      "-1893.4043096612495 1163.7137113774725\n"
     ]
    }
   ],
   "source": [
    "stats = sitk.LabelStatisticsImageFilter()\n",
    "stats.Execute(image, seg)\n",
    "\n",
    "factor = 3.5\n",
    "lower_threshold = stats.GetMean(1)-factor*stats.GetSigma(1)\n",
    "upper_threshold = stats.GetMean(1)+factor*stats.GetSigma(1)\n",
    "print(lower_threshold,upper_threshold)"
   ]
  },
  {
   "cell_type": "code",
   "execution_count": 10,
   "id": "cc77549f",
   "metadata": {},
   "outputs": [],
   "source": [
    "init_ls = sitk.SignedMaurerDistanceMap(seg, insideIsPositive=True, useImageSpacing=True)"
   ]
  },
  {
   "cell_type": "code",
   "execution_count": null,
   "id": "53d92f10",
   "metadata": {},
   "outputs": [],
   "source": [
    "lsFilter = sitk.ThresholdSegmentationLevelSetImageFilter()\n",
    "lsFilter.SetLowerThreshold(lower_threshold)\n",
    "lsFilter.SetUpperThreshold(upper_threshold)\n",
    "lsFilter.SetMaximumRMSError(0.02)\n",
    "lsFilter.SetNumberOfIterations(1000)\n",
    "lsFilter.SetCurvatureScaling(.5)\n",
    "lsFilter.SetPropagationScaling(1)\n",
    "lsFilter.ReverseExpansionDirectionOn()\n",
    "ls = lsFilter.Execute(init_ls, sitk.Cast(image, sitk.sitkFloat32))\n",
    "print(lsFilter)"
   ]
  },
  {
   "cell_type": "code",
   "execution_count": null,
   "id": "08f99cd3",
   "metadata": {},
   "outputs": [],
   "source": [
    "myshow(sitk.LabelOverlay(image_rgb, ls>0))"
   ]
  },
  {
   "cell_type": "markdown",
   "id": "38045321",
   "metadata": {},
   "source": [
    "### Water Segmentation"
   ]
  },
  {
   "cell_type": "code",
   "execution_count": 1,
   "id": "1bbb920b",
   "metadata": {},
   "outputs": [
    {
     "name": "stdout",
     "output_type": "stream",
     "text": [
      "Reading Dicom directory: NBIA_images/manifest-1608266677008/MIDRC-RICORD-1A/MIDRC-RICORD-1A-419639-000082/08-02-2002-NA-CT CHEST WITHOUT CONTRAST-04614/2.000000-ROUTINE CHEST NON-CON-97100\n"
     ]
    }
   ],
   "source": [
    "from __future__ import print_function\n",
    "\n",
    "%matplotlib inline\n",
    "import matplotlib.pyplot as plt\n",
    "from ipywidgets import interact, FloatSlider\n",
    "\n",
    "import SimpleITK as sitk\n",
    "\n",
    "# Download data to work on\n",
    "%run update_path_to_download_script\n",
    "# from downloaddata import fetch_data as fdata\n",
    "from myshow import myshow, myshow3d\n",
    "  \n",
    "# Read the image\n",
    "dicom_dir = \"NBIA_images/manifest-1608266677008/MIDRC-RICORD-1A/MIDRC-RICORD-1A-419639-000082/08-02-2002-NA-CT CHEST WITHOUT CONTRAST-04614/2.000000-ROUTINE CHEST NON-CON-97100\"\n",
    "\n",
    "print(\"Reading Dicom directory:\", dicom_dir)\n",
    "reader = sitk.ImageSeriesReader()\n",
    "\n",
    "dicom_names = reader.GetGDCMSeriesFileNames(dicom_dir)\n",
    "\n",
    "reader.SetFileNames(dicom_names)\n",
    "image = reader.Execute()\n",
    "\n",
    "seg = image > 200"
   ]
  },
  {
   "cell_type": "markdown",
   "id": "baa97518",
   "metadata": {},
   "source": [
    "### Gradient Water Segmentation"
   ]
  },
  {
   "cell_type": "code",
   "execution_count": 2,
   "id": "7c4836db",
   "metadata": {},
   "outputs": [],
   "source": [
    "sigma = seg.GetSpacing()[0]\n",
    "level = 4"
   ]
  },
  {
   "cell_type": "code",
   "execution_count": 3,
   "id": "8bec7b8d",
   "metadata": {},
   "outputs": [
    {
     "data": {
      "application/vnd.jupyter.widget-view+json": {
       "model_id": "0c13109656ec454699ca62b69dc2e319",
       "version_major": 2,
       "version_minor": 0
      },
      "text/plain": [
       "interactive(children=(IntSlider(value=127, description='z', max=254), Output()), _dom_classes=('widget-interac…"
      ]
     },
     "metadata": {},
     "output_type": "display_data"
    }
   ],
   "source": [
    "feature_seg = sitk.GradientMagnitude(seg)\n",
    "myshow(seg, \"Edge Features\")"
   ]
  },
  {
   "cell_type": "code",
   "execution_count": 4,
   "id": "65f550a7",
   "metadata": {},
   "outputs": [
    {
     "data": {
      "application/vnd.jupyter.widget-view+json": {
       "model_id": "8bc880372b9b4d6880e8dd4b2686107a",
       "version_major": 2,
       "version_minor": 0
      },
      "text/plain": [
       "interactive(children=(IntSlider(value=127, description='z', max=254), Output()), _dom_classes=('widget-interac…"
      ]
     },
     "metadata": {},
     "output_type": "display_data"
    }
   ],
   "source": [
    "seg = sitk.MorphologicalWatershed(\n",
    "    feature_seg, level=0, markWatershedLine=True, fullyConnected=False\n",
    ")\n",
    "myshow(sitk.LabelToRGB(seg), \"Watershed Over Segmentation\")"
   ]
  },
  {
   "cell_type": "code",
   "execution_count": 5,
   "id": "cc8cb288",
   "metadata": {},
   "outputs": [
    {
     "data": {
      "application/vnd.jupyter.widget-view+json": {
       "model_id": "1c23f3d1c6634c3081b5ddbf71cdd99c",
       "version_major": 2,
       "version_minor": 0
      },
      "text/plain": [
       "interactive(children=(Checkbox(value=True, description='markWatershedLine'), Checkbox(value=False, description…"
      ]
     },
     "metadata": {},
     "output_type": "display_data"
    },
    {
     "data": {
      "text/plain": [
       "<function __main__.<lambda>(**kwargs)>"
      ]
     },
     "execution_count": 5,
     "metadata": {},
     "output_type": "execute_result"
    }
   ],
   "source": [
    "from ipywidgets import interact, interactive, FloatSlider\n",
    "\n",
    "\n",
    "def callback(feature_seg, *args, **kwargs):\n",
    "    watershed_seg = sitk.MorphologicalWatershed(feature_seg, *args, **kwargs)\n",
    "\n",
    "    myshow(sitk.LabelToRGB(watershed_seg), \"Watershed Segmentation\")\n",
    "\n",
    "\n",
    "interact(\n",
    "    lambda **kwargs: callback(feature_seg, **kwargs),\n",
    "    markWatershedLine=True,\n",
    "    fullyConnected=False,\n",
    "    level=FloatSlider(min=0, max=255, step=0.1, value=4.0),\n",
    ")"
   ]
  },
  {
   "cell_type": "markdown",
   "id": "820ed09b",
   "metadata": {},
   "source": [
    "### Segmentation From Markers"
   ]
  },
  {
   "cell_type": "code",
   "execution_count": 6,
   "id": "fabe583a",
   "metadata": {},
   "outputs": [
    {
     "data": {
      "application/vnd.jupyter.widget-view+json": {
       "model_id": "8fafc3c9ed6b4071952197893191f58d",
       "version_major": 2,
       "version_minor": 0
      },
      "text/plain": [
       "interactive(children=(IntSlider(value=127, description='z', max=254), Output()), _dom_classes=('widget-interac…"
      ]
     },
     "metadata": {},
     "output_type": "display_data"
    }
   ],
   "source": [
    "min_seg = sitk.RegionalMinima(\n",
    "    seg,\n",
    "    backgroundValue=0,\n",
    "    foregroundValue=1.0,\n",
    "    fullyConnected=False,\n",
    "    flatIsMinima=True,\n",
    ")\n",
    "marker_seg = sitk.ConnectedComponent(min_seg)\n",
    "myshow(sitk.LabelToRGB(marker_seg), \"Too many local minima markers\")"
   ]
  },
  {
   "cell_type": "code",
   "execution_count": 7,
   "id": "627aec8f",
   "metadata": {},
   "outputs": [
    {
     "data": {
      "application/vnd.jupyter.widget-view+json": {
       "model_id": "68c4640766104b25992d01ce42126fc5",
       "version_major": 2,
       "version_minor": 0
      },
      "text/plain": [
       "interactive(children=(IntSlider(value=127, description='z', max=254), Output()), _dom_classes=('widget-interac…"
      ]
     },
     "metadata": {},
     "output_type": "display_data"
    }
   ],
   "source": [
    "watershed = sitk.MorphologicalWatershedFromMarkers(\n",
    "    feature_seg, marker_seg, markWatershedLine=True, fullyConnected=False\n",
    ")\n",
    "myshow(sitk.LabelToRGB(watershed), \"Watershed Oversegmentation from markers\")"
   ]
  },
  {
   "cell_type": "markdown",
   "id": "2d0761a0",
   "metadata": {},
   "source": [
    "### Binary Watersheds for Object Separation"
   ]
  },
  {
   "cell_type": "code",
   "execution_count": 8,
   "id": "61b174ac",
   "metadata": {},
   "outputs": [
    {
     "ename": "TypeError",
     "evalue": "in method 'ImageSeriesReader_SetFileNames', argument 2 of type 'std::vector< std::string,std::allocator< std::string > > const &'",
     "output_type": "error",
     "traceback": [
      "\u001b[0;31m---------------------------------------------------------------------------\u001b[0m",
      "\u001b[0;31mTypeError\u001b[0m                                 Traceback (most recent call last)",
      "Input \u001b[0;32mIn [8]\u001b[0m, in \u001b[0;36m<cell line: 1>\u001b[0;34m()\u001b[0m\n\u001b[0;32m----> 1\u001b[0m rgb_seg \u001b[38;5;241m=\u001b[39m \u001b[43msitk\u001b[49m\u001b[38;5;241;43m.\u001b[39;49m\u001b[43mReadImage\u001b[49m\u001b[43m(\u001b[49m\u001b[43mseg\u001b[49m\u001b[43m)\u001b[49m\n\u001b[1;32m      2\u001b[0m myshow(rgb_seg, seg)\n\u001b[1;32m      3\u001b[0m img \u001b[38;5;241m=\u001b[39m sitk\u001b[38;5;241m.\u001b[39mVectorIndexSelectionCast(rgb_seg, \u001b[38;5;241m1\u001b[39m)\n",
      "File \u001b[0;32m/usr/local/lib/python3.9/site-packages/SimpleITK/extra.py:342\u001b[0m, in \u001b[0;36mReadImage\u001b[0;34m(fileName, outputPixelType, imageIO)\u001b[0m\n\u001b[1;32m    340\u001b[0m \u001b[38;5;28;01melse\u001b[39;00m:\n\u001b[1;32m    341\u001b[0m     reader \u001b[38;5;241m=\u001b[39m ImageSeriesReader()\n\u001b[0;32m--> 342\u001b[0m     \u001b[43mreader\u001b[49m\u001b[38;5;241;43m.\u001b[39;49m\u001b[43mSetFileNames\u001b[49m\u001b[43m(\u001b[49m\u001b[43mfileName\u001b[49m\u001b[43m)\u001b[49m\n\u001b[1;32m    344\u001b[0m reader\u001b[38;5;241m.\u001b[39mSetImageIO(imageIO)\n\u001b[1;32m    345\u001b[0m reader\u001b[38;5;241m.\u001b[39mSetOutputPixelType(outputPixelType)\n",
      "File \u001b[0;32m/usr/local/lib/python3.9/site-packages/SimpleITK/SimpleITK.py:7844\u001b[0m, in \u001b[0;36mImageSeriesReader.SetFileNames\u001b[0;34m(self, fileNames)\u001b[0m\n\u001b[1;32m   7838\u001b[0m \u001b[38;5;28;01mdef\u001b[39;00m \u001b[38;5;21mSetFileNames\u001b[39m(\u001b[38;5;28mself\u001b[39m, fileNames):\n\u001b[1;32m   7839\u001b[0m     \u001b[38;5;124mr\u001b[39m\u001b[38;5;124;03m\"\"\"\u001b[39;00m\n\u001b[1;32m   7840\u001b[0m \u001b[38;5;124;03m    SetFileNames(ImageSeriesReader self, VectorString fileNames)\u001b[39;00m\n\u001b[1;32m   7841\u001b[0m \n\u001b[1;32m   7842\u001b[0m \n\u001b[1;32m   7843\u001b[0m \u001b[38;5;124;03m    \"\"\"\u001b[39;00m\n\u001b[0;32m-> 7844\u001b[0m     \u001b[38;5;28;01mreturn\u001b[39;00m \u001b[43m_SimpleITK\u001b[49m\u001b[38;5;241;43m.\u001b[39;49m\u001b[43mImageSeriesReader_SetFileNames\u001b[49m\u001b[43m(\u001b[49m\u001b[38;5;28;43mself\u001b[39;49m\u001b[43m,\u001b[49m\u001b[43m \u001b[49m\u001b[43mfileNames\u001b[49m\u001b[43m)\u001b[49m\n",
      "\u001b[0;31mTypeError\u001b[0m: in method 'ImageSeriesReader_SetFileNames', argument 2 of type 'std::vector< std::string,std::allocator< std::string > > const &'"
     ]
    }
   ],
   "source": [
    "rgb_seg = sitk.ReadImage(seg)\n",
    "myshow(rgb_seg, seg)\n",
    "img = sitk.VectorIndexSelectionCast(rgb_seg, 1)\n",
    "myshow(seg, seg)"
   ]
  },
  {
   "cell_type": "code",
   "execution_count": 9,
   "id": "5b7356f1",
   "metadata": {},
   "outputs": [
    {
     "data": {
      "application/vnd.jupyter.widget-view+json": {
       "model_id": "49284acd254342018327e655a14455e2",
       "version_major": 2,
       "version_minor": 0
      },
      "text/plain": [
       "interactive(children=(IntSlider(value=127, description='z', max=254), Output()), _dom_classes=('widget-interac…"
      ]
     },
     "metadata": {},
     "output_type": "display_data"
    }
   ],
   "source": [
    "feature_seg = sitk.GradientMagnitudeRecursiveGaussian(seg, sigma=1.5)\n",
    "myshow(feature_seg)"
   ]
  },
  {
   "cell_type": "code",
   "execution_count": 10,
   "id": "dc00c2b8",
   "metadata": {},
   "outputs": [
    {
     "data": {
      "application/vnd.jupyter.widget-view+json": {
       "model_id": "d11d9399bf9b48709c9f1b484226579a",
       "version_major": 2,
       "version_minor": 0
      },
      "text/plain": [
       "interactive(children=(IntSlider(value=127, description='z', max=254), Output()), _dom_classes=('widget-interac…"
      ]
     },
     "metadata": {},
     "output_type": "display_data"
    },
    {
     "ename": "IndexError",
     "evalue": "invalid slice extraction to 1 dimension",
     "output_type": "error",
     "traceback": [
      "\u001b[0;31m---------------------------------------------------------------------------\u001b[0m",
      "\u001b[0;31mIndexError\u001b[0m                                Traceback (most recent call last)",
      "Input \u001b[0;32mIn [10]\u001b[0m, in \u001b[0;36m<cell line: 5>\u001b[0;34m()\u001b[0m\n\u001b[1;32m      1\u001b[0m watershed_seg \u001b[38;5;241m=\u001b[39m sitk\u001b[38;5;241m.\u001b[39mMorphologicalWatershed(\n\u001b[1;32m      2\u001b[0m     feature_seg, level\u001b[38;5;241m=\u001b[39m\u001b[38;5;241m4\u001b[39m, markWatershedLine\u001b[38;5;241m=\u001b[39m\u001b[38;5;28;01mFalse\u001b[39;00m, fullyConnected\u001b[38;5;241m=\u001b[39m\u001b[38;5;28;01mFalse\u001b[39;00m\n\u001b[1;32m      3\u001b[0m )\n\u001b[1;32m      4\u001b[0m myshow(sitk\u001b[38;5;241m.\u001b[39mLabelToRGB(watershed_seg), \u001b[38;5;124m\"\u001b[39m\u001b[38;5;124mWatershed Over Segmentation\u001b[39m\u001b[38;5;124m\"\u001b[39m)\n\u001b[0;32m----> 5\u001b[0m segmentated \u001b[38;5;241m=\u001b[39m sitk\u001b[38;5;241m.\u001b[39mConnectedComponent(watershed_seg \u001b[38;5;241m!=\u001b[39m \u001b[43mwatershed_seg\u001b[49m\u001b[43m[\u001b[49m\u001b[38;5;241;43m0\u001b[39;49m\u001b[43m,\u001b[49m\u001b[43m \u001b[49m\u001b[38;5;241;43m0\u001b[39;49m\u001b[43m]\u001b[49m)\n\u001b[1;32m      6\u001b[0m myshow(sitk\u001b[38;5;241m.\u001b[39mLabelOverlay(seg, segmentated), \u001b[38;5;124m\"\u001b[39m\u001b[38;5;124mForeground Components\u001b[39m\u001b[38;5;124m\"\u001b[39m)\n",
      "File \u001b[0;32m/usr/local/lib/python3.9/site-packages/SimpleITK/SimpleITK.py:4179\u001b[0m, in \u001b[0;36mImage.__getitem__\u001b[0;34m(self, idx)\u001b[0m\n\u001b[1;32m   4176\u001b[0m         idx \u001b[38;5;241m=\u001b[39m \u001b[38;5;28mtuple\u001b[39m(idx[:i]) \u001b[38;5;241m+\u001b[39m (\u001b[38;5;28mslice\u001b[39m(s, s\u001b[38;5;241m+\u001b[39m\u001b[38;5;241m1\u001b[39m),)\u001b[38;5;241m+\u001b[39m \u001b[38;5;28mtuple\u001b[39m(idx[i\u001b[38;5;241m+\u001b[39m\u001b[38;5;241m1\u001b[39m:])\n\u001b[1;32m   4178\u001b[0m     \u001b[38;5;28;01mif\u001b[39;00m dim \u001b[38;5;241m-\u001b[39m \u001b[38;5;28mlen\u001b[39m(slice_dims) \u001b[38;5;241m<\u001b[39m \u001b[38;5;241m2\u001b[39m:\n\u001b[0;32m-> 4179\u001b[0m       \u001b[38;5;28;01mraise\u001b[39;00m \u001b[38;5;167;01mIndexError\u001b[39;00m(\u001b[38;5;124m\"\u001b[39m\u001b[38;5;124minvalid slice extraction to 1 dimension\u001b[39m\u001b[38;5;124m\"\u001b[39m)\n\u001b[1;32m   4182\u001b[0m \u001b[38;5;66;03m# Use the slice filter when all the elements are slices ( or have been processed to be )\u001b[39;00m\n\u001b[1;32m   4183\u001b[0m     \u001b[38;5;28;01mif\u001b[39;00m \u001b[38;5;28mall\u001b[39m( \u001b[38;5;28mtype\u001b[39m(i) \u001b[38;5;129;01mis\u001b[39;00m \u001b[38;5;28mslice\u001b[39m \u001b[38;5;28;01mfor\u001b[39;00m i \u001b[38;5;129;01min\u001b[39;00m idx ):\n\u001b[1;32m   4184\u001b[0m \n\u001b[1;32m   4185\u001b[0m \u001b[38;5;66;03m# perform standard slice indexing, to clamp to ranges and add in defaults\u001b[39;00m\n",
      "\u001b[0;31mIndexError\u001b[0m: invalid slice extraction to 1 dimension"
     ]
    }
   ],
   "source": [
    "watershed_seg = sitk.MorphologicalWatershed(\n",
    "    feature_seg, level=4, markWatershedLine=False, fullyConnected=False\n",
    ")\n",
    "myshow(sitk.LabelToRGB(watershed_seg), \"Watershed Over Segmentation\")\n",
    "segmentated = sitk.ConnectedComponent(watershed_seg != watershed_seg[0, 0])\n",
    "myshow(sitk.LabelOverlay(seg, segmentated), \"Foreground Components\")"
   ]
  },
  {
   "cell_type": "code",
   "execution_count": 11,
   "id": "dfc6b153",
   "metadata": {
    "scrolled": true
   },
   "outputs": [
    {
     "data": {
      "application/vnd.jupyter.widget-view+json": {
       "model_id": "240b8886235c40f3b6360804e4247168",
       "version_major": 2,
       "version_minor": 0
      },
      "text/plain": [
       "interactive(children=(IntSlider(value=127, description='z', max=254), Output()), _dom_classes=('widget-interac…"
      ]
     },
     "metadata": {},
     "output_type": "display_data"
    }
   ],
   "source": [
    "filled = sitk.BinaryFillhole(seg != 0)\n",
    "distance = sitk.SignedMaurerDistanceMap(\n",
    "    filled, insideIsPositive=False, squaredDistance=False, useImageSpacing=False\n",
    ")\n",
    "myshow(distance, \"Inside Distance Map\")"
   ]
  },
  {
   "cell_type": "code",
   "execution_count": 12,
   "id": "c52d1aec",
   "metadata": {},
   "outputs": [
    {
     "data": {
      "application/vnd.jupyter.widget-view+json": {
       "model_id": "024da5572dce46179ecebb3b90296278",
       "version_major": 2,
       "version_minor": 0
      },
      "text/plain": [
       "interactive(children=(IntSlider(value=127, description='z', max=254), Output()), _dom_classes=('widget-interac…"
      ]
     },
     "metadata": {},
     "output_type": "display_data"
    }
   ],
   "source": [
    "watershed = sitk.MorphologicalWatershed(distance, markWatershedLine=False, level=1)\n",
    "myshow(sitk.LabelOverlay(seg, watershed))"
   ]
  },
  {
   "cell_type": "code",
   "execution_count": 13,
   "id": "29c99615",
   "metadata": {},
   "outputs": [
    {
     "data": {
      "application/vnd.jupyter.widget-view+json": {
       "model_id": "8418cdc4cbe94b1794e679fcb86e0bd1",
       "version_major": 2,
       "version_minor": 0
      },
      "text/plain": [
       "interactive(children=(IntSlider(value=127, description='z', max=254), Output()), _dom_classes=('widget-interac…"
      ]
     },
     "metadata": {},
     "output_type": "display_data"
    }
   ],
   "source": [
    "watershed = sitk.Mask(watershed, sitk.Cast(seg, watershed.GetPixelID()))\n",
    "myshow(sitk.LabelOverlay(seg, watershed), \"Split Objects\")"
   ]
  },
  {
   "cell_type": "markdown",
   "id": "dc4a169c",
   "metadata": {},
   "source": [
    "### Multi-label Morphology"
   ]
  },
  {
   "cell_type": "code",
   "execution_count": 14,
   "id": "fbae3b53",
   "metadata": {},
   "outputs": [],
   "source": [
    "seg = watershed"
   ]
  },
  {
   "cell_type": "code",
   "execution_count": 15,
   "id": "52acd8b2",
   "metadata": {},
   "outputs": [
    {
     "data": {
      "application/vnd.jupyter.widget-view+json": {
       "model_id": "2614f6f724974f5f9b9e85ac72c56fa0",
       "version_major": 2,
       "version_minor": 0
      },
      "text/plain": [
       "interactive(children=(IntSlider(value=127, description='z', max=254), Output()), _dom_classes=('widget-interac…"
      ]
     },
     "metadata": {},
     "output_type": "display_data"
    }
   ],
   "source": [
    "radius = 10\n",
    "binary_dilation_seg = sitk.BinaryDilate(seg != 0, [radius] * seg.GetDimension())\n",
    "myshow(binary_dilation_seg, \"Binary Dilate\")"
   ]
  },
  {
   "cell_type": "code",
   "execution_count": 16,
   "id": "51fcd31c",
   "metadata": {},
   "outputs": [
    {
     "data": {
      "application/vnd.jupyter.widget-view+json": {
       "model_id": "07489976780d4b04a38d779d79bfe976",
       "version_major": 2,
       "version_minor": 0
      },
      "text/plain": [
       "interactive(children=(IntSlider(value=127, description='z', max=254), Output()), _dom_classes=('widget-interac…"
      ]
     },
     "metadata": {},
     "output_type": "display_data"
    }
   ],
   "source": [
    "distance_seg = sitk.SignedMaurerDistanceMap(\n",
    "    seg != 0, insideIsPositive=False, squaredDistance=False, useImageSpacing=False\n",
    ")\n",
    "watershed_distance_img = sitk.MorphologicalWatershedFromMarkers(distance_seg, seg, markWatershedLine=False)\n",
    "myshow(sitk.LabelOverlay(seg, watershed_distance_img))"
   ]
  },
  {
   "cell_type": "code",
   "execution_count": 17,
   "id": "dce3cabb",
   "metadata": {},
   "outputs": [
    {
     "data": {
      "application/vnd.jupyter.widget-view+json": {
       "model_id": "cbde69ef59674ed0b3d340cf6a586711",
       "version_major": 2,
       "version_minor": 0
      },
      "text/plain": [
       "interactive(children=(IntSlider(value=127, description='z', max=254), Output()), _dom_classes=('widget-interac…"
      ]
     },
     "metadata": {},
     "output_type": "display_data"
    }
   ],
   "source": [
    "multi_label_dilate_seg = sitk.Mask(watershed_distance_img, binary_dilation_seg)\n",
    "myshow(sitk.LabelToRGB(multi_label_dilate_seg), \"Multi-label Dilate\")"
   ]
  },
  {
   "cell_type": "code",
   "execution_count": 18,
   "id": "9401b164",
   "metadata": {},
   "outputs": [
    {
     "data": {
      "application/vnd.jupyter.widget-view+json": {
       "model_id": "9d451dec83d1425fa57e2f16ffb81277",
       "version_major": 2,
       "version_minor": 0
      },
      "text/plain": [
       "interactive(children=(IntSlider(value=127, description='z', max=254), Output()), _dom_classes=('widget-interac…"
      ]
     },
     "metadata": {},
     "output_type": "display_data"
    }
   ],
   "source": [
    "e_seg = sitk.BinaryErode(multi_label_dilate_seg != 0, [radius] * multi_label_dilate_seg.GetDimension())\n",
    "multi_label_closing_seg = sitk.Mask(multi_label_dilate_seg, e_seg)\n",
    "myshow(sitk.LabelOverlay(seg, multi_label_closing_seg), \"Multi-label Closing\")"
   ]
  },
  {
   "cell_type": "markdown",
   "id": "6f39ed8d",
   "metadata": {},
   "source": [
    "<h3>Quantification</h3>"
   ]
  },
  {
   "cell_type": "code",
   "execution_count": null,
   "id": "e412fb6e",
   "metadata": {},
   "outputs": [],
   "source": []
  }
 ],
 "metadata": {
  "kernelspec": {
   "display_name": "Python 3 (ipykernel)",
   "language": "python",
   "name": "python3"
  },
  "language_info": {
   "codemirror_mode": {
    "name": "ipython",
    "version": 3
   },
   "file_extension": ".py",
   "mimetype": "text/x-python",
   "name": "python",
   "nbconvert_exporter": "python",
   "pygments_lexer": "ipython3",
   "version": "3.9.10"
  }
 },
 "nbformat": 4,
 "nbformat_minor": 5
}
