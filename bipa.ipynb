{
 "cells": [
  {
   "cell_type": "markdown",
   "id": "d216d4ca",
   "metadata": {},
   "source": [
    "<h3>Team Forest<br/>\n",
    "Biomedial Image Processing Application (BIPA)<br/>\n",
    "CSC821, Prof. K. Okada<br/>\n",
    "Spring 2022</h3>\n",
    "\n",
    "Please note: this code uses the Dicom images downloadable at https://wiki.cancerimagingarchive.net/pages/viewpage.action?pageId=80969742#80969742bcab02c187174a288dbcbf95d26179e8. Downloading the images requires first installing the NBIA Data Retriever on your local machine which is available in the App Store."
   ]
  },
  {
   "cell_type": "markdown",
   "id": "3c51ad21",
   "metadata": {},
   "source": [
    "<b>Image I/O</b>"
   ]
  },
  {
   "cell_type": "code",
   "execution_count": 10,
   "id": "a72210ea",
   "metadata": {},
   "outputs": [],
   "source": [
    "%matplotlib inline\n",
    "import matplotlib.pyplot as plt\n",
    "import SimpleITK as sitk\n",
    "\n",
    "import sys\n",
    "import os"
   ]
  },
  {
   "cell_type": "code",
   "execution_count": 24,
   "id": "9e82a3fa",
   "metadata": {},
   "outputs": [
    {
     "name": "stdout",
     "output_type": "stream",
     "text": [
      "Reading Dicom directory: NBIA_images/manifest-1608266677008/MIDRC-RICORD-1A/MIDRC-RICORD-1A-419639-000082/08-02-2002-NA-CT CHEST WITHOUT CONTRAST-04614/2.000000-ROUTINE CHEST NON-CON-97100\n",
      "Image size: 512 512 255\n",
      "Writing image: test_image.nii\n"
     ]
    }
   ],
   "source": [
    "# example of reading Dicom images from COVID dataset, exporting, and showing outputting 3D image\n",
    "\n",
    "# TO-DO: manually setting path here, need an interface to take input\n",
    "dicom_dir = \"NBIA_images/manifest-1608266677008/MIDRC-RICORD-1A/MIDRC-RICORD-1A-419639-000082/08-02-2002-NA-CT CHEST WITHOUT CONTRAST-04614/2.000000-ROUTINE CHEST NON-CON-97100\"\n",
    "\n",
    "print(\"Reading Dicom directory:\", dicom_dir)\n",
    "reader = sitk.ImageSeriesReader()\n",
    "\n",
    "dicom_names = reader.GetGDCMSeriesFileNames(dicom_dir)\n",
    "\n",
    "reader.SetFileNames(dicom_names)\n",
    "\n",
    "image = reader.Execute()\n",
    "\n",
    "size = image.GetSize()\n",
    "print(\"Image size:\", size[0], size[1], size[2])\n",
    "\n",
    "print(\"Writing image:\", \"test_image.nii\")\n",
    "\n",
    "sitk.WriteImage(image, \"test_image.nii\")\n",
    "\n",
    "if (\"SITK_NOSHOW\" not in os.environ):\n",
    "    sitk.Show(image, \"Dicom Series\")"
   ]
  },
  {
   "cell_type": "code",
   "execution_count": 37,
   "id": "6160e257",
   "metadata": {},
   "outputs": [
    {
     "name": "stdout",
     "output_type": "stream",
     "text": [
      "origin: (-192.1999969482422, -180.0, -349.25)\n",
      "size: (512, 512, 255)\n",
      "spacing: (0.703125, 0.703125, 1.25)\n",
      "direction: (1.0, 0.0, 0.0, 0.0, 1.0, 0.0, 0.0, 0.0, 1.0)\n",
      "\n",
      "Dimensions: 3\n",
      "Width: 512\n",
      "Height: 512\n",
      "Depth: 255\n",
      "Pixel ID: 4\n",
      "Pixel Type: 32-bit signed integer\n",
      "Components Per Pixel: 1\n"
     ]
    }
   ],
   "source": [
    "# example of 3D image attributes\n",
    "covid_example = sitk.ReadImage(\"./test_image.nii\")\n",
    "\n",
    "print(f\"origin: {covid_example.GetOrigin()}\")\n",
    "print(f\"size: {covid_example.GetSize()}\")\n",
    "print(f\"spacing: {covid_example.GetSpacing()}\")\n",
    "print(f\"direction: {covid_example.GetDirection()}\\n\")\n",
    "\n",
    "print(\"Dimensions: \" + str(covid_example.GetDimension()))\n",
    "print(\"Width: \" + str(covid_example.GetWidth()))\n",
    "print(\"Height: \" + str(covid_example.GetHeight()))\n",
    "print(\"Depth: \" + str(covid_example.GetDepth()))\n",
    "print(\"Pixel ID: \" + str(covid_example.GetPixelIDValue()))\n",
    "print(\"Pixel Type: \" + str(covid_example.GetPixelIDTypeAsString()))\n",
    "print(\"Components Per Pixel: \" + str(covid_example.GetNumberOfComponentsPerPixel()))"
   ]
  },
  {
   "cell_type": "code",
   "execution_count": 43,
   "id": "9662cb6b",
   "metadata": {},
   "outputs": [
    {
     "data": {
      "application/vnd.jupyter.widget-view+json": {
       "model_id": "e5dfe29a52b24b6ea2f3eee2113b8ce1",
       "version_major": 2,
       "version_minor": 0
      },
      "text/plain": [
       "interactive(children=(Dropdown(description='series_to_load', options=('1.2.826.0.1.3680043.10.474.419639.44260…"
      ]
     },
     "metadata": {},
     "output_type": "display_data"
    }
   ],
   "source": [
    "# extract modalities of various embedded scans\n",
    "from ipywidgets import interact, fixed\n",
    "\n",
    "data_directory = \"NBIA_images/manifest-1608266677008/MIDRC-RICORD-1A/MIDRC-RICORD-1A-419639-000361/10-21-2002-NA-CT CHEST WITHOUT CONTRAST-91670/2.000000-ROUTINE CHEST NON-CON-50599\"\n",
    "# Global variable 'selected_series' is updated by the interact function\n",
    "selected_series = \"\"\n",
    "file_reader = sitk.ImageFileReader()\n",
    "\n",
    "\n",
    "def DICOM_series_dropdown_callback(series_to_load, series_dictionary):\n",
    "    global selected_series\n",
    "    # Print some information about the series from the meta-data dictionary\n",
    "    # DICOM standard part 6, Data Dictionary: http://medical.nema.org/medical/dicom/current/output/pdf/part06.pdf\n",
    "    file_reader.SetFileName(series_dictionary[series_to_load][0])\n",
    "    file_reader.ReadImageInformation()\n",
    "    tags_to_print = {\n",
    "        \"0010|0010\": \"Patient name: \",\n",
    "        \"0008|0060\": \"Modality: \",\n",
    "        \"0008|0021\": \"Series date: \",\n",
    "        \"0008|0080\": \"Institution name: \",\n",
    "        \"0008|1050\": \"Performing physician's name: \",\n",
    "    }\n",
    "    for tag in tags_to_print:\n",
    "        try:\n",
    "            print(tags_to_print[tag] + file_reader.GetMetaData(tag))\n",
    "        except:  # Ignore if the tag isn't in the dictionary\n",
    "            pass\n",
    "    selected_series = series_to_load\n",
    "\n",
    "\n",
    "# Directory contains multiple DICOM studies/series, store\n",
    "# in dictionary with key being the series ID\n",
    "reader = sitk.ImageSeriesReader()\n",
    "series_file_names = {}\n",
    "series_IDs = reader.GetGDCMSeriesIDs(data_directory)\n",
    "# Check that we have at least one series\n",
    "if series_IDs:\n",
    "    for series in series_IDs:\n",
    "        series_file_names[series] = reader.GetGDCMSeriesFileNames(\n",
    "            data_directory, series\n",
    "        )\n",
    "\n",
    "    interact(\n",
    "        DICOM_series_dropdown_callback,\n",
    "        series_to_load=list(series_IDs),\n",
    "        series_dictionary=fixed(series_file_names),\n",
    "    )\n",
    "else:\n",
    "    print(\"Data directory does not contain any DICOM series.\")"
   ]
  },
  {
   "cell_type": "markdown",
   "id": "625086b9",
   "metadata": {},
   "source": [
    "<b>Registration</b>"
   ]
  },
  {
   "cell_type": "code",
   "execution_count": null,
   "id": "278060ce",
   "metadata": {},
   "outputs": [],
   "source": []
  },
  {
   "cell_type": "markdown",
   "id": "c32cdcda",
   "metadata": {},
   "source": [
    "<b>Segmentation</b>"
   ]
  },
  {
   "cell_type": "code",
   "execution_count": null,
   "id": "4e4e9455",
   "metadata": {},
   "outputs": [],
   "source": []
  },
  {
   "cell_type": "markdown",
   "id": "ac96ac2a",
   "metadata": {},
   "source": [
    "<b>Quantification</b>"
   ]
  },
  {
   "cell_type": "code",
   "execution_count": null,
   "id": "1ce2efe1",
   "metadata": {},
   "outputs": [],
   "source": []
  }
 ],
 "metadata": {
  "kernelspec": {
   "display_name": "Python 3 (ipykernel)",
   "language": "python",
   "name": "python3"
  },
  "language_info": {
   "codemirror_mode": {
    "name": "ipython",
    "version": 3
   },
   "file_extension": ".py",
   "mimetype": "text/x-python",
   "name": "python",
   "nbconvert_exporter": "python",
   "pygments_lexer": "ipython3",
   "version": "3.9.7"
  }
 },
 "nbformat": 4,
 "nbformat_minor": 5
}
