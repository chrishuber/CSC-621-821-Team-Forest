{
 "cells": [
  {
   "cell_type": "markdown",
   "id": "46419a45",
   "metadata": {},
   "source": [
    "<h3>Team Forest<br/>\n",
    "Biomedial Image Processing Application (BIPA)<br/>\n",
    "CSC821, Prof. K. Okada<br/>\n",
    "Spring 2022</h3>\n",
    "\n",
    "Please note: this code uses the Dicom images downloadable at https://wiki.cancerimagingarchive.net/pages/viewpage.action?pageId=80969742#80969742bcab02c187174a288dbcbf95d26179e8. Downloading the images requires first installing the NBIA Data Retriever on your local machine which is available in the App Store."
   ]
  },
  {
   "cell_type": "markdown",
   "id": "64bb1967",
   "metadata": {},
   "source": [
    "<h2>Image I/O</h2>"
   ]
  },
  {
   "cell_type": "code",
   "execution_count": 1,
   "id": "db846592",
   "metadata": {},
   "outputs": [],
   "source": [
    "%matplotlib inline\n",
    "import matplotlib.pyplot as plt\n",
    "import SimpleITK as sitk\n",
    "\n",
    "import sys\n",
    "import os"
   ]
  },
  {
   "cell_type": "code",
   "execution_count": 5,
   "id": "02569c5a",
   "metadata": {},
   "outputs": [
    {
     "name": "stdout",
     "output_type": "stream",
     "text": [
      "Reading Dicom directory: NBIA_images/manifest-1608266677008/MIDRC-RICORD-1A/MIDRC-RICORD-1A-419639-000082/08-02-2002-NA-CT CHEST WITHOUT CONTRAST-04614/2.000000-ROUTINE CHEST NON-CON-97100\n",
      "Image size: 512 512 255\n",
      "Writing image: MIDRC-RICORD-1A_axial_image.nii\n"
     ]
    }
   ],
   "source": [
    "# example of reading Dicom images from COVID dataset, exporting, and showing outputting 3D image\n",
    "# axial scan of covid-infected lung showing disease markers\n",
    "\n",
    "# TO-DO: manually setting path here, need an interface to take input\n",
    "dicom_dir = \"NBIA_images/manifest-1608266677008/MIDRC-RICORD-1A/MIDRC-RICORD-1A-419639-000082/08-02-2002-NA-CT CHEST WITHOUT CONTRAST-04614/2.000000-ROUTINE CHEST NON-CON-97100\"\n",
    "\n",
    "print(\"Reading Dicom directory:\", dicom_dir)\n",
    "reader = sitk.ImageSeriesReader()\n",
    "\n",
    "dicom_names = reader.GetGDCMSeriesFileNames(dicom_dir)\n",
    "reader.SetFileNames(dicom_names)\n",
    "\n",
    "image = reader.Execute()\n",
    "\n",
    "size = image.GetSize()\n",
    "print(\"Image size:\", size[0], size[1], size[2])\n",
    "\n",
    "print(\"Writing image:\", \"MIDRC-RICORD-1A_axial_image.nii\")\n",
    "\n",
    "sitk.WriteImage(image, \"MIDRC-RICORD-1A_axial_image.nii\")\n",
    "\n",
    "if (\"SITK_NOSHOW\" not in os.environ):\n",
    "    sitk.Show(image, \"Dicom Series\")"
   ]
  },
  {
   "cell_type": "code",
   "execution_count": 7,
   "id": "1c848717",
   "metadata": {},
   "outputs": [
    {
     "name": "stdout",
     "output_type": "stream",
     "text": [
      "origin: (-192.1999969482422, -180.0, -349.25)\n",
      "size: (512, 512, 255)\n",
      "spacing: (0.703125, 0.703125, 1.25)\n",
      "direction: (1.0, 0.0, 0.0, 0.0, 1.0, 0.0, 0.0, 0.0, 1.0)\n",
      "\n",
      "Dimensions: 3\n",
      "Width: 512\n",
      "Height: 512\n",
      "Depth: 255\n",
      "Pixel ID: 4\n",
      "Pixel Type: 32-bit signed integer\n",
      "Components Per Pixel: 1\n"
     ]
    }
   ],
   "source": [
    "# example of 3D image attributes\n",
    "covid_example = sitk.ReadImage(\"./MIDRC-RICORD-1A_axial_image.nii\")\n",
    "\n",
    "print(f\"origin: {covid_example.GetOrigin()}\")\n",
    "print(f\"size: {covid_example.GetSize()}\")\n",
    "print(f\"spacing: {covid_example.GetSpacing()}\")\n",
    "print(f\"direction: {covid_example.GetDirection()}\\n\")\n",
    "\n",
    "print(\"Dimensions: \" + str(covid_example.GetDimension()))\n",
    "print(\"Width: \" + str(covid_example.GetWidth()))\n",
    "print(\"Height: \" + str(covid_example.GetHeight()))\n",
    "print(\"Depth: \" + str(covid_example.GetDepth()))\n",
    "print(\"Pixel ID: \" + str(covid_example.GetPixelIDValue()))\n",
    "print(\"Pixel Type: \" + str(covid_example.GetPixelIDTypeAsString()))\n",
    "print(\"Components Per Pixel: \" + str(covid_example.GetNumberOfComponentsPerPixel()))"
   ]
  },
  {
   "cell_type": "code",
   "execution_count": 9,
   "id": "fd44e3fa",
   "metadata": {},
   "outputs": [
    {
     "data": {
      "application/vnd.jupyter.widget-view+json": {
       "model_id": "a52193981b354a0c9f11c5d0e14aea85",
       "version_major": 2,
       "version_minor": 0
      },
      "text/plain": [
       "interactive(children=(Dropdown(description='series_to_load', options=('1.2.826.0.1.3680043.10.474.419639.44260…"
      ]
     },
     "metadata": {},
     "output_type": "display_data"
    }
   ],
   "source": [
    "\n",
    "# extract modalities of various embedded scans\n",
    "from ipywidgets import interact, fixed\n",
    "\n",
    "data_directory = \"NBIA_images/manifest-1608266677008/MIDRC-RICORD-1A/MIDRC-RICORD-1A-419639-000361/10-21-2002-NA-CT CHEST WITHOUT CONTRAST-91670/2.000000-ROUTINE CHEST NON-CON-50599\"\n",
    "# Global variable 'selected_series' is updated by the interact function\n",
    "selected_series = \"\"\n",
    "file_reader = sitk.ImageFileReader()\n",
    "\n",
    "\n",
    "def DICOM_series_dropdown_callback(series_to_load, series_dictionary):\n",
    "    global selected_series\n",
    "    # Print some information about the series from the meta-data dictionary\n",
    "    # DICOM standard part 6, Data Dictionary: http://medical.nema.org/medical/dicom/current/output/pdf/part06.pdf\n",
    "    file_reader.SetFileName(series_dictionary[series_to_load][0])\n",
    "    file_reader.ReadImageInformation()\n",
    "    tags_to_print = {\n",
    "        \"0010|0010\": \"Patient name: \",\n",
    "        \"0008|0060\": \"Modality: \",\n",
    "        \"0008|0021\": \"Series date: \",\n",
    "        \"0008|0080\": \"Institution name: \",\n",
    "        \"0008|1050\": \"Performing physician's name: \",\n",
    "    }\n",
    "    for tag in tags_to_print:\n",
    "        try:\n",
    "            print(tags_to_print[tag] + file_reader.GetMetaData(tag))\n",
    "        except:  # Ignore if the tag isn't in the dictionary\n",
    "            pass\n",
    "    selected_series = series_to_load\n",
    "\n",
    "\n",
    "# Directory contains multiple DICOM studies/series, store\n",
    "# in dictionary with key being the series ID\n",
    "reader = sitk.ImageSeriesReader()\n",
    "series_file_names = {}\n",
    "series_IDs = reader.GetGDCMSeriesIDs(data_directory)\n",
    "# Check that we have at least one series\n",
    "if series_IDs:\n",
    "    for series in series_IDs:\n",
    "        series_file_names[series] = reader.GetGDCMSeriesFileNames(\n",
    "            data_directory, series\n",
    "        )\n",
    "\n",
    "    interact(\n",
    "        DICOM_series_dropdown_callback,\n",
    "        series_to_load=list(series_IDs),\n",
    "        series_dictionary=fixed(series_file_names),\n",
    "    )\n",
    "else:\n",
    "    print(\"Data directory does not contain any DICOM series.\")"
   ]
  },
  {
   "cell_type": "markdown",
   "id": "ed9ebb9e",
   "metadata": {},
   "source": [
    "<h2>Registration</h2>"
   ]
  },
  {
   "cell_type": "code",
   "execution_count": 10,
   "id": "c74b03ce",
   "metadata": {},
   "outputs": [
    {
     "name": "stdout",
     "output_type": "stream",
     "text": [
      "Reading Dicom directory: NBIA_images/manifest-1608266677008/MIDRC-RICORD-1A/MIDRC-RICORD-1A-419639-000082/08-02-2002-NA-CT CHEST WITHOUT CONTRAST-04614/601.000000-COR 3X3-86740\n"
     ]
    },
    {
     "name": "stderr",
     "output_type": "stream",
     "text": [
      "WARNING: In ../ITK-prefix/include/ITK-5.2/itkImageSeriesReader.hxx, line 480\n",
      "ImageSeriesReader (0x7f9b0c719410): Non uniform sampling or missing slices detected,  maximum nonuniformity:176.653\n",
      "\n"
     ]
    },
    {
     "name": "stdout",
     "output_type": "stream",
     "text": [
      "Image size: 512 512 106\n",
      "Writing image: MIDRC-RICORD-1A_coronal_image.nii\n"
     ]
    }
   ],
   "source": [
    "# coronal scan of same patient's covid-infected lung showing disease markers\n",
    "\n",
    "# TO-DO: manually setting path here, need an interface to take input\n",
    "dicom_dir = \"NBIA_images/manifest-1608266677008/MIDRC-RICORD-1A/MIDRC-RICORD-1A-419639-000082/08-02-2002-NA-CT CHEST WITHOUT CONTRAST-04614/601.000000-COR 3X3-86740\"\n",
    "\n",
    "print(\"Reading Dicom directory:\", dicom_dir)\n",
    "reader = sitk.ImageSeriesReader()\n",
    "\n",
    "dicom_names = reader.GetGDCMSeriesFileNames(dicom_dir)\n",
    "\n",
    "reader.SetFileNames(dicom_names)\n",
    "\n",
    "image = reader.Execute()\n",
    "\n",
    "size = image.GetSize()\n",
    "print(\"Image size:\", size[0], size[1], size[2])\n",
    "\n",
    "print(\"Writing image:\", \"MIDRC-RICORD-1A_coronal_image.nii\")\n",
    "\n",
    "sitk.WriteImage(image, \"MIDRC-RICORD-1A_coronal_image.nii\")\n",
    "\n",
    "if (\"SITK_NOSHOW\" not in os.environ):\n",
    "    sitk.Show(image, \"Dicom Series\")"
   ]
  },
  {
   "cell_type": "code",
   "execution_count": 19,
   "id": "a774f0b3",
   "metadata": {},
   "outputs": [
    {
     "name": "stdout",
     "output_type": "stream",
     "text": [
      "Dimensions: 3\n",
      "Width: 512\n",
      "Height: 512\n",
      "Depth: 106\n",
      "Pixel ID: 4\n",
      "Pixel Type: 32-bit signed integer\n",
      "Components Per Pixel: 1\n"
     ]
    }
   ],
   "source": [
    "covid_example = sitk.ReadImage(\"./MIDRC-RICORD-1A_coronal_image.nii\")\n",
    "\n",
    "print(\"Dimensions: \" + str(covid_example.GetDimension()))\n",
    "print(\"Width: \" + str(covid_example.GetWidth()))\n",
    "print(\"Height: \" + str(covid_example.GetHeight()))\n",
    "print(\"Depth: \" + str(covid_example.GetDepth()))\n",
    "print(\"Pixel ID: \" + str(covid_example.GetPixelIDValue()))\n",
    "print(\"Pixel Type: \" + str(covid_example.GetPixelIDTypeAsString()))\n",
    "print(\"Components Per Pixel: \" + str(covid_example.GetNumberOfComponentsPerPixel()))"
   ]
  },
  {
   "cell_type": "code",
   "execution_count": 8,
   "id": "c6a25b15",
   "metadata": {},
   "outputs": [
    {
     "name": "stdout",
     "output_type": "stream",
     "text": [
      "Reading Dicom directory: stonybrook_covid/manifest-1628608914773/COVID-19-NY-SBU/A002279/12-31-1900-NA-CT CHEST WITHOUT IV CONTRAST-52731/2.000000-5 MM STANDARD-40924\n",
      "Image size: 512 512 58\n",
      "Writing image: stonybrook_A002279_2.nii\n"
     ]
    }
   ],
   "source": [
    "# axial scan of Stonybrook patient A00279's covid-infected lung showing disease markers\n",
    "\n",
    "# TO-DO: manually setting path here, need an interface to take input\n",
    "dicom_dir = \"stonybrook_covid/manifest-1628608914773/COVID-19-NY-SBU/A002279/12-31-1900-NA-CT CHEST WITHOUT IV CONTRAST-52731/2.000000-5 MM STANDARD-40924\"\n",
    "\n",
    "print(\"Reading Dicom directory:\", dicom_dir)\n",
    "reader = sitk.ImageSeriesReader()\n",
    "\n",
    "dicom_names = reader.GetGDCMSeriesFileNames(dicom_dir)\n",
    "\n",
    "reader.SetFileNames(dicom_names)\n",
    "\n",
    "image = reader.Execute()\n",
    "\n",
    "size = image.GetSize()\n",
    "print(\"Image size:\", size[0], size[1], size[2])\n",
    "\n",
    "print(\"Writing image:\", \"stonybrook_A002279_2.nii\")\n",
    "\n",
    "sitk.WriteImage(image, \"stonybrook_A002279_2.nii\")\n",
    "\n",
    "if (\"SITK_NOSHOW\" not in os.environ):\n",
    "    sitk.Show(image, \"Dicom Series\")"
   ]
  },
  {
   "cell_type": "code",
   "execution_count": 9,
   "id": "52743617",
   "metadata": {},
   "outputs": [
    {
     "name": "stdout",
     "output_type": "stream",
     "text": [
      "Reading Dicom directory: stonybrook_covid/manifest-1628608914773/COVID-19-NY-SBU/A002279/12-31-1900-NA-CT CHEST WITHOUT IV CONTRAST-52731/3.000000-LUNG 5 MM-65792\n",
      "Image size: 512 512 58\n",
      "Writing image: stonybrook_A002279_3.nii\n"
     ]
    }
   ],
   "source": [
    "# TO-DO: manually setting path here, need an interface to take input\n",
    "dicom_dir = \"stonybrook_covid/manifest-1628608914773/COVID-19-NY-SBU/A002279/12-31-1900-NA-CT CHEST WITHOUT IV CONTRAST-52731/3.000000-LUNG 5 MM-65792\"\n",
    "\n",
    "print(\"Reading Dicom directory:\", dicom_dir)\n",
    "reader = sitk.ImageSeriesReader()\n",
    "\n",
    "dicom_names = reader.GetGDCMSeriesFileNames(dicom_dir)\n",
    "\n",
    "reader.SetFileNames(dicom_names)\n",
    "\n",
    "image = reader.Execute()\n",
    "\n",
    "size = image.GetSize()\n",
    "print(\"Image size:\", size[0], size[1], size[2])\n",
    "\n",
    "print(\"Writing image:\", \"stonybrook_A002279_3.nii\")\n",
    "\n",
    "sitk.WriteImage(image, \"stonybrook_A002279_3.nii\")\n",
    "\n",
    "if (\"SITK_NOSHOW\" not in os.environ):\n",
    "    sitk.Show(image, \"Dicom Series\")"
   ]
  },
  {
   "cell_type": "code",
   "execution_count": 10,
   "id": "f4db3c89",
   "metadata": {},
   "outputs": [
    {
     "name": "stdout",
     "output_type": "stream",
     "text": [
      "Reading Dicom directory: stonybrook_covid/manifest-1628608914773/COVID-19-NY-SBU/A002279/12-31-1900-NA-CT CHEST WITHOUT IV CONTRAST-52731/4.000000-LUNG HR 1.25 MM-54929\n",
      "Image size: 512 512 229\n",
      "Writing image: stonybrook_A002279_4.nii\n"
     ]
    }
   ],
   "source": [
    "\n",
    "# TO-DO: manually setting path here, need an interface to take input\n",
    "dicom_dir = \"stonybrook_covid/manifest-1628608914773/COVID-19-NY-SBU/A002279/12-31-1900-NA-CT CHEST WITHOUT IV CONTRAST-52731/4.000000-LUNG HR 1.25 MM-54929\"\n",
    "\n",
    "print(\"Reading Dicom directory:\", dicom_dir)\n",
    "reader = sitk.ImageSeriesReader()\n",
    "\n",
    "dicom_names = reader.GetGDCMSeriesFileNames(dicom_dir)\n",
    "\n",
    "reader.SetFileNames(dicom_names)\n",
    "\n",
    "image = reader.Execute()\n",
    "\n",
    "size = image.GetSize()\n",
    "print(\"Image size:\", size[0], size[1], size[2])\n",
    "\n",
    "print(\"Writing image:\", \"stonybrook_A002279_4.nii\")\n",
    "\n",
    "sitk.WriteImage(image, \"stonybrook_A002279_4.nii\")\n",
    "\n",
    "if (\"SITK_NOSHOW\" not in os.environ):\n",
    "    sitk.Show(image, \"Dicom Series\")"
   ]
  },
  {
   "cell_type": "code",
   "execution_count": 11,
   "id": "ed00380d",
   "metadata": {},
   "outputs": [
    {
     "name": "stdout",
     "output_type": "stream",
     "text": [
      "Reading Dicom directory: Subject_1/98.12.2\n"
     ]
    },
    {
     "name": "stderr",
     "output_type": "stream",
     "text": [
      "WARNING: In ../ITK-prefix/include/ITK-5.2/itkImageSeriesReader.hxx, line 480\n",
      "ImageSeriesReader (0x7f9b4d8cf9a0): Non uniform sampling or missing slices detected,  maximum nonuniformity:257.392\n",
      "\n"
     ]
    },
    {
     "name": "stdout",
     "output_type": "stream",
     "text": [
      "Image size: 512 512 425\n",
      "Writing image: Subject_1.nii\n"
     ]
    }
   ],
   "source": [
    "# manually constructing Dicom image from data at\n",
    "# https://dataverse.harvard.edu/dataset.xhtml?persistentId=doi:10.7910/DVN/6ACUZJ, \n",
    "# Subject (1).rar extracted into folder of .dcm image files\n",
    "# exporting, and showing outputting 3D image\n",
    "\n",
    "# TO-DO: manually setting path here, need an interface to take input\n",
    "dicom_dir = \"Subject_1/98.12.2\"\n",
    "\n",
    "print(\"Reading Dicom directory:\", dicom_dir)\n",
    "reader = sitk.ImageSeriesReader()\n",
    "\n",
    "# manually build list of names for image series because reader.GetGDCMSeriesFileNames is not working\n",
    "dicom_names = []\n",
    "for i in range(56364398,56364823):\n",
    "    dicom_names.append('Subject_1/98.12.2/' + str(i) + '.dcm')\n",
    "    # dicom_names = ['Subject_1/98.12.2/56364397.dcm','Subject_1/98.12.2/56364398.dcm','Subject_1/98.12.2/56364399.dcm']\n",
    "\n",
    "reader.SetFileNames(dicom_names)\n",
    "\n",
    "image = reader.Execute()\n",
    "\n",
    "size = image.GetSize()\n",
    "print(\"Image size:\", size[0], size[1], size[2])\n",
    "\n",
    "print(\"Writing image:\", \"Subject_1.nii\")\n",
    "\n",
    "sitk.WriteImage(image, \"Subject_1.nii\")\n",
    "\n",
    "if (\"SITK_NOSHOW\" not in os.environ):\n",
    "    sitk.Show(image, \"Dicom Series\")"
   ]
  },
  {
   "cell_type": "markdown",
   "id": "fd2a401a",
   "metadata": {},
   "source": [
    "<h2>Segmentation</h2>"
   ]
  },
  {
   "cell_type": "code",
   "execution_count": 10,
   "id": "d4d550aa",
   "metadata": {},
   "outputs": [
    {
     "name": "stdout",
     "output_type": "stream",
     "text": [
      "Reading Dicom directory: NBIA_images/manifest-1608266677008/MIDRC-RICORD-1A/MIDRC-RICORD-1A-419639-000082/08-02-2002-NA-CT CHEST WITHOUT CONTRAST-04614/2.000000-ROUTINE CHEST NON-CON-97100\n"
     ]
    },
    {
     "data": {
      "application/vnd.jupyter.widget-view+json": {
       "model_id": "4a81fb8b64784efca99a44a0dae9405d",
       "version_major": 2,
       "version_minor": 0
      },
      "text/plain": [
       "interactive(children=(IntSlider(value=127, description='z', max=254), Output()), _dom_classes=('widget-interac…"
      ]
     },
     "metadata": {},
     "output_type": "display_data"
    }
   ],
   "source": [
    "from __future__ import print_function\n",
    "\n",
    "%matplotlib inline\n",
    "import matplotlib.pyplot as plt\n",
    "from ipywidgets import interact, FloatSlider\n",
    "\n",
    "import SimpleITK as sitk\n",
    "\n",
    "# Download data to work on\n",
    "%run update_path_to_download_script\n",
    "# from downloaddata import fetch_data as fdata\n",
    "from myshow import myshow, myshow3d\n",
    "  \n",
    "# Read the image\n",
    "dicom_dir = \"NBIA_images/manifest-1608266677008/MIDRC-RICORD-1A/MIDRC-RICORD-1A-419639-000082/08-02-2002-NA-CT CHEST WITHOUT CONTRAST-04614/2.000000-ROUTINE CHEST NON-CON-97100\"\n",
    "\n",
    "print(\"Reading Dicom directory:\", dicom_dir)\n",
    "reader = sitk.ImageSeriesReader()\n",
    "\n",
    "dicom_names = reader.GetGDCMSeriesFileNames(dicom_dir)\n",
    "\n",
    "reader.SetFileNames(dicom_names)\n",
    "image = reader.Execute()\n",
    "\n",
    "seg = image > 200\n",
    "myshow(sitk.LabelOverlay(image, seg), \"Basic Thresholding\")"
   ]
  },
  {
   "cell_type": "code",
   "execution_count": 20,
   "id": "d89866c7",
   "metadata": {},
   "outputs": [],
   "source": [
    "# To visualize the labels image in RGB with needs a image with 0-255 range\n",
    "image_rgb = sitk.Cast(sitk.RescaleIntensity(image), sitk.sitkUInt8)"
   ]
  },
  {
   "cell_type": "markdown",
   "id": "c5b1a5b7",
   "metadata": {},
   "source": [
    "<h3>Using Binary</h3>"
   ]
  },
  {
   "cell_type": "code",
   "execution_count": 18,
   "id": "781446f8",
   "metadata": {},
   "outputs": [
    {
     "data": {
      "application/vnd.jupyter.widget-view+json": {
       "model_id": "62c9e0820c5949a7ace902552afcfa60",
       "version_major": 2,
       "version_minor": 0
      },
      "text/plain": [
       "interactive(children=(IntSlider(value=127, description='z', max=254), Output()), _dom_classes=('widget-interac…"
      ]
     },
     "metadata": {},
     "output_type": "display_data"
    }
   ],
   "source": [
    "seg = sitk.BinaryThreshold(image, lowerThreshold=100, upperThreshold=400, insideValue=1, outsideValue=0)\n",
    "myshow(sitk.LabelOverlay(image_rgb, seg), \"Binary Thresholding\")"
   ]
  },
  {
   "cell_type": "markdown",
   "id": "76f94719",
   "metadata": {},
   "source": [
    "<h3>Using Otsu</h3>"
   ]
  },
  {
   "cell_type": "code",
   "execution_count": 17,
   "id": "c4f507f2",
   "metadata": {},
   "outputs": [
    {
     "data": {
      "application/vnd.jupyter.widget-view+json": {
       "model_id": "9fa7110f5a88491082ffe61c45e4a156",
       "version_major": 2,
       "version_minor": 0
      },
      "text/plain": [
       "interactive(children=(IntSlider(value=127, description='z', max=254), Output()), _dom_classes=('widget-interac…"
      ]
     },
     "metadata": {},
     "output_type": "display_data"
    },
    {
     "name": "stdout",
     "output_type": "stream",
     "text": [
      "1.0\n"
     ]
    }
   ],
   "source": [
    "otsu_filter = sitk.OtsuThresholdImageFilter()\n",
    "otsu_filter.SetInsideValue(0)\n",
    "otsu_filter.SetOutsideValue(1)\n",
    "seg = otsu_filter.Execute(image_rgb)\n",
    "myshow(sitk.LabelOverlay(image_rgb, seg), \"Otsu Thresholding\")\n",
    "\n",
    "print(otsu_filter.GetThreshold() )"
   ]
  },
  {
   "cell_type": "code",
   "execution_count": 42,
   "id": "f4697c41",
   "metadata": {},
   "outputs": [],
   "source": [
    "# Using an external viewer (ITK-SNAP or 3D Slicer) we identified a visually appealing window-level setting\n",
    "T1_WINDOW_LEVEL = (1050, 500)"
   ]
  },
  {
   "cell_type": "code",
   "execution_count": 45,
   "id": "73664e79",
   "metadata": {},
   "outputs": [],
   "source": [
    "# image = sitk.ReadImage(\"NBIA_images/manifest-1608266677008/MIDRC-RICORD-1A/MIDRC-RICORD-1A-419639-000082/08-02-2002-NA-CT CHEST WITHOUT CONTRAST-04614/2.000000-ROUTINE CHEST NON-CON-97100\")\n",
    "# Rescale the intensities and map them to [0,255], these are the default values for the output\n",
    "# We will use this image to display the results of segmentation\n",
    "img_T1_255 = sitk.Cast(\n",
    "    sitk.IntensityWindowing(\n",
    "        image,\n",
    "        windowMinimum=T1_WINDOW_LEVEL[1] - T1_WINDOW_LEVEL[0] / 2.0,\n",
    "        windowMaximum=T1_WINDOW_LEVEL[1] + T1_WINDOW_LEVEL[0] / 2.0,\n",
    "    ),\n",
    "    sitk.sitkUInt8,\n",
    ")"
   ]
  },
  {
   "cell_type": "markdown",
   "id": "53483d1a",
   "metadata": {},
   "source": [
    "<h3>Using ConnectedThreshold</h3>"
   ]
  },
  {
   "cell_type": "code",
   "execution_count": 46,
   "id": "0fd5fc25",
   "metadata": {},
   "outputs": [
    {
     "data": {
      "application/vnd.jupyter.widget-view+json": {
       "model_id": "455c2ad159f64b04b21e6a9405093698",
       "version_major": 2,
       "version_minor": 0
      },
      "text/plain": [
       "interactive(children=(IntSlider(value=127, description='z', max=254), Output()), _dom_classes=('widget-interac…"
      ]
     },
     "metadata": {},
     "output_type": "display_data"
    }
   ],
   "source": [
    "seg = sitk.ConnectedThreshold(image, seedList=[seed], lower=100, upper=190)\n",
    "myshow(sitk.LabelOverlay(imgage_rgb, seg), \"Connected Threshold\")"
   ]
  },
  {
   "cell_type": "code",
   "execution_count": 48,
   "id": "4e224967",
   "metadata": {},
   "outputs": [
    {
     "data": {
      "application/vnd.jupyter.widget-view+json": {
       "model_id": "4fbaa7c8c0b0440db5271983111848a0",
       "version_major": 2,
       "version_minor": 0
      },
      "text/plain": [
       "interactive(children=(IntSlider(value=127, description='z', max=254), Output()), _dom_classes=('widget-interac…"
      ]
     },
     "metadata": {},
     "output_type": "display_data"
    }
   ],
   "source": [
    "seg = sitk.ConfidenceConnected(image, seedList=[seed],\n",
    "                                   numberOfIterations=1,\n",
    "                                   multiplier=2.5,\n",
    "                                   initialNeighborhoodRadius=1,\n",
    "                                   replaceValue=1)\n",
    "\n",
    "myshow(sitk.LabelOverlay(image_rgb, seg), \"ConfidenceConnected\")"
   ]
  },
  {
   "cell_type": "markdown",
   "id": "d51e89ce",
   "metadata": {},
   "source": [
    "<h3>Using Level-Set</h3>"
   ]
  },
  {
   "cell_type": "code",
   "execution_count": 50,
   "id": "390b156e",
   "metadata": {},
   "outputs": [
    {
     "name": "stdout",
     "output_type": "stream",
     "text": [
      "-107.0 -107.0\n"
     ]
    }
   ],
   "source": [
    "stats = sitk.LabelStatisticsImageFilter()\n",
    "stats.Execute(image, seg)\n",
    "\n",
    "factor = 3.5\n",
    "lower_threshold = stats.GetMean(1)-factor*stats.GetSigma(1)\n",
    "upper_threshold = stats.GetMean(1)+factor*stats.GetSigma(1)\n",
    "print(lower_threshold,upper_threshold)"
   ]
  },
  {
   "cell_type": "code",
   "execution_count": 51,
   "id": "cc77549f",
   "metadata": {},
   "outputs": [],
   "source": [
    "init_ls = sitk.SignedMaurerDistanceMap(seg, insideIsPositive=True, useImageSpacing=True)"
   ]
  },
  {
   "cell_type": "code",
   "execution_count": 53,
   "id": "53d92f10",
   "metadata": {},
   "outputs": [
    {
     "name": "stdout",
     "output_type": "stream",
     "text": [
      "itk::simple::ThresholdSegmentationLevelSetImageFilter\n",
      "  LowerThreshold: -107\n",
      "  UpperThreshold: -107\n",
      "  MaximumRMSError: 0.02\n",
      "  PropagationScaling: 1\n",
      "  CurvatureScaling: 0.5\n",
      "  NumberOfIterations: 1000\n",
      "  ReverseExpansionDirection: 1\n",
      "  ElapsedIterations: 1\n",
      "  RMSChange: 0\n",
      "  Debug: 0\n",
      "  NumberOfThreads: 10\n",
      "  NumberOfWorkUnits: 0\n",
      "  Commands: (none)\n",
      "  ProgressMeasurement: 0.001\n",
      "  ActiveProcess: (none)\n",
      "\n"
     ]
    }
   ],
   "source": [
    "lsFilter = sitk.ThresholdSegmentationLevelSetImageFilter()\n",
    "lsFilter.SetLowerThreshold(lower_threshold)\n",
    "lsFilter.SetUpperThreshold(upper_threshold)\n",
    "lsFilter.SetMaximumRMSError(0.02)\n",
    "lsFilter.SetNumberOfIterations(1000)\n",
    "lsFilter.SetCurvatureScaling(.5)\n",
    "lsFilter.SetPropagationScaling(1)\n",
    "lsFilter.ReverseExpansionDirectionOn()\n",
    "ls = lsFilter.Execute(init_ls, sitk.Cast(image, sitk.sitkFloat32))\n",
    "print(lsFilter)"
   ]
  },
  {
   "cell_type": "code",
   "execution_count": 54,
   "id": "08f99cd3",
   "metadata": {},
   "outputs": [
    {
     "data": {
      "application/vnd.jupyter.widget-view+json": {
       "model_id": "f4326c8bdac04746a73e59e8ca21ee15",
       "version_major": 2,
       "version_minor": 0
      },
      "text/plain": [
       "interactive(children=(IntSlider(value=127, description='z', max=254), Output()), _dom_classes=('widget-interac…"
      ]
     },
     "metadata": {},
     "output_type": "display_data"
    }
   ],
   "source": [
    "myshow(sitk.LabelOverlay(image_rgb, ls>0))"
   ]
  },
  {
   "cell_type": "markdown",
   "id": "6f39ed8d",
   "metadata": {},
   "source": [
    "<h3>Quantification</h3>"
   ]
  },
  {
   "cell_type": "code",
   "execution_count": null,
   "id": "e412fb6e",
   "metadata": {},
   "outputs": [],
   "source": []
  }
 ],
 "metadata": {
  "kernelspec": {
   "display_name": "Python 3 (ipykernel)",
   "language": "python",
   "name": "python3"
  },
  "language_info": {
   "codemirror_mode": {
    "name": "ipython",
    "version": 3
   },
   "file_extension": ".py",
   "mimetype": "text/x-python",
   "name": "python",
   "nbconvert_exporter": "python",
   "pygments_lexer": "ipython3",
   "version": "3.9.7"
  }
 },
 "nbformat": 4,
 "nbformat_minor": 5
}
