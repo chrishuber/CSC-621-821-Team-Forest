{
 "cells": [
  {
   "cell_type": "markdown",
   "metadata": {},
   "source": [
    "<h3>Team Forest<br/>\n",
    "Biomedial Image Processing Application (BIPA)<br/>\n",
    "CSC821, Prof. K. Okada<br/>\n",
    "Spring 2022</h3>\n",
    "\n",
    "Please note: this code uses the Dicom images downloadable. Downloading the images requires first installing the NBIA Data Retriever on your local machine which is available in the App Store.\n",
    "\n",
    "https://wiki.cancerimagingarchive.net/pages/viewpage.action?pageId=80969771#809697717c5a8c0c0cef44e488b824bd7de60428\n"
   ]
  },
  {
   "cell_type": "markdown",
   "metadata": {},
   "source": [
    "<b>Image I/O</b>"
   ]
  },
  {
   "cell_type": "code",
   "execution_count": 101,
   "metadata": {},
   "outputs": [],
   "source": [
    "%matplotlib inline\n",
    "import matplotlib.pyplot as plt\n",
    "import SimpleITK as sitk\n",
    "\n",
    "import sys\n",
    "import os\n",
    "os.environ['KMP_DUPLICATE_LIB_OK']='True'\n"
   ]
  },
  {
   "cell_type": "code",
   "execution_count": 102,
   "metadata": {},
   "outputs": [
    {
     "name": "stdout",
     "output_type": "stream",
     "text": [
      "Reading Dicom directory: manifest-1612365584013/MIDRC-RICORD-1B/MIDRC-RICORD-1B-419639-000340/01-18-2005-NA-CT CHEST HIGH RESOLUTION-06379/2.000000-SUPINE CHEST RECON 12-09859\n",
      "Image size: 512 512 216\n",
      "Writing image: MIDRC-RICORD-1B_chest_image.nii\n"
     ]
    }
   ],
   "source": [
    "\n",
    "# https://wiki.cancerimagingarchive.net/pages/viewpage.action?pageId=80969771#809697717c5a8c0c0cef44e488b824bd7de60428\n",
    "# CHEST HIGH RESOLUTION\n",
    "\n",
    "# TO-DO: manually setting path here, need an interface to take input\n",
    "import matplotlib.pyplot as plt\n",
    "import SimpleITK as sitk\n",
    "\n",
    "import sys\n",
    "import os\n",
    "\n",
    "os.environ['KMP_DUPLICATE_LIB_OK']='True'\n",
    "\n",
    "dicom_dir = \"manifest-1612365584013/MIDRC-RICORD-1B/MIDRC-RICORD-1B-419639-000340/01-18-2005-NA-CT CHEST HIGH RESOLUTION-06379/2.000000-SUPINE CHEST RECON 12-09859\"\n",
    "\n",
    " \n",
    "\n",
    "\n",
    "print(\"Reading Dicom directory:\", dicom_dir)\n",
    "reader = sitk.ImageSeriesReader()\n",
    "\n",
    "dicom_names = reader.GetGDCMSeriesFileNames(dicom_dir)\n",
    "reader.SetFileNames(dicom_names)\n",
    "\n",
    "image = reader.Execute()\n",
    "\n",
    "size = image.GetSize()\n",
    "print(\"Image size:\", size[0], size[1], size[2])\n",
    "\n",
    "print(\"Writing image:\", \"MIDRC-RICORD-1B_chest_image.nii\")\n",
    "\n",
    "sitk.WriteImage(image, \"MIDRC-RICORD-1A_chest_image.nii\")\n",
    "\n",
    "if (\"SITK_NOSHOW\" not in os.environ):\n",
    "    sitk.Show(image, \"Dicom Series\")\n"
   ]
  },
  {
   "cell_type": "code",
   "execution_count": 103,
   "metadata": {},
   "outputs": [
    {
     "name": "stdout",
     "output_type": "stream",
     "text": [
      "origin: (-162.5, -131.0, -267.25)\n",
      "size: (512, 512, 216)\n",
      "spacing: (0.5898439884185791, 0.5898439884185791, 1.25)\n",
      "direction: (1.0, 0.0, 0.0, 0.0, 1.0, 0.0, 0.0, 0.0, 1.0)\n",
      "\n",
      "Dimensions: 3\n",
      "Width: 512\n",
      "Height: 512\n",
      "Depth: 216\n",
      "Pixel ID: 4\n",
      "Pixel Type: 32-bit signed integer\n",
      "Components Per Pixel: 1\n"
     ]
    }
   ],
   "source": [
    "# example of 3D image attributes\n",
    "\n",
    "import matplotlib.pyplot as plt\n",
    "import SimpleITK as sitk\n",
    "\n",
    "import sys\n",
    "import os\n",
    "\n",
    "\n",
    "covid_example = sitk.ReadImage(\"./MIDRC-RICORD-1B_chest_image.nii\")\n",
    "\n",
    "print(f\"origin: {covid_example.GetOrigin()}\")\n",
    "print(f\"size: {covid_example.GetSize()}\")\n",
    "print(f\"spacing: {covid_example.GetSpacing()}\")\n",
    "print(f\"direction: {covid_example.GetDirection()}\\n\")\n",
    "\n",
    "print(\"Dimensions: \" + str(covid_example.GetDimension()))\n",
    "print(\"Width: \" + str(covid_example.GetWidth()))\n",
    "print(\"Height: \" + str(covid_example.GetHeight()))\n",
    "print(\"Depth: \" + str(covid_example.GetDepth()))\n",
    "print(\"Pixel ID: \" + str(covid_example.GetPixelIDValue()))\n",
    "print(\"Pixel Type: \" + str(covid_example.GetPixelIDTypeAsString()))\n",
    "print(\"Components Per Pixel: \" + str(covid_example.GetNumberOfComponentsPerPixel()))"
   ]
  },
  {
   "cell_type": "code",
   "execution_count": 104,
   "metadata": {},
   "outputs": [
    {
     "data": {
      "application/vnd.jupyter.widget-view+json": {
       "model_id": "a1c2097987914d61938e1109c90a37f5",
       "version_major": 2,
       "version_minor": 0
      },
      "text/plain": [
       "interactive(children=(Dropdown(description='series_to_load', options=('1.2.826.0.1.3680043.10.474.419639.26733…"
      ]
     },
     "metadata": {},
     "output_type": "display_data"
    }
   ],
   "source": [
    "\n",
    "# extract modalities of various embedded scans\n",
    "\n",
    "import matplotlib.pyplot as plt\n",
    "import SimpleITK as sitk\n",
    "\n",
    "import sys\n",
    "import os\n",
    "\n",
    "\n",
    "from ipywidgets import interact, fixed\n",
    "\n",
    "data_directory = \"manifest-1612365584013/MIDRC-RICORD-1B/MIDRC-RICORD-1B-419639-003172/11-10-2008-NA-CT CHEST PULMONARY EMBOLISM CTPE-83431/3.000000-1.25mm PE-29753\"\n",
    "# Global variable 'selected_series' is updated by the interact function\n",
    "selected_series = \"\"\n",
    "file_reader = sitk.ImageFileReader()\n",
    "\n",
    "\n",
    "def DICOM_series_dropdown_callback(series_to_load, series_dictionary):\n",
    "    global selected_series\n",
    "    # Print some information about the series from the meta-data dictionary\n",
    "    # DICOM standard part 6, Data Dictionary: http://medical.nema.org/medical/dicom/current/output/pdf/part06.pdf\n",
    "    file_reader.SetFileName(series_dictionary[series_to_load][0])\n",
    "    file_reader.ReadImageInformation()\n",
    "    tags_to_print = {\n",
    "        \"0010|0010\": \"Patient name: \",\n",
    "        \"0008|0060\": \"Modality: \",\n",
    "        \"0008|0021\": \"Series date: \",\n",
    "        \"0008|0080\": \"Institution name: \",\n",
    "        \"0008|1050\": \"Performing physician's name: \",\n",
    "    }\n",
    "    for tag in tags_to_print:\n",
    "        try:\n",
    "            print(tags_to_print[tag] + file_reader.GetMetaData(tag))\n",
    "        except:  # Ignore if the tag isn't in the dictionary\n",
    "            pass\n",
    "    selected_series = series_to_load\n",
    "\n",
    "\n",
    "# Directory contains multiple DICOM studies/series, store\n",
    "# in dictionary with key being the series ID\n",
    "reader = sitk.ImageSeriesReader()\n",
    "series_file_names = {}\n",
    "series_IDs = reader.GetGDCMSeriesIDs(data_directory)\n",
    "# Check that we have at least one series\n",
    "if series_IDs:\n",
    "    for series in series_IDs:\n",
    "        series_file_names[series] = reader.GetGDCMSeriesFileNames(\n",
    "            data_directory, series\n",
    "        )\n",
    "\n",
    "    interact(\n",
    "        DICOM_series_dropdown_callback,\n",
    "        series_to_load=list(series_IDs),\n",
    "        series_dictionary=fixed(series_file_names),\n",
    "    )\n",
    "else:\n",
    "    print(\"Data directory does not contain any DICOM series.\")"
   ]
  },
  {
   "cell_type": "markdown",
   "metadata": {},
   "source": [
    "<b>Registration</b>"
   ]
  },
  {
   "cell_type": "code",
   "execution_count": 106,
   "metadata": {},
   "outputs": [
    {
     "name": "stdout",
     "output_type": "stream",
     "text": [
      "Reading Dicom directory: manifest-1612365584013/MIDRC-RICORD-1B/MIDRC-RICORD-1B-440808-000070/09-28-2008-NA-THORAXABDOMENPELVIS  CONT-11123/601.000000-VENOUS AXIAL THICK-11124\n",
      "Image size: 512 512 108\n",
      "Writing image: VENOUS AXIAL THICK_image.nii\n"
     ]
    }
   ],
   "source": [
    "# VENOUS AXIAL THICK\n",
    "\n",
    "# TO-DO: manually setting path here, need an interface to take input\n",
    "\n",
    "import matplotlib.pyplot as plt\n",
    "import SimpleITK as sitk\n",
    "\n",
    "import sys\n",
    "import os\n",
    "\n",
    "\n",
    "dicom_dir = \"manifest-1612365584013/MIDRC-RICORD-1B/MIDRC-RICORD-1B-440808-000070/09-28-2008-NA-THORAXABDOMENPELVIS  CONT-11123/601.000000-VENOUS AXIAL THICK-11124\"\n",
    "\n",
    "print(\"Reading Dicom directory:\", dicom_dir)\n",
    "reader = sitk.ImageSeriesReader()\n",
    "\n",
    "dicom_names = reader.GetGDCMSeriesFileNames(dicom_dir)\n",
    "\n",
    "reader.SetFileNames(dicom_names)\n",
    "\n",
    "image = reader.Execute()\n",
    "\n",
    "size = image.GetSize()\n",
    "print(\"Image size:\", size[0], size[1], size[2])\n",
    "\n",
    "print(\"Writing image:\", \"VENOUS AXIAL THICK_image.nii\")\n",
    "\n",
    "sitk.WriteImage(image, \"VENOUS AXIAL THICK_image.nii\")\n",
    "\n",
    "if (\"SITK_NOSHOW\" not in os.environ):\n",
    "    sitk.Show(image, \"Dicom Series\")"
   ]
  },
  {
   "cell_type": "code",
   "execution_count": 107,
   "metadata": {},
   "outputs": [
    {
     "name": "stdout",
     "output_type": "stream",
     "text": [
      "Dimensions: 3\n",
      "Width: 512\n",
      "Height: 512\n",
      "Depth: 108\n",
      "Pixel ID: 4\n",
      "Pixel Type: 32-bit signed integer\n",
      "Components Per Pixel: 1\n"
     ]
    }
   ],
   "source": [
    "import matplotlib.pyplot as plt\n",
    "import SimpleITK as sitk\n",
    "\n",
    "import sys\n",
    "import os\n",
    "\n",
    "covid_example = sitk.ReadImage(\"./VENOUS AXIAL THICK_image.nii\")\n",
    "\n",
    "print(\"Dimensions: \" + str(covid_example.GetDimension()))\n",
    "print(\"Width: \" + str(covid_example.GetWidth()))\n",
    "print(\"Height: \" + str(covid_example.GetHeight()))\n",
    "print(\"Depth: \" + str(covid_example.GetDepth()))\n",
    "print(\"Pixel ID: \" + str(covid_example.GetPixelIDValue()))\n",
    "print(\"Pixel Type: \" + str(covid_example.GetPixelIDTypeAsString()))\n",
    "print(\"Components Per Pixel: \" + str(covid_example.GetNumberOfComponentsPerPixel()))"
   ]
  },
  {
   "cell_type": "code",
   "execution_count": 9,
   "metadata": {},
   "outputs": [
    {
     "name": "stdout",
     "output_type": "stream",
     "text": [
      "Reading Dicom directory: Subject_1/98.12.2\n",
      "Image size: 512 512 425\n",
      "Writing image: Subject_1.nii\n"
     ]
    }
   ],
   "source": []
  },
  {
   "cell_type": "markdown",
   "metadata": {},
   "source": [
    "<b>Segmentation</b>"
   ]
  },
  {
   "cell_type": "code",
   "execution_count": null,
   "metadata": {},
   "outputs": [],
   "source": [
    "\n",
    "\n"
   ]
  },
  {
   "cell_type": "markdown",
   "metadata": {},
   "source": [
    "<b>Quantification</b>"
   ]
  },
  {
   "cell_type": "code",
   "execution_count": null,
   "metadata": {},
   "outputs": [],
   "source": []
  },
  {
   "cell_type": "code",
   "execution_count": null,
   "metadata": {},
   "outputs": [],
   "source": []
  },
  {
   "cell_type": "code",
   "execution_count": null,
   "metadata": {},
   "outputs": [],
   "source": []
  },
  {
   "cell_type": "code",
   "execution_count": null,
   "metadata": {},
   "outputs": [],
   "source": []
  }
 ],
 "metadata": {
  "kernelspec": {
   "display_name": "Python 3",
   "language": "python",
   "name": "python3"
  },
  "language_info": {
   "codemirror_mode": {
    "name": "ipython",
    "version": 3
   },
   "file_extension": ".py",
   "mimetype": "text/x-python",
   "name": "python",
   "nbconvert_exporter": "python",
   "pygments_lexer": "ipython3",
   "version": "3.8.3"
  }
 },
 "nbformat": 4,
 "nbformat_minor": 5
}
